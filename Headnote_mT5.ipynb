{
  "nbformat": 4,
  "nbformat_minor": 0,
  "metadata": {
    "colab": {
      "provenance": [],
      "machine_shape": "hm",
      "gpuType": "L4"
    },
    "kernelspec": {
      "name": "python3",
      "display_name": "Python 3"
    },
    "language_info": {
      "name": "python"
    },
    "accelerator": "GPU",
    "widgets": {
      "application/vnd.jupyter.widget-state+json": {
        "827055437e2b4f068a03e4cea9a27411": {
          "model_module": "@jupyter-widgets/controls",
          "model_name": "HBoxModel",
          "model_module_version": "1.5.0",
          "state": {
            "_dom_classes": [],
            "_model_module": "@jupyter-widgets/controls",
            "_model_module_version": "1.5.0",
            "_model_name": "HBoxModel",
            "_view_count": null,
            "_view_module": "@jupyter-widgets/controls",
            "_view_module_version": "1.5.0",
            "_view_name": "HBoxView",
            "box_style": "",
            "children": [
              "IPY_MODEL_54c847a19899483a9344e710f3153f9d",
              "IPY_MODEL_14b1a9a87faf42ec9ceca18eb88d97d9",
              "IPY_MODEL_41d5833b57de47b79f75f145c1f1d32e"
            ],
            "layout": "IPY_MODEL_820bbdbb08d04d36bfbc16672a631950"
          }
        },
        "54c847a19899483a9344e710f3153f9d": {
          "model_module": "@jupyter-widgets/controls",
          "model_name": "HTMLModel",
          "model_module_version": "1.5.0",
          "state": {
            "_dom_classes": [],
            "_model_module": "@jupyter-widgets/controls",
            "_model_module_version": "1.5.0",
            "_model_name": "HTMLModel",
            "_view_count": null,
            "_view_module": "@jupyter-widgets/controls",
            "_view_module_version": "1.5.0",
            "_view_name": "HTMLView",
            "description": "",
            "description_tooltip": null,
            "layout": "IPY_MODEL_ec1bafec88b14a1cae9cb97561516a90",
            "placeholder": "​",
            "style": "IPY_MODEL_b78baf0703ca483084a6db2bc06d4731",
            "value": "tokenizer_config.json: 100%"
          }
        },
        "14b1a9a87faf42ec9ceca18eb88d97d9": {
          "model_module": "@jupyter-widgets/controls",
          "model_name": "FloatProgressModel",
          "model_module_version": "1.5.0",
          "state": {
            "_dom_classes": [],
            "_model_module": "@jupyter-widgets/controls",
            "_model_module_version": "1.5.0",
            "_model_name": "FloatProgressModel",
            "_view_count": null,
            "_view_module": "@jupyter-widgets/controls",
            "_view_module_version": "1.5.0",
            "_view_name": "ProgressView",
            "bar_style": "success",
            "description": "",
            "description_tooltip": null,
            "layout": "IPY_MODEL_cd57ff86876d43098ece6fd3d84f4ee9",
            "max": 82,
            "min": 0,
            "orientation": "horizontal",
            "style": "IPY_MODEL_6bfd8afb222a4e39ab8bc8dd018d0804",
            "value": 82
          }
        },
        "41d5833b57de47b79f75f145c1f1d32e": {
          "model_module": "@jupyter-widgets/controls",
          "model_name": "HTMLModel",
          "model_module_version": "1.5.0",
          "state": {
            "_dom_classes": [],
            "_model_module": "@jupyter-widgets/controls",
            "_model_module_version": "1.5.0",
            "_model_name": "HTMLModel",
            "_view_count": null,
            "_view_module": "@jupyter-widgets/controls",
            "_view_module_version": "1.5.0",
            "_view_name": "HTMLView",
            "description": "",
            "description_tooltip": null,
            "layout": "IPY_MODEL_7b0ee8d914e442afac045c861115ec85",
            "placeholder": "​",
            "style": "IPY_MODEL_1d5f5619c3ae467bb3aa21ed82bfffb3",
            "value": " 82.0/82.0 [00:00&lt;00:00, 6.32kB/s]"
          }
        },
        "820bbdbb08d04d36bfbc16672a631950": {
          "model_module": "@jupyter-widgets/base",
          "model_name": "LayoutModel",
          "model_module_version": "1.2.0",
          "state": {
            "_model_module": "@jupyter-widgets/base",
            "_model_module_version": "1.2.0",
            "_model_name": "LayoutModel",
            "_view_count": null,
            "_view_module": "@jupyter-widgets/base",
            "_view_module_version": "1.2.0",
            "_view_name": "LayoutView",
            "align_content": null,
            "align_items": null,
            "align_self": null,
            "border": null,
            "bottom": null,
            "display": null,
            "flex": null,
            "flex_flow": null,
            "grid_area": null,
            "grid_auto_columns": null,
            "grid_auto_flow": null,
            "grid_auto_rows": null,
            "grid_column": null,
            "grid_gap": null,
            "grid_row": null,
            "grid_template_areas": null,
            "grid_template_columns": null,
            "grid_template_rows": null,
            "height": null,
            "justify_content": null,
            "justify_items": null,
            "left": null,
            "margin": null,
            "max_height": null,
            "max_width": null,
            "min_height": null,
            "min_width": null,
            "object_fit": null,
            "object_position": null,
            "order": null,
            "overflow": null,
            "overflow_x": null,
            "overflow_y": null,
            "padding": null,
            "right": null,
            "top": null,
            "visibility": null,
            "width": null
          }
        },
        "ec1bafec88b14a1cae9cb97561516a90": {
          "model_module": "@jupyter-widgets/base",
          "model_name": "LayoutModel",
          "model_module_version": "1.2.0",
          "state": {
            "_model_module": "@jupyter-widgets/base",
            "_model_module_version": "1.2.0",
            "_model_name": "LayoutModel",
            "_view_count": null,
            "_view_module": "@jupyter-widgets/base",
            "_view_module_version": "1.2.0",
            "_view_name": "LayoutView",
            "align_content": null,
            "align_items": null,
            "align_self": null,
            "border": null,
            "bottom": null,
            "display": null,
            "flex": null,
            "flex_flow": null,
            "grid_area": null,
            "grid_auto_columns": null,
            "grid_auto_flow": null,
            "grid_auto_rows": null,
            "grid_column": null,
            "grid_gap": null,
            "grid_row": null,
            "grid_template_areas": null,
            "grid_template_columns": null,
            "grid_template_rows": null,
            "height": null,
            "justify_content": null,
            "justify_items": null,
            "left": null,
            "margin": null,
            "max_height": null,
            "max_width": null,
            "min_height": null,
            "min_width": null,
            "object_fit": null,
            "object_position": null,
            "order": null,
            "overflow": null,
            "overflow_x": null,
            "overflow_y": null,
            "padding": null,
            "right": null,
            "top": null,
            "visibility": null,
            "width": null
          }
        },
        "b78baf0703ca483084a6db2bc06d4731": {
          "model_module": "@jupyter-widgets/controls",
          "model_name": "DescriptionStyleModel",
          "model_module_version": "1.5.0",
          "state": {
            "_model_module": "@jupyter-widgets/controls",
            "_model_module_version": "1.5.0",
            "_model_name": "DescriptionStyleModel",
            "_view_count": null,
            "_view_module": "@jupyter-widgets/base",
            "_view_module_version": "1.2.0",
            "_view_name": "StyleView",
            "description_width": ""
          }
        },
        "cd57ff86876d43098ece6fd3d84f4ee9": {
          "model_module": "@jupyter-widgets/base",
          "model_name": "LayoutModel",
          "model_module_version": "1.2.0",
          "state": {
            "_model_module": "@jupyter-widgets/base",
            "_model_module_version": "1.2.0",
            "_model_name": "LayoutModel",
            "_view_count": null,
            "_view_module": "@jupyter-widgets/base",
            "_view_module_version": "1.2.0",
            "_view_name": "LayoutView",
            "align_content": null,
            "align_items": null,
            "align_self": null,
            "border": null,
            "bottom": null,
            "display": null,
            "flex": null,
            "flex_flow": null,
            "grid_area": null,
            "grid_auto_columns": null,
            "grid_auto_flow": null,
            "grid_auto_rows": null,
            "grid_column": null,
            "grid_gap": null,
            "grid_row": null,
            "grid_template_areas": null,
            "grid_template_columns": null,
            "grid_template_rows": null,
            "height": null,
            "justify_content": null,
            "justify_items": null,
            "left": null,
            "margin": null,
            "max_height": null,
            "max_width": null,
            "min_height": null,
            "min_width": null,
            "object_fit": null,
            "object_position": null,
            "order": null,
            "overflow": null,
            "overflow_x": null,
            "overflow_y": null,
            "padding": null,
            "right": null,
            "top": null,
            "visibility": null,
            "width": null
          }
        },
        "6bfd8afb222a4e39ab8bc8dd018d0804": {
          "model_module": "@jupyter-widgets/controls",
          "model_name": "ProgressStyleModel",
          "model_module_version": "1.5.0",
          "state": {
            "_model_module": "@jupyter-widgets/controls",
            "_model_module_version": "1.5.0",
            "_model_name": "ProgressStyleModel",
            "_view_count": null,
            "_view_module": "@jupyter-widgets/base",
            "_view_module_version": "1.2.0",
            "_view_name": "StyleView",
            "bar_color": null,
            "description_width": ""
          }
        },
        "7b0ee8d914e442afac045c861115ec85": {
          "model_module": "@jupyter-widgets/base",
          "model_name": "LayoutModel",
          "model_module_version": "1.2.0",
          "state": {
            "_model_module": "@jupyter-widgets/base",
            "_model_module_version": "1.2.0",
            "_model_name": "LayoutModel",
            "_view_count": null,
            "_view_module": "@jupyter-widgets/base",
            "_view_module_version": "1.2.0",
            "_view_name": "LayoutView",
            "align_content": null,
            "align_items": null,
            "align_self": null,
            "border": null,
            "bottom": null,
            "display": null,
            "flex": null,
            "flex_flow": null,
            "grid_area": null,
            "grid_auto_columns": null,
            "grid_auto_flow": null,
            "grid_auto_rows": null,
            "grid_column": null,
            "grid_gap": null,
            "grid_row": null,
            "grid_template_areas": null,
            "grid_template_columns": null,
            "grid_template_rows": null,
            "height": null,
            "justify_content": null,
            "justify_items": null,
            "left": null,
            "margin": null,
            "max_height": null,
            "max_width": null,
            "min_height": null,
            "min_width": null,
            "object_fit": null,
            "object_position": null,
            "order": null,
            "overflow": null,
            "overflow_x": null,
            "overflow_y": null,
            "padding": null,
            "right": null,
            "top": null,
            "visibility": null,
            "width": null
          }
        },
        "1d5f5619c3ae467bb3aa21ed82bfffb3": {
          "model_module": "@jupyter-widgets/controls",
          "model_name": "DescriptionStyleModel",
          "model_module_version": "1.5.0",
          "state": {
            "_model_module": "@jupyter-widgets/controls",
            "_model_module_version": "1.5.0",
            "_model_name": "DescriptionStyleModel",
            "_view_count": null,
            "_view_module": "@jupyter-widgets/base",
            "_view_module_version": "1.2.0",
            "_view_name": "StyleView",
            "description_width": ""
          }
        },
        "9cefe1b8c896492791bb68b237f748e6": {
          "model_module": "@jupyter-widgets/controls",
          "model_name": "HBoxModel",
          "model_module_version": "1.5.0",
          "state": {
            "_dom_classes": [],
            "_model_module": "@jupyter-widgets/controls",
            "_model_module_version": "1.5.0",
            "_model_name": "HBoxModel",
            "_view_count": null,
            "_view_module": "@jupyter-widgets/controls",
            "_view_module_version": "1.5.0",
            "_view_name": "HBoxView",
            "box_style": "",
            "children": [
              "IPY_MODEL_3b4e7b8f9b3d48a8af3542fb5a3bfc25",
              "IPY_MODEL_6ffd488b19484e53ae5c6b032e26264a",
              "IPY_MODEL_ba84c42502bf4538af546ee1d543c415"
            ],
            "layout": "IPY_MODEL_6966516e8f264807b1c982945731c1c9"
          }
        },
        "3b4e7b8f9b3d48a8af3542fb5a3bfc25": {
          "model_module": "@jupyter-widgets/controls",
          "model_name": "HTMLModel",
          "model_module_version": "1.5.0",
          "state": {
            "_dom_classes": [],
            "_model_module": "@jupyter-widgets/controls",
            "_model_module_version": "1.5.0",
            "_model_name": "HTMLModel",
            "_view_count": null,
            "_view_module": "@jupyter-widgets/controls",
            "_view_module_version": "1.5.0",
            "_view_name": "HTMLView",
            "description": "",
            "description_tooltip": null,
            "layout": "IPY_MODEL_1108860727174175ba126c07f88ac1d4",
            "placeholder": "​",
            "style": "IPY_MODEL_d928a7de43e34aab8213ed7305b8f50d",
            "value": "spiece.model: 100%"
          }
        },
        "6ffd488b19484e53ae5c6b032e26264a": {
          "model_module": "@jupyter-widgets/controls",
          "model_name": "FloatProgressModel",
          "model_module_version": "1.5.0",
          "state": {
            "_dom_classes": [],
            "_model_module": "@jupyter-widgets/controls",
            "_model_module_version": "1.5.0",
            "_model_name": "FloatProgressModel",
            "_view_count": null,
            "_view_module": "@jupyter-widgets/controls",
            "_view_module_version": "1.5.0",
            "_view_name": "ProgressView",
            "bar_style": "success",
            "description": "",
            "description_tooltip": null,
            "layout": "IPY_MODEL_ef9ebe28ded9431ca79354df652f2b4a",
            "max": 4309802,
            "min": 0,
            "orientation": "horizontal",
            "style": "IPY_MODEL_5c8b739628c044448d82ebeb5ba8aca4",
            "value": 4309802
          }
        },
        "ba84c42502bf4538af546ee1d543c415": {
          "model_module": "@jupyter-widgets/controls",
          "model_name": "HTMLModel",
          "model_module_version": "1.5.0",
          "state": {
            "_dom_classes": [],
            "_model_module": "@jupyter-widgets/controls",
            "_model_module_version": "1.5.0",
            "_model_name": "HTMLModel",
            "_view_count": null,
            "_view_module": "@jupyter-widgets/controls",
            "_view_module_version": "1.5.0",
            "_view_name": "HTMLView",
            "description": "",
            "description_tooltip": null,
            "layout": "IPY_MODEL_79f4c9ef43274363a8800dfb1d1e8338",
            "placeholder": "​",
            "style": "IPY_MODEL_5b08f59314bd4d809568533e54eb6839",
            "value": " 4.31M/4.31M [00:00&lt;00:00, 6.73MB/s]"
          }
        },
        "6966516e8f264807b1c982945731c1c9": {
          "model_module": "@jupyter-widgets/base",
          "model_name": "LayoutModel",
          "model_module_version": "1.2.0",
          "state": {
            "_model_module": "@jupyter-widgets/base",
            "_model_module_version": "1.2.0",
            "_model_name": "LayoutModel",
            "_view_count": null,
            "_view_module": "@jupyter-widgets/base",
            "_view_module_version": "1.2.0",
            "_view_name": "LayoutView",
            "align_content": null,
            "align_items": null,
            "align_self": null,
            "border": null,
            "bottom": null,
            "display": null,
            "flex": null,
            "flex_flow": null,
            "grid_area": null,
            "grid_auto_columns": null,
            "grid_auto_flow": null,
            "grid_auto_rows": null,
            "grid_column": null,
            "grid_gap": null,
            "grid_row": null,
            "grid_template_areas": null,
            "grid_template_columns": null,
            "grid_template_rows": null,
            "height": null,
            "justify_content": null,
            "justify_items": null,
            "left": null,
            "margin": null,
            "max_height": null,
            "max_width": null,
            "min_height": null,
            "min_width": null,
            "object_fit": null,
            "object_position": null,
            "order": null,
            "overflow": null,
            "overflow_x": null,
            "overflow_y": null,
            "padding": null,
            "right": null,
            "top": null,
            "visibility": null,
            "width": null
          }
        },
        "1108860727174175ba126c07f88ac1d4": {
          "model_module": "@jupyter-widgets/base",
          "model_name": "LayoutModel",
          "model_module_version": "1.2.0",
          "state": {
            "_model_module": "@jupyter-widgets/base",
            "_model_module_version": "1.2.0",
            "_model_name": "LayoutModel",
            "_view_count": null,
            "_view_module": "@jupyter-widgets/base",
            "_view_module_version": "1.2.0",
            "_view_name": "LayoutView",
            "align_content": null,
            "align_items": null,
            "align_self": null,
            "border": null,
            "bottom": null,
            "display": null,
            "flex": null,
            "flex_flow": null,
            "grid_area": null,
            "grid_auto_columns": null,
            "grid_auto_flow": null,
            "grid_auto_rows": null,
            "grid_column": null,
            "grid_gap": null,
            "grid_row": null,
            "grid_template_areas": null,
            "grid_template_columns": null,
            "grid_template_rows": null,
            "height": null,
            "justify_content": null,
            "justify_items": null,
            "left": null,
            "margin": null,
            "max_height": null,
            "max_width": null,
            "min_height": null,
            "min_width": null,
            "object_fit": null,
            "object_position": null,
            "order": null,
            "overflow": null,
            "overflow_x": null,
            "overflow_y": null,
            "padding": null,
            "right": null,
            "top": null,
            "visibility": null,
            "width": null
          }
        },
        "d928a7de43e34aab8213ed7305b8f50d": {
          "model_module": "@jupyter-widgets/controls",
          "model_name": "DescriptionStyleModel",
          "model_module_version": "1.5.0",
          "state": {
            "_model_module": "@jupyter-widgets/controls",
            "_model_module_version": "1.5.0",
            "_model_name": "DescriptionStyleModel",
            "_view_count": null,
            "_view_module": "@jupyter-widgets/base",
            "_view_module_version": "1.2.0",
            "_view_name": "StyleView",
            "description_width": ""
          }
        },
        "ef9ebe28ded9431ca79354df652f2b4a": {
          "model_module": "@jupyter-widgets/base",
          "model_name": "LayoutModel",
          "model_module_version": "1.2.0",
          "state": {
            "_model_module": "@jupyter-widgets/base",
            "_model_module_version": "1.2.0",
            "_model_name": "LayoutModel",
            "_view_count": null,
            "_view_module": "@jupyter-widgets/base",
            "_view_module_version": "1.2.0",
            "_view_name": "LayoutView",
            "align_content": null,
            "align_items": null,
            "align_self": null,
            "border": null,
            "bottom": null,
            "display": null,
            "flex": null,
            "flex_flow": null,
            "grid_area": null,
            "grid_auto_columns": null,
            "grid_auto_flow": null,
            "grid_auto_rows": null,
            "grid_column": null,
            "grid_gap": null,
            "grid_row": null,
            "grid_template_areas": null,
            "grid_template_columns": null,
            "grid_template_rows": null,
            "height": null,
            "justify_content": null,
            "justify_items": null,
            "left": null,
            "margin": null,
            "max_height": null,
            "max_width": null,
            "min_height": null,
            "min_width": null,
            "object_fit": null,
            "object_position": null,
            "order": null,
            "overflow": null,
            "overflow_x": null,
            "overflow_y": null,
            "padding": null,
            "right": null,
            "top": null,
            "visibility": null,
            "width": null
          }
        },
        "5c8b739628c044448d82ebeb5ba8aca4": {
          "model_module": "@jupyter-widgets/controls",
          "model_name": "ProgressStyleModel",
          "model_module_version": "1.5.0",
          "state": {
            "_model_module": "@jupyter-widgets/controls",
            "_model_module_version": "1.5.0",
            "_model_name": "ProgressStyleModel",
            "_view_count": null,
            "_view_module": "@jupyter-widgets/base",
            "_view_module_version": "1.2.0",
            "_view_name": "StyleView",
            "bar_color": null,
            "description_width": ""
          }
        },
        "79f4c9ef43274363a8800dfb1d1e8338": {
          "model_module": "@jupyter-widgets/base",
          "model_name": "LayoutModel",
          "model_module_version": "1.2.0",
          "state": {
            "_model_module": "@jupyter-widgets/base",
            "_model_module_version": "1.2.0",
            "_model_name": "LayoutModel",
            "_view_count": null,
            "_view_module": "@jupyter-widgets/base",
            "_view_module_version": "1.2.0",
            "_view_name": "LayoutView",
            "align_content": null,
            "align_items": null,
            "align_self": null,
            "border": null,
            "bottom": null,
            "display": null,
            "flex": null,
            "flex_flow": null,
            "grid_area": null,
            "grid_auto_columns": null,
            "grid_auto_flow": null,
            "grid_auto_rows": null,
            "grid_column": null,
            "grid_gap": null,
            "grid_row": null,
            "grid_template_areas": null,
            "grid_template_columns": null,
            "grid_template_rows": null,
            "height": null,
            "justify_content": null,
            "justify_items": null,
            "left": null,
            "margin": null,
            "max_height": null,
            "max_width": null,
            "min_height": null,
            "min_width": null,
            "object_fit": null,
            "object_position": null,
            "order": null,
            "overflow": null,
            "overflow_x": null,
            "overflow_y": null,
            "padding": null,
            "right": null,
            "top": null,
            "visibility": null,
            "width": null
          }
        },
        "5b08f59314bd4d809568533e54eb6839": {
          "model_module": "@jupyter-widgets/controls",
          "model_name": "DescriptionStyleModel",
          "model_module_version": "1.5.0",
          "state": {
            "_model_module": "@jupyter-widgets/controls",
            "_model_module_version": "1.5.0",
            "_model_name": "DescriptionStyleModel",
            "_view_count": null,
            "_view_module": "@jupyter-widgets/base",
            "_view_module_version": "1.2.0",
            "_view_name": "StyleView",
            "description_width": ""
          }
        },
        "1d5b1df3e4b64d1ab0f798344441aa16": {
          "model_module": "@jupyter-widgets/controls",
          "model_name": "HBoxModel",
          "model_module_version": "1.5.0",
          "state": {
            "_dom_classes": [],
            "_model_module": "@jupyter-widgets/controls",
            "_model_module_version": "1.5.0",
            "_model_name": "HBoxModel",
            "_view_count": null,
            "_view_module": "@jupyter-widgets/controls",
            "_view_module_version": "1.5.0",
            "_view_name": "HBoxView",
            "box_style": "",
            "children": [
              "IPY_MODEL_7e210eddc7a942eaa0146072b754b70c",
              "IPY_MODEL_33197f886edd43aea986fd0e03861c43",
              "IPY_MODEL_1442a720fd524c52bfac936a3ee2c0a3"
            ],
            "layout": "IPY_MODEL_26b10fd8210f4e17841d185b2344ff23"
          }
        },
        "7e210eddc7a942eaa0146072b754b70c": {
          "model_module": "@jupyter-widgets/controls",
          "model_name": "HTMLModel",
          "model_module_version": "1.5.0",
          "state": {
            "_dom_classes": [],
            "_model_module": "@jupyter-widgets/controls",
            "_model_module_version": "1.5.0",
            "_model_name": "HTMLModel",
            "_view_count": null,
            "_view_module": "@jupyter-widgets/controls",
            "_view_module_version": "1.5.0",
            "_view_name": "HTMLView",
            "description": "",
            "description_tooltip": null,
            "layout": "IPY_MODEL_1d547adae1d944e18478b29d0219d7f0",
            "placeholder": "​",
            "style": "IPY_MODEL_674cdbe0898a47d4b2a61f934d6c635a",
            "value": "special_tokens_map.json: 100%"
          }
        },
        "33197f886edd43aea986fd0e03861c43": {
          "model_module": "@jupyter-widgets/controls",
          "model_name": "FloatProgressModel",
          "model_module_version": "1.5.0",
          "state": {
            "_dom_classes": [],
            "_model_module": "@jupyter-widgets/controls",
            "_model_module_version": "1.5.0",
            "_model_name": "FloatProgressModel",
            "_view_count": null,
            "_view_module": "@jupyter-widgets/controls",
            "_view_module_version": "1.5.0",
            "_view_name": "ProgressView",
            "bar_style": "success",
            "description": "",
            "description_tooltip": null,
            "layout": "IPY_MODEL_e94ed7e14b86497cadb29017724bfada",
            "max": 99,
            "min": 0,
            "orientation": "horizontal",
            "style": "IPY_MODEL_559ef7d6433f42b88a70343e0ed0dbcf",
            "value": 99
          }
        },
        "1442a720fd524c52bfac936a3ee2c0a3": {
          "model_module": "@jupyter-widgets/controls",
          "model_name": "HTMLModel",
          "model_module_version": "1.5.0",
          "state": {
            "_dom_classes": [],
            "_model_module": "@jupyter-widgets/controls",
            "_model_module_version": "1.5.0",
            "_model_name": "HTMLModel",
            "_view_count": null,
            "_view_module": "@jupyter-widgets/controls",
            "_view_module_version": "1.5.0",
            "_view_name": "HTMLView",
            "description": "",
            "description_tooltip": null,
            "layout": "IPY_MODEL_78f4a9197a924b34b794739f77ad7330",
            "placeholder": "​",
            "style": "IPY_MODEL_1b10f01855024e6fa8325d3257662eb4",
            "value": " 99.0/99.0 [00:00&lt;00:00, 8.58kB/s]"
          }
        },
        "26b10fd8210f4e17841d185b2344ff23": {
          "model_module": "@jupyter-widgets/base",
          "model_name": "LayoutModel",
          "model_module_version": "1.2.0",
          "state": {
            "_model_module": "@jupyter-widgets/base",
            "_model_module_version": "1.2.0",
            "_model_name": "LayoutModel",
            "_view_count": null,
            "_view_module": "@jupyter-widgets/base",
            "_view_module_version": "1.2.0",
            "_view_name": "LayoutView",
            "align_content": null,
            "align_items": null,
            "align_self": null,
            "border": null,
            "bottom": null,
            "display": null,
            "flex": null,
            "flex_flow": null,
            "grid_area": null,
            "grid_auto_columns": null,
            "grid_auto_flow": null,
            "grid_auto_rows": null,
            "grid_column": null,
            "grid_gap": null,
            "grid_row": null,
            "grid_template_areas": null,
            "grid_template_columns": null,
            "grid_template_rows": null,
            "height": null,
            "justify_content": null,
            "justify_items": null,
            "left": null,
            "margin": null,
            "max_height": null,
            "max_width": null,
            "min_height": null,
            "min_width": null,
            "object_fit": null,
            "object_position": null,
            "order": null,
            "overflow": null,
            "overflow_x": null,
            "overflow_y": null,
            "padding": null,
            "right": null,
            "top": null,
            "visibility": null,
            "width": null
          }
        },
        "1d547adae1d944e18478b29d0219d7f0": {
          "model_module": "@jupyter-widgets/base",
          "model_name": "LayoutModel",
          "model_module_version": "1.2.0",
          "state": {
            "_model_module": "@jupyter-widgets/base",
            "_model_module_version": "1.2.0",
            "_model_name": "LayoutModel",
            "_view_count": null,
            "_view_module": "@jupyter-widgets/base",
            "_view_module_version": "1.2.0",
            "_view_name": "LayoutView",
            "align_content": null,
            "align_items": null,
            "align_self": null,
            "border": null,
            "bottom": null,
            "display": null,
            "flex": null,
            "flex_flow": null,
            "grid_area": null,
            "grid_auto_columns": null,
            "grid_auto_flow": null,
            "grid_auto_rows": null,
            "grid_column": null,
            "grid_gap": null,
            "grid_row": null,
            "grid_template_areas": null,
            "grid_template_columns": null,
            "grid_template_rows": null,
            "height": null,
            "justify_content": null,
            "justify_items": null,
            "left": null,
            "margin": null,
            "max_height": null,
            "max_width": null,
            "min_height": null,
            "min_width": null,
            "object_fit": null,
            "object_position": null,
            "order": null,
            "overflow": null,
            "overflow_x": null,
            "overflow_y": null,
            "padding": null,
            "right": null,
            "top": null,
            "visibility": null,
            "width": null
          }
        },
        "674cdbe0898a47d4b2a61f934d6c635a": {
          "model_module": "@jupyter-widgets/controls",
          "model_name": "DescriptionStyleModel",
          "model_module_version": "1.5.0",
          "state": {
            "_model_module": "@jupyter-widgets/controls",
            "_model_module_version": "1.5.0",
            "_model_name": "DescriptionStyleModel",
            "_view_count": null,
            "_view_module": "@jupyter-widgets/base",
            "_view_module_version": "1.2.0",
            "_view_name": "StyleView",
            "description_width": ""
          }
        },
        "e94ed7e14b86497cadb29017724bfada": {
          "model_module": "@jupyter-widgets/base",
          "model_name": "LayoutModel",
          "model_module_version": "1.2.0",
          "state": {
            "_model_module": "@jupyter-widgets/base",
            "_model_module_version": "1.2.0",
            "_model_name": "LayoutModel",
            "_view_count": null,
            "_view_module": "@jupyter-widgets/base",
            "_view_module_version": "1.2.0",
            "_view_name": "LayoutView",
            "align_content": null,
            "align_items": null,
            "align_self": null,
            "border": null,
            "bottom": null,
            "display": null,
            "flex": null,
            "flex_flow": null,
            "grid_area": null,
            "grid_auto_columns": null,
            "grid_auto_flow": null,
            "grid_auto_rows": null,
            "grid_column": null,
            "grid_gap": null,
            "grid_row": null,
            "grid_template_areas": null,
            "grid_template_columns": null,
            "grid_template_rows": null,
            "height": null,
            "justify_content": null,
            "justify_items": null,
            "left": null,
            "margin": null,
            "max_height": null,
            "max_width": null,
            "min_height": null,
            "min_width": null,
            "object_fit": null,
            "object_position": null,
            "order": null,
            "overflow": null,
            "overflow_x": null,
            "overflow_y": null,
            "padding": null,
            "right": null,
            "top": null,
            "visibility": null,
            "width": null
          }
        },
        "559ef7d6433f42b88a70343e0ed0dbcf": {
          "model_module": "@jupyter-widgets/controls",
          "model_name": "ProgressStyleModel",
          "model_module_version": "1.5.0",
          "state": {
            "_model_module": "@jupyter-widgets/controls",
            "_model_module_version": "1.5.0",
            "_model_name": "ProgressStyleModel",
            "_view_count": null,
            "_view_module": "@jupyter-widgets/base",
            "_view_module_version": "1.2.0",
            "_view_name": "StyleView",
            "bar_color": null,
            "description_width": ""
          }
        },
        "78f4a9197a924b34b794739f77ad7330": {
          "model_module": "@jupyter-widgets/base",
          "model_name": "LayoutModel",
          "model_module_version": "1.2.0",
          "state": {
            "_model_module": "@jupyter-widgets/base",
            "_model_module_version": "1.2.0",
            "_model_name": "LayoutModel",
            "_view_count": null,
            "_view_module": "@jupyter-widgets/base",
            "_view_module_version": "1.2.0",
            "_view_name": "LayoutView",
            "align_content": null,
            "align_items": null,
            "align_self": null,
            "border": null,
            "bottom": null,
            "display": null,
            "flex": null,
            "flex_flow": null,
            "grid_area": null,
            "grid_auto_columns": null,
            "grid_auto_flow": null,
            "grid_auto_rows": null,
            "grid_column": null,
            "grid_gap": null,
            "grid_row": null,
            "grid_template_areas": null,
            "grid_template_columns": null,
            "grid_template_rows": null,
            "height": null,
            "justify_content": null,
            "justify_items": null,
            "left": null,
            "margin": null,
            "max_height": null,
            "max_width": null,
            "min_height": null,
            "min_width": null,
            "object_fit": null,
            "object_position": null,
            "order": null,
            "overflow": null,
            "overflow_x": null,
            "overflow_y": null,
            "padding": null,
            "right": null,
            "top": null,
            "visibility": null,
            "width": null
          }
        },
        "1b10f01855024e6fa8325d3257662eb4": {
          "model_module": "@jupyter-widgets/controls",
          "model_name": "DescriptionStyleModel",
          "model_module_version": "1.5.0",
          "state": {
            "_model_module": "@jupyter-widgets/controls",
            "_model_module_version": "1.5.0",
            "_model_name": "DescriptionStyleModel",
            "_view_count": null,
            "_view_module": "@jupyter-widgets/base",
            "_view_module_version": "1.2.0",
            "_view_name": "StyleView",
            "description_width": ""
          }
        },
        "0d7c8ea27fc7472aaff5302abfc95777": {
          "model_module": "@jupyter-widgets/controls",
          "model_name": "HBoxModel",
          "model_module_version": "1.5.0",
          "state": {
            "_dom_classes": [],
            "_model_module": "@jupyter-widgets/controls",
            "_model_module_version": "1.5.0",
            "_model_name": "HBoxModel",
            "_view_count": null,
            "_view_module": "@jupyter-widgets/controls",
            "_view_module_version": "1.5.0",
            "_view_name": "HBoxView",
            "box_style": "",
            "children": [
              "IPY_MODEL_e722e86538fd4aef912b123cfc676e4e",
              "IPY_MODEL_75ee0017e792439c930181418a4ce6c4",
              "IPY_MODEL_6297144a31fa4b95a510c665bd7876b4"
            ],
            "layout": "IPY_MODEL_9adba7ccc7644940b357966982d58c11"
          }
        },
        "e722e86538fd4aef912b123cfc676e4e": {
          "model_module": "@jupyter-widgets/controls",
          "model_name": "HTMLModel",
          "model_module_version": "1.5.0",
          "state": {
            "_dom_classes": [],
            "_model_module": "@jupyter-widgets/controls",
            "_model_module_version": "1.5.0",
            "_model_name": "HTMLModel",
            "_view_count": null,
            "_view_module": "@jupyter-widgets/controls",
            "_view_module_version": "1.5.0",
            "_view_name": "HTMLView",
            "description": "",
            "description_tooltip": null,
            "layout": "IPY_MODEL_20e0b21e90f54565b176b1777bc78eef",
            "placeholder": "​",
            "style": "IPY_MODEL_3d64201b2aea4d19aeae4a0bb9bc5a7d",
            "value": "config.json: 100%"
          }
        },
        "75ee0017e792439c930181418a4ce6c4": {
          "model_module": "@jupyter-widgets/controls",
          "model_name": "FloatProgressModel",
          "model_module_version": "1.5.0",
          "state": {
            "_dom_classes": [],
            "_model_module": "@jupyter-widgets/controls",
            "_model_module_version": "1.5.0",
            "_model_name": "FloatProgressModel",
            "_view_count": null,
            "_view_module": "@jupyter-widgets/controls",
            "_view_module_version": "1.5.0",
            "_view_name": "ProgressView",
            "bar_style": "success",
            "description": "",
            "description_tooltip": null,
            "layout": "IPY_MODEL_d3fe4c4c260744eeb8d34200fa5ddb7f",
            "max": 553,
            "min": 0,
            "orientation": "horizontal",
            "style": "IPY_MODEL_49f2b0bf088d4bdeb9ccc745eff0e904",
            "value": 553
          }
        },
        "6297144a31fa4b95a510c665bd7876b4": {
          "model_module": "@jupyter-widgets/controls",
          "model_name": "HTMLModel",
          "model_module_version": "1.5.0",
          "state": {
            "_dom_classes": [],
            "_model_module": "@jupyter-widgets/controls",
            "_model_module_version": "1.5.0",
            "_model_name": "HTMLModel",
            "_view_count": null,
            "_view_module": "@jupyter-widgets/controls",
            "_view_module_version": "1.5.0",
            "_view_name": "HTMLView",
            "description": "",
            "description_tooltip": null,
            "layout": "IPY_MODEL_8b70804dbe1a4313bb3fb09a1aaffeff",
            "placeholder": "​",
            "style": "IPY_MODEL_9019ccd2cdeb421cac6c30b620be07db",
            "value": " 553/553 [00:00&lt;00:00, 49.0kB/s]"
          }
        },
        "9adba7ccc7644940b357966982d58c11": {
          "model_module": "@jupyter-widgets/base",
          "model_name": "LayoutModel",
          "model_module_version": "1.2.0",
          "state": {
            "_model_module": "@jupyter-widgets/base",
            "_model_module_version": "1.2.0",
            "_model_name": "LayoutModel",
            "_view_count": null,
            "_view_module": "@jupyter-widgets/base",
            "_view_module_version": "1.2.0",
            "_view_name": "LayoutView",
            "align_content": null,
            "align_items": null,
            "align_self": null,
            "border": null,
            "bottom": null,
            "display": null,
            "flex": null,
            "flex_flow": null,
            "grid_area": null,
            "grid_auto_columns": null,
            "grid_auto_flow": null,
            "grid_auto_rows": null,
            "grid_column": null,
            "grid_gap": null,
            "grid_row": null,
            "grid_template_areas": null,
            "grid_template_columns": null,
            "grid_template_rows": null,
            "height": null,
            "justify_content": null,
            "justify_items": null,
            "left": null,
            "margin": null,
            "max_height": null,
            "max_width": null,
            "min_height": null,
            "min_width": null,
            "object_fit": null,
            "object_position": null,
            "order": null,
            "overflow": null,
            "overflow_x": null,
            "overflow_y": null,
            "padding": null,
            "right": null,
            "top": null,
            "visibility": null,
            "width": null
          }
        },
        "20e0b21e90f54565b176b1777bc78eef": {
          "model_module": "@jupyter-widgets/base",
          "model_name": "LayoutModel",
          "model_module_version": "1.2.0",
          "state": {
            "_model_module": "@jupyter-widgets/base",
            "_model_module_version": "1.2.0",
            "_model_name": "LayoutModel",
            "_view_count": null,
            "_view_module": "@jupyter-widgets/base",
            "_view_module_version": "1.2.0",
            "_view_name": "LayoutView",
            "align_content": null,
            "align_items": null,
            "align_self": null,
            "border": null,
            "bottom": null,
            "display": null,
            "flex": null,
            "flex_flow": null,
            "grid_area": null,
            "grid_auto_columns": null,
            "grid_auto_flow": null,
            "grid_auto_rows": null,
            "grid_column": null,
            "grid_gap": null,
            "grid_row": null,
            "grid_template_areas": null,
            "grid_template_columns": null,
            "grid_template_rows": null,
            "height": null,
            "justify_content": null,
            "justify_items": null,
            "left": null,
            "margin": null,
            "max_height": null,
            "max_width": null,
            "min_height": null,
            "min_width": null,
            "object_fit": null,
            "object_position": null,
            "order": null,
            "overflow": null,
            "overflow_x": null,
            "overflow_y": null,
            "padding": null,
            "right": null,
            "top": null,
            "visibility": null,
            "width": null
          }
        },
        "3d64201b2aea4d19aeae4a0bb9bc5a7d": {
          "model_module": "@jupyter-widgets/controls",
          "model_name": "DescriptionStyleModel",
          "model_module_version": "1.5.0",
          "state": {
            "_model_module": "@jupyter-widgets/controls",
            "_model_module_version": "1.5.0",
            "_model_name": "DescriptionStyleModel",
            "_view_count": null,
            "_view_module": "@jupyter-widgets/base",
            "_view_module_version": "1.2.0",
            "_view_name": "StyleView",
            "description_width": ""
          }
        },
        "d3fe4c4c260744eeb8d34200fa5ddb7f": {
          "model_module": "@jupyter-widgets/base",
          "model_name": "LayoutModel",
          "model_module_version": "1.2.0",
          "state": {
            "_model_module": "@jupyter-widgets/base",
            "_model_module_version": "1.2.0",
            "_model_name": "LayoutModel",
            "_view_count": null,
            "_view_module": "@jupyter-widgets/base",
            "_view_module_version": "1.2.0",
            "_view_name": "LayoutView",
            "align_content": null,
            "align_items": null,
            "align_self": null,
            "border": null,
            "bottom": null,
            "display": null,
            "flex": null,
            "flex_flow": null,
            "grid_area": null,
            "grid_auto_columns": null,
            "grid_auto_flow": null,
            "grid_auto_rows": null,
            "grid_column": null,
            "grid_gap": null,
            "grid_row": null,
            "grid_template_areas": null,
            "grid_template_columns": null,
            "grid_template_rows": null,
            "height": null,
            "justify_content": null,
            "justify_items": null,
            "left": null,
            "margin": null,
            "max_height": null,
            "max_width": null,
            "min_height": null,
            "min_width": null,
            "object_fit": null,
            "object_position": null,
            "order": null,
            "overflow": null,
            "overflow_x": null,
            "overflow_y": null,
            "padding": null,
            "right": null,
            "top": null,
            "visibility": null,
            "width": null
          }
        },
        "49f2b0bf088d4bdeb9ccc745eff0e904": {
          "model_module": "@jupyter-widgets/controls",
          "model_name": "ProgressStyleModel",
          "model_module_version": "1.5.0",
          "state": {
            "_model_module": "@jupyter-widgets/controls",
            "_model_module_version": "1.5.0",
            "_model_name": "ProgressStyleModel",
            "_view_count": null,
            "_view_module": "@jupyter-widgets/base",
            "_view_module_version": "1.2.0",
            "_view_name": "StyleView",
            "bar_color": null,
            "description_width": ""
          }
        },
        "8b70804dbe1a4313bb3fb09a1aaffeff": {
          "model_module": "@jupyter-widgets/base",
          "model_name": "LayoutModel",
          "model_module_version": "1.2.0",
          "state": {
            "_model_module": "@jupyter-widgets/base",
            "_model_module_version": "1.2.0",
            "_model_name": "LayoutModel",
            "_view_count": null,
            "_view_module": "@jupyter-widgets/base",
            "_view_module_version": "1.2.0",
            "_view_name": "LayoutView",
            "align_content": null,
            "align_items": null,
            "align_self": null,
            "border": null,
            "bottom": null,
            "display": null,
            "flex": null,
            "flex_flow": null,
            "grid_area": null,
            "grid_auto_columns": null,
            "grid_auto_flow": null,
            "grid_auto_rows": null,
            "grid_column": null,
            "grid_gap": null,
            "grid_row": null,
            "grid_template_areas": null,
            "grid_template_columns": null,
            "grid_template_rows": null,
            "height": null,
            "justify_content": null,
            "justify_items": null,
            "left": null,
            "margin": null,
            "max_height": null,
            "max_width": null,
            "min_height": null,
            "min_width": null,
            "object_fit": null,
            "object_position": null,
            "order": null,
            "overflow": null,
            "overflow_x": null,
            "overflow_y": null,
            "padding": null,
            "right": null,
            "top": null,
            "visibility": null,
            "width": null
          }
        },
        "9019ccd2cdeb421cac6c30b620be07db": {
          "model_module": "@jupyter-widgets/controls",
          "model_name": "DescriptionStyleModel",
          "model_module_version": "1.5.0",
          "state": {
            "_model_module": "@jupyter-widgets/controls",
            "_model_module_version": "1.5.0",
            "_model_name": "DescriptionStyleModel",
            "_view_count": null,
            "_view_module": "@jupyter-widgets/base",
            "_view_module_version": "1.2.0",
            "_view_name": "StyleView",
            "description_width": ""
          }
        },
        "c18e70fe79524e50834e8c85e4dc7db4": {
          "model_module": "@jupyter-widgets/controls",
          "model_name": "HBoxModel",
          "model_module_version": "1.5.0",
          "state": {
            "_dom_classes": [],
            "_model_module": "@jupyter-widgets/controls",
            "_model_module_version": "1.5.0",
            "_model_name": "HBoxModel",
            "_view_count": null,
            "_view_module": "@jupyter-widgets/controls",
            "_view_module_version": "1.5.0",
            "_view_name": "HBoxView",
            "box_style": "",
            "children": [
              "IPY_MODEL_93c8525a50244968a121da2113789f02",
              "IPY_MODEL_f493f57af5fc47789c1dfce977e7901e",
              "IPY_MODEL_a78ed47fb9364c3fbe552614ec8859da"
            ],
            "layout": "IPY_MODEL_7beed1a07f5f448d9b16d9417781e4b8"
          }
        },
        "93c8525a50244968a121da2113789f02": {
          "model_module": "@jupyter-widgets/controls",
          "model_name": "HTMLModel",
          "model_module_version": "1.5.0",
          "state": {
            "_dom_classes": [],
            "_model_module": "@jupyter-widgets/controls",
            "_model_module_version": "1.5.0",
            "_model_name": "HTMLModel",
            "_view_count": null,
            "_view_module": "@jupyter-widgets/controls",
            "_view_module_version": "1.5.0",
            "_view_name": "HTMLView",
            "description": "",
            "description_tooltip": null,
            "layout": "IPY_MODEL_4388ca5d608941cda70d6e50e4000a06",
            "placeholder": "​",
            "style": "IPY_MODEL_14ef62abbd67443d9e7713c8a87450d3",
            "value": "tf_model.h5: 100%"
          }
        },
        "f493f57af5fc47789c1dfce977e7901e": {
          "model_module": "@jupyter-widgets/controls",
          "model_name": "FloatProgressModel",
          "model_module_version": "1.5.0",
          "state": {
            "_dom_classes": [],
            "_model_module": "@jupyter-widgets/controls",
            "_model_module_version": "1.5.0",
            "_model_name": "FloatProgressModel",
            "_view_count": null,
            "_view_module": "@jupyter-widgets/controls",
            "_view_module_version": "1.5.0",
            "_view_name": "ProgressView",
            "bar_style": "success",
            "description": "",
            "description_tooltip": null,
            "layout": "IPY_MODEL_ba2eba0eb61343e3b1c32ccbd2801f33",
            "max": 1201093688,
            "min": 0,
            "orientation": "horizontal",
            "style": "IPY_MODEL_a46bda74671b4a12b9cd154596966bc6",
            "value": 1201093688
          }
        },
        "a78ed47fb9364c3fbe552614ec8859da": {
          "model_module": "@jupyter-widgets/controls",
          "model_name": "HTMLModel",
          "model_module_version": "1.5.0",
          "state": {
            "_dom_classes": [],
            "_model_module": "@jupyter-widgets/controls",
            "_model_module_version": "1.5.0",
            "_model_name": "HTMLModel",
            "_view_count": null,
            "_view_module": "@jupyter-widgets/controls",
            "_view_module_version": "1.5.0",
            "_view_name": "HTMLView",
            "description": "",
            "description_tooltip": null,
            "layout": "IPY_MODEL_0ff9a15f1afa44ca9b3cb0da6d15a0a8",
            "placeholder": "​",
            "style": "IPY_MODEL_b7a43db5b4ce4a29ba1c64cf0d87a5f9",
            "value": " 1.20G/1.20G [00:03&lt;00:00, 370MB/s]"
          }
        },
        "7beed1a07f5f448d9b16d9417781e4b8": {
          "model_module": "@jupyter-widgets/base",
          "model_name": "LayoutModel",
          "model_module_version": "1.2.0",
          "state": {
            "_model_module": "@jupyter-widgets/base",
            "_model_module_version": "1.2.0",
            "_model_name": "LayoutModel",
            "_view_count": null,
            "_view_module": "@jupyter-widgets/base",
            "_view_module_version": "1.2.0",
            "_view_name": "LayoutView",
            "align_content": null,
            "align_items": null,
            "align_self": null,
            "border": null,
            "bottom": null,
            "display": null,
            "flex": null,
            "flex_flow": null,
            "grid_area": null,
            "grid_auto_columns": null,
            "grid_auto_flow": null,
            "grid_auto_rows": null,
            "grid_column": null,
            "grid_gap": null,
            "grid_row": null,
            "grid_template_areas": null,
            "grid_template_columns": null,
            "grid_template_rows": null,
            "height": null,
            "justify_content": null,
            "justify_items": null,
            "left": null,
            "margin": null,
            "max_height": null,
            "max_width": null,
            "min_height": null,
            "min_width": null,
            "object_fit": null,
            "object_position": null,
            "order": null,
            "overflow": null,
            "overflow_x": null,
            "overflow_y": null,
            "padding": null,
            "right": null,
            "top": null,
            "visibility": null,
            "width": null
          }
        },
        "4388ca5d608941cda70d6e50e4000a06": {
          "model_module": "@jupyter-widgets/base",
          "model_name": "LayoutModel",
          "model_module_version": "1.2.0",
          "state": {
            "_model_module": "@jupyter-widgets/base",
            "_model_module_version": "1.2.0",
            "_model_name": "LayoutModel",
            "_view_count": null,
            "_view_module": "@jupyter-widgets/base",
            "_view_module_version": "1.2.0",
            "_view_name": "LayoutView",
            "align_content": null,
            "align_items": null,
            "align_self": null,
            "border": null,
            "bottom": null,
            "display": null,
            "flex": null,
            "flex_flow": null,
            "grid_area": null,
            "grid_auto_columns": null,
            "grid_auto_flow": null,
            "grid_auto_rows": null,
            "grid_column": null,
            "grid_gap": null,
            "grid_row": null,
            "grid_template_areas": null,
            "grid_template_columns": null,
            "grid_template_rows": null,
            "height": null,
            "justify_content": null,
            "justify_items": null,
            "left": null,
            "margin": null,
            "max_height": null,
            "max_width": null,
            "min_height": null,
            "min_width": null,
            "object_fit": null,
            "object_position": null,
            "order": null,
            "overflow": null,
            "overflow_x": null,
            "overflow_y": null,
            "padding": null,
            "right": null,
            "top": null,
            "visibility": null,
            "width": null
          }
        },
        "14ef62abbd67443d9e7713c8a87450d3": {
          "model_module": "@jupyter-widgets/controls",
          "model_name": "DescriptionStyleModel",
          "model_module_version": "1.5.0",
          "state": {
            "_model_module": "@jupyter-widgets/controls",
            "_model_module_version": "1.5.0",
            "_model_name": "DescriptionStyleModel",
            "_view_count": null,
            "_view_module": "@jupyter-widgets/base",
            "_view_module_version": "1.2.0",
            "_view_name": "StyleView",
            "description_width": ""
          }
        },
        "ba2eba0eb61343e3b1c32ccbd2801f33": {
          "model_module": "@jupyter-widgets/base",
          "model_name": "LayoutModel",
          "model_module_version": "1.2.0",
          "state": {
            "_model_module": "@jupyter-widgets/base",
            "_model_module_version": "1.2.0",
            "_model_name": "LayoutModel",
            "_view_count": null,
            "_view_module": "@jupyter-widgets/base",
            "_view_module_version": "1.2.0",
            "_view_name": "LayoutView",
            "align_content": null,
            "align_items": null,
            "align_self": null,
            "border": null,
            "bottom": null,
            "display": null,
            "flex": null,
            "flex_flow": null,
            "grid_area": null,
            "grid_auto_columns": null,
            "grid_auto_flow": null,
            "grid_auto_rows": null,
            "grid_column": null,
            "grid_gap": null,
            "grid_row": null,
            "grid_template_areas": null,
            "grid_template_columns": null,
            "grid_template_rows": null,
            "height": null,
            "justify_content": null,
            "justify_items": null,
            "left": null,
            "margin": null,
            "max_height": null,
            "max_width": null,
            "min_height": null,
            "min_width": null,
            "object_fit": null,
            "object_position": null,
            "order": null,
            "overflow": null,
            "overflow_x": null,
            "overflow_y": null,
            "padding": null,
            "right": null,
            "top": null,
            "visibility": null,
            "width": null
          }
        },
        "a46bda74671b4a12b9cd154596966bc6": {
          "model_module": "@jupyter-widgets/controls",
          "model_name": "ProgressStyleModel",
          "model_module_version": "1.5.0",
          "state": {
            "_model_module": "@jupyter-widgets/controls",
            "_model_module_version": "1.5.0",
            "_model_name": "ProgressStyleModel",
            "_view_count": null,
            "_view_module": "@jupyter-widgets/base",
            "_view_module_version": "1.2.0",
            "_view_name": "StyleView",
            "bar_color": null,
            "description_width": ""
          }
        },
        "0ff9a15f1afa44ca9b3cb0da6d15a0a8": {
          "model_module": "@jupyter-widgets/base",
          "model_name": "LayoutModel",
          "model_module_version": "1.2.0",
          "state": {
            "_model_module": "@jupyter-widgets/base",
            "_model_module_version": "1.2.0",
            "_model_name": "LayoutModel",
            "_view_count": null,
            "_view_module": "@jupyter-widgets/base",
            "_view_module_version": "1.2.0",
            "_view_name": "LayoutView",
            "align_content": null,
            "align_items": null,
            "align_self": null,
            "border": null,
            "bottom": null,
            "display": null,
            "flex": null,
            "flex_flow": null,
            "grid_area": null,
            "grid_auto_columns": null,
            "grid_auto_flow": null,
            "grid_auto_rows": null,
            "grid_column": null,
            "grid_gap": null,
            "grid_row": null,
            "grid_template_areas": null,
            "grid_template_columns": null,
            "grid_template_rows": null,
            "height": null,
            "justify_content": null,
            "justify_items": null,
            "left": null,
            "margin": null,
            "max_height": null,
            "max_width": null,
            "min_height": null,
            "min_width": null,
            "object_fit": null,
            "object_position": null,
            "order": null,
            "overflow": null,
            "overflow_x": null,
            "overflow_y": null,
            "padding": null,
            "right": null,
            "top": null,
            "visibility": null,
            "width": null
          }
        },
        "b7a43db5b4ce4a29ba1c64cf0d87a5f9": {
          "model_module": "@jupyter-widgets/controls",
          "model_name": "DescriptionStyleModel",
          "model_module_version": "1.5.0",
          "state": {
            "_model_module": "@jupyter-widgets/controls",
            "_model_module_version": "1.5.0",
            "_model_name": "DescriptionStyleModel",
            "_view_count": null,
            "_view_module": "@jupyter-widgets/base",
            "_view_module_version": "1.2.0",
            "_view_name": "StyleView",
            "description_width": ""
          }
        },
        "213489e23b4b4cba8cacc22b5cd85d03": {
          "model_module": "@jupyter-widgets/controls",
          "model_name": "HBoxModel",
          "model_module_version": "1.5.0",
          "state": {
            "_dom_classes": [],
            "_model_module": "@jupyter-widgets/controls",
            "_model_module_version": "1.5.0",
            "_model_name": "HBoxModel",
            "_view_count": null,
            "_view_module": "@jupyter-widgets/controls",
            "_view_module_version": "1.5.0",
            "_view_name": "HBoxView",
            "box_style": "",
            "children": [
              "IPY_MODEL_1982a1f3ed314abc9585ff7a0aab7828",
              "IPY_MODEL_5f1ce7ba527c4cd09507b0930e275e9f",
              "IPY_MODEL_a58d23314ee641b590f1bb7326b3e1a8"
            ],
            "layout": "IPY_MODEL_5b336e0a9ebf4c5c845cf8ecd8604aac"
          }
        },
        "1982a1f3ed314abc9585ff7a0aab7828": {
          "model_module": "@jupyter-widgets/controls",
          "model_name": "HTMLModel",
          "model_module_version": "1.5.0",
          "state": {
            "_dom_classes": [],
            "_model_module": "@jupyter-widgets/controls",
            "_model_module_version": "1.5.0",
            "_model_name": "HTMLModel",
            "_view_count": null,
            "_view_module": "@jupyter-widgets/controls",
            "_view_module_version": "1.5.0",
            "_view_name": "HTMLView",
            "description": "",
            "description_tooltip": null,
            "layout": "IPY_MODEL_8bc2dd350e214c6db969f90e9b305e68",
            "placeholder": "​",
            "style": "IPY_MODEL_e988b9471dbd4ca6a401a202d8ae3087",
            "value": "generation_config.json: 100%"
          }
        },
        "5f1ce7ba527c4cd09507b0930e275e9f": {
          "model_module": "@jupyter-widgets/controls",
          "model_name": "FloatProgressModel",
          "model_module_version": "1.5.0",
          "state": {
            "_dom_classes": [],
            "_model_module": "@jupyter-widgets/controls",
            "_model_module_version": "1.5.0",
            "_model_name": "FloatProgressModel",
            "_view_count": null,
            "_view_module": "@jupyter-widgets/controls",
            "_view_module_version": "1.5.0",
            "_view_name": "ProgressView",
            "bar_style": "success",
            "description": "",
            "description_tooltip": null,
            "layout": "IPY_MODEL_5b631cc54e964193bf990af6c72c9d6e",
            "max": 147,
            "min": 0,
            "orientation": "horizontal",
            "style": "IPY_MODEL_e661e7608de84e77a99ba1a29d703dac",
            "value": 147
          }
        },
        "a58d23314ee641b590f1bb7326b3e1a8": {
          "model_module": "@jupyter-widgets/controls",
          "model_name": "HTMLModel",
          "model_module_version": "1.5.0",
          "state": {
            "_dom_classes": [],
            "_model_module": "@jupyter-widgets/controls",
            "_model_module_version": "1.5.0",
            "_model_name": "HTMLModel",
            "_view_count": null,
            "_view_module": "@jupyter-widgets/controls",
            "_view_module_version": "1.5.0",
            "_view_name": "HTMLView",
            "description": "",
            "description_tooltip": null,
            "layout": "IPY_MODEL_763147e3517948cf815fca1355162b00",
            "placeholder": "​",
            "style": "IPY_MODEL_e61b0c1c700a44849f22842ba9536950",
            "value": " 147/147 [00:00&lt;00:00, 12.9kB/s]"
          }
        },
        "5b336e0a9ebf4c5c845cf8ecd8604aac": {
          "model_module": "@jupyter-widgets/base",
          "model_name": "LayoutModel",
          "model_module_version": "1.2.0",
          "state": {
            "_model_module": "@jupyter-widgets/base",
            "_model_module_version": "1.2.0",
            "_model_name": "LayoutModel",
            "_view_count": null,
            "_view_module": "@jupyter-widgets/base",
            "_view_module_version": "1.2.0",
            "_view_name": "LayoutView",
            "align_content": null,
            "align_items": null,
            "align_self": null,
            "border": null,
            "bottom": null,
            "display": null,
            "flex": null,
            "flex_flow": null,
            "grid_area": null,
            "grid_auto_columns": null,
            "grid_auto_flow": null,
            "grid_auto_rows": null,
            "grid_column": null,
            "grid_gap": null,
            "grid_row": null,
            "grid_template_areas": null,
            "grid_template_columns": null,
            "grid_template_rows": null,
            "height": null,
            "justify_content": null,
            "justify_items": null,
            "left": null,
            "margin": null,
            "max_height": null,
            "max_width": null,
            "min_height": null,
            "min_width": null,
            "object_fit": null,
            "object_position": null,
            "order": null,
            "overflow": null,
            "overflow_x": null,
            "overflow_y": null,
            "padding": null,
            "right": null,
            "top": null,
            "visibility": null,
            "width": null
          }
        },
        "8bc2dd350e214c6db969f90e9b305e68": {
          "model_module": "@jupyter-widgets/base",
          "model_name": "LayoutModel",
          "model_module_version": "1.2.0",
          "state": {
            "_model_module": "@jupyter-widgets/base",
            "_model_module_version": "1.2.0",
            "_model_name": "LayoutModel",
            "_view_count": null,
            "_view_module": "@jupyter-widgets/base",
            "_view_module_version": "1.2.0",
            "_view_name": "LayoutView",
            "align_content": null,
            "align_items": null,
            "align_self": null,
            "border": null,
            "bottom": null,
            "display": null,
            "flex": null,
            "flex_flow": null,
            "grid_area": null,
            "grid_auto_columns": null,
            "grid_auto_flow": null,
            "grid_auto_rows": null,
            "grid_column": null,
            "grid_gap": null,
            "grid_row": null,
            "grid_template_areas": null,
            "grid_template_columns": null,
            "grid_template_rows": null,
            "height": null,
            "justify_content": null,
            "justify_items": null,
            "left": null,
            "margin": null,
            "max_height": null,
            "max_width": null,
            "min_height": null,
            "min_width": null,
            "object_fit": null,
            "object_position": null,
            "order": null,
            "overflow": null,
            "overflow_x": null,
            "overflow_y": null,
            "padding": null,
            "right": null,
            "top": null,
            "visibility": null,
            "width": null
          }
        },
        "e988b9471dbd4ca6a401a202d8ae3087": {
          "model_module": "@jupyter-widgets/controls",
          "model_name": "DescriptionStyleModel",
          "model_module_version": "1.5.0",
          "state": {
            "_model_module": "@jupyter-widgets/controls",
            "_model_module_version": "1.5.0",
            "_model_name": "DescriptionStyleModel",
            "_view_count": null,
            "_view_module": "@jupyter-widgets/base",
            "_view_module_version": "1.2.0",
            "_view_name": "StyleView",
            "description_width": ""
          }
        },
        "5b631cc54e964193bf990af6c72c9d6e": {
          "model_module": "@jupyter-widgets/base",
          "model_name": "LayoutModel",
          "model_module_version": "1.2.0",
          "state": {
            "_model_module": "@jupyter-widgets/base",
            "_model_module_version": "1.2.0",
            "_model_name": "LayoutModel",
            "_view_count": null,
            "_view_module": "@jupyter-widgets/base",
            "_view_module_version": "1.2.0",
            "_view_name": "LayoutView",
            "align_content": null,
            "align_items": null,
            "align_self": null,
            "border": null,
            "bottom": null,
            "display": null,
            "flex": null,
            "flex_flow": null,
            "grid_area": null,
            "grid_auto_columns": null,
            "grid_auto_flow": null,
            "grid_auto_rows": null,
            "grid_column": null,
            "grid_gap": null,
            "grid_row": null,
            "grid_template_areas": null,
            "grid_template_columns": null,
            "grid_template_rows": null,
            "height": null,
            "justify_content": null,
            "justify_items": null,
            "left": null,
            "margin": null,
            "max_height": null,
            "max_width": null,
            "min_height": null,
            "min_width": null,
            "object_fit": null,
            "object_position": null,
            "order": null,
            "overflow": null,
            "overflow_x": null,
            "overflow_y": null,
            "padding": null,
            "right": null,
            "top": null,
            "visibility": null,
            "width": null
          }
        },
        "e661e7608de84e77a99ba1a29d703dac": {
          "model_module": "@jupyter-widgets/controls",
          "model_name": "ProgressStyleModel",
          "model_module_version": "1.5.0",
          "state": {
            "_model_module": "@jupyter-widgets/controls",
            "_model_module_version": "1.5.0",
            "_model_name": "ProgressStyleModel",
            "_view_count": null,
            "_view_module": "@jupyter-widgets/base",
            "_view_module_version": "1.2.0",
            "_view_name": "StyleView",
            "bar_color": null,
            "description_width": ""
          }
        },
        "763147e3517948cf815fca1355162b00": {
          "model_module": "@jupyter-widgets/base",
          "model_name": "LayoutModel",
          "model_module_version": "1.2.0",
          "state": {
            "_model_module": "@jupyter-widgets/base",
            "_model_module_version": "1.2.0",
            "_model_name": "LayoutModel",
            "_view_count": null,
            "_view_module": "@jupyter-widgets/base",
            "_view_module_version": "1.2.0",
            "_view_name": "LayoutView",
            "align_content": null,
            "align_items": null,
            "align_self": null,
            "border": null,
            "bottom": null,
            "display": null,
            "flex": null,
            "flex_flow": null,
            "grid_area": null,
            "grid_auto_columns": null,
            "grid_auto_flow": null,
            "grid_auto_rows": null,
            "grid_column": null,
            "grid_gap": null,
            "grid_row": null,
            "grid_template_areas": null,
            "grid_template_columns": null,
            "grid_template_rows": null,
            "height": null,
            "justify_content": null,
            "justify_items": null,
            "left": null,
            "margin": null,
            "max_height": null,
            "max_width": null,
            "min_height": null,
            "min_width": null,
            "object_fit": null,
            "object_position": null,
            "order": null,
            "overflow": null,
            "overflow_x": null,
            "overflow_y": null,
            "padding": null,
            "right": null,
            "top": null,
            "visibility": null,
            "width": null
          }
        },
        "e61b0c1c700a44849f22842ba9536950": {
          "model_module": "@jupyter-widgets/controls",
          "model_name": "DescriptionStyleModel",
          "model_module_version": "1.5.0",
          "state": {
            "_model_module": "@jupyter-widgets/controls",
            "_model_module_version": "1.5.0",
            "_model_name": "DescriptionStyleModel",
            "_view_count": null,
            "_view_module": "@jupyter-widgets/base",
            "_view_module_version": "1.2.0",
            "_view_name": "StyleView",
            "description_width": ""
          }
        },
        "acba31b6ae264639a4bac027861f6874": {
          "model_module": "@jupyter-widgets/controls",
          "model_name": "HBoxModel",
          "model_module_version": "1.5.0",
          "state": {
            "_dom_classes": [],
            "_model_module": "@jupyter-widgets/controls",
            "_model_module_version": "1.5.0",
            "_model_name": "HBoxModel",
            "_view_count": null,
            "_view_module": "@jupyter-widgets/controls",
            "_view_module_version": "1.5.0",
            "_view_name": "HBoxView",
            "box_style": "",
            "children": [
              "IPY_MODEL_754e61b3c54b43babd90fdee31ab8b16",
              "IPY_MODEL_d7900fed02a645218d797b3adc628a10",
              "IPY_MODEL_239c6a281a16496895ff2940581e87ef"
            ],
            "layout": "IPY_MODEL_b3a6eec6178b42a6a32489ff82a28d7f"
          }
        },
        "754e61b3c54b43babd90fdee31ab8b16": {
          "model_module": "@jupyter-widgets/controls",
          "model_name": "HTMLModel",
          "model_module_version": "1.5.0",
          "state": {
            "_dom_classes": [],
            "_model_module": "@jupyter-widgets/controls",
            "_model_module_version": "1.5.0",
            "_model_name": "HTMLModel",
            "_view_count": null,
            "_view_module": "@jupyter-widgets/controls",
            "_view_module_version": "1.5.0",
            "_view_name": "HTMLView",
            "description": "",
            "description_tooltip": null,
            "layout": "IPY_MODEL_075ee627175a4ed8b75716f0a9c139f3",
            "placeholder": "​",
            "style": "IPY_MODEL_690524cdf6d2451aa2adfdd010b44eed",
            "value": "Running tokenizer: 100%"
          }
        },
        "d7900fed02a645218d797b3adc628a10": {
          "model_module": "@jupyter-widgets/controls",
          "model_name": "FloatProgressModel",
          "model_module_version": "1.5.0",
          "state": {
            "_dom_classes": [],
            "_model_module": "@jupyter-widgets/controls",
            "_model_module_version": "1.5.0",
            "_model_name": "FloatProgressModel",
            "_view_count": null,
            "_view_module": "@jupyter-widgets/controls",
            "_view_module_version": "1.5.0",
            "_view_name": "ProgressView",
            "bar_style": "",
            "description": "",
            "description_tooltip": null,
            "layout": "IPY_MODEL_fd0a52c4949b4a48b576b4dff4f6334b",
            "max": 2204,
            "min": 0,
            "orientation": "horizontal",
            "style": "IPY_MODEL_68eba64a4fef440291bce88d437f7413",
            "value": 2204
          }
        },
        "239c6a281a16496895ff2940581e87ef": {
          "model_module": "@jupyter-widgets/controls",
          "model_name": "HTMLModel",
          "model_module_version": "1.5.0",
          "state": {
            "_dom_classes": [],
            "_model_module": "@jupyter-widgets/controls",
            "_model_module_version": "1.5.0",
            "_model_name": "HTMLModel",
            "_view_count": null,
            "_view_module": "@jupyter-widgets/controls",
            "_view_module_version": "1.5.0",
            "_view_name": "HTMLView",
            "description": "",
            "description_tooltip": null,
            "layout": "IPY_MODEL_d00e2d6f537b4b7599edcdf0b71b7944",
            "placeholder": "​",
            "style": "IPY_MODEL_c91e95161a454ac6adb9689c6ddf52d3",
            "value": " 2204/2204 [01:04&lt;00:00, 34.57 examples/s]"
          }
        },
        "b3a6eec6178b42a6a32489ff82a28d7f": {
          "model_module": "@jupyter-widgets/base",
          "model_name": "LayoutModel",
          "model_module_version": "1.2.0",
          "state": {
            "_model_module": "@jupyter-widgets/base",
            "_model_module_version": "1.2.0",
            "_model_name": "LayoutModel",
            "_view_count": null,
            "_view_module": "@jupyter-widgets/base",
            "_view_module_version": "1.2.0",
            "_view_name": "LayoutView",
            "align_content": null,
            "align_items": null,
            "align_self": null,
            "border": null,
            "bottom": null,
            "display": null,
            "flex": null,
            "flex_flow": null,
            "grid_area": null,
            "grid_auto_columns": null,
            "grid_auto_flow": null,
            "grid_auto_rows": null,
            "grid_column": null,
            "grid_gap": null,
            "grid_row": null,
            "grid_template_areas": null,
            "grid_template_columns": null,
            "grid_template_rows": null,
            "height": null,
            "justify_content": null,
            "justify_items": null,
            "left": null,
            "margin": null,
            "max_height": null,
            "max_width": null,
            "min_height": null,
            "min_width": null,
            "object_fit": null,
            "object_position": null,
            "order": null,
            "overflow": null,
            "overflow_x": null,
            "overflow_y": null,
            "padding": null,
            "right": null,
            "top": null,
            "visibility": "hidden",
            "width": null
          }
        },
        "075ee627175a4ed8b75716f0a9c139f3": {
          "model_module": "@jupyter-widgets/base",
          "model_name": "LayoutModel",
          "model_module_version": "1.2.0",
          "state": {
            "_model_module": "@jupyter-widgets/base",
            "_model_module_version": "1.2.0",
            "_model_name": "LayoutModel",
            "_view_count": null,
            "_view_module": "@jupyter-widgets/base",
            "_view_module_version": "1.2.0",
            "_view_name": "LayoutView",
            "align_content": null,
            "align_items": null,
            "align_self": null,
            "border": null,
            "bottom": null,
            "display": null,
            "flex": null,
            "flex_flow": null,
            "grid_area": null,
            "grid_auto_columns": null,
            "grid_auto_flow": null,
            "grid_auto_rows": null,
            "grid_column": null,
            "grid_gap": null,
            "grid_row": null,
            "grid_template_areas": null,
            "grid_template_columns": null,
            "grid_template_rows": null,
            "height": null,
            "justify_content": null,
            "justify_items": null,
            "left": null,
            "margin": null,
            "max_height": null,
            "max_width": null,
            "min_height": null,
            "min_width": null,
            "object_fit": null,
            "object_position": null,
            "order": null,
            "overflow": null,
            "overflow_x": null,
            "overflow_y": null,
            "padding": null,
            "right": null,
            "top": null,
            "visibility": null,
            "width": null
          }
        },
        "690524cdf6d2451aa2adfdd010b44eed": {
          "model_module": "@jupyter-widgets/controls",
          "model_name": "DescriptionStyleModel",
          "model_module_version": "1.5.0",
          "state": {
            "_model_module": "@jupyter-widgets/controls",
            "_model_module_version": "1.5.0",
            "_model_name": "DescriptionStyleModel",
            "_view_count": null,
            "_view_module": "@jupyter-widgets/base",
            "_view_module_version": "1.2.0",
            "_view_name": "StyleView",
            "description_width": ""
          }
        },
        "fd0a52c4949b4a48b576b4dff4f6334b": {
          "model_module": "@jupyter-widgets/base",
          "model_name": "LayoutModel",
          "model_module_version": "1.2.0",
          "state": {
            "_model_module": "@jupyter-widgets/base",
            "_model_module_version": "1.2.0",
            "_model_name": "LayoutModel",
            "_view_count": null,
            "_view_module": "@jupyter-widgets/base",
            "_view_module_version": "1.2.0",
            "_view_name": "LayoutView",
            "align_content": null,
            "align_items": null,
            "align_self": null,
            "border": null,
            "bottom": null,
            "display": null,
            "flex": null,
            "flex_flow": null,
            "grid_area": null,
            "grid_auto_columns": null,
            "grid_auto_flow": null,
            "grid_auto_rows": null,
            "grid_column": null,
            "grid_gap": null,
            "grid_row": null,
            "grid_template_areas": null,
            "grid_template_columns": null,
            "grid_template_rows": null,
            "height": null,
            "justify_content": null,
            "justify_items": null,
            "left": null,
            "margin": null,
            "max_height": null,
            "max_width": null,
            "min_height": null,
            "min_width": null,
            "object_fit": null,
            "object_position": null,
            "order": null,
            "overflow": null,
            "overflow_x": null,
            "overflow_y": null,
            "padding": null,
            "right": null,
            "top": null,
            "visibility": null,
            "width": null
          }
        },
        "68eba64a4fef440291bce88d437f7413": {
          "model_module": "@jupyter-widgets/controls",
          "model_name": "ProgressStyleModel",
          "model_module_version": "1.5.0",
          "state": {
            "_model_module": "@jupyter-widgets/controls",
            "_model_module_version": "1.5.0",
            "_model_name": "ProgressStyleModel",
            "_view_count": null,
            "_view_module": "@jupyter-widgets/base",
            "_view_module_version": "1.2.0",
            "_view_name": "StyleView",
            "bar_color": null,
            "description_width": ""
          }
        },
        "d00e2d6f537b4b7599edcdf0b71b7944": {
          "model_module": "@jupyter-widgets/base",
          "model_name": "LayoutModel",
          "model_module_version": "1.2.0",
          "state": {
            "_model_module": "@jupyter-widgets/base",
            "_model_module_version": "1.2.0",
            "_model_name": "LayoutModel",
            "_view_count": null,
            "_view_module": "@jupyter-widgets/base",
            "_view_module_version": "1.2.0",
            "_view_name": "LayoutView",
            "align_content": null,
            "align_items": null,
            "align_self": null,
            "border": null,
            "bottom": null,
            "display": null,
            "flex": null,
            "flex_flow": null,
            "grid_area": null,
            "grid_auto_columns": null,
            "grid_auto_flow": null,
            "grid_auto_rows": null,
            "grid_column": null,
            "grid_gap": null,
            "grid_row": null,
            "grid_template_areas": null,
            "grid_template_columns": null,
            "grid_template_rows": null,
            "height": null,
            "justify_content": null,
            "justify_items": null,
            "left": null,
            "margin": null,
            "max_height": null,
            "max_width": null,
            "min_height": null,
            "min_width": null,
            "object_fit": null,
            "object_position": null,
            "order": null,
            "overflow": null,
            "overflow_x": null,
            "overflow_y": null,
            "padding": null,
            "right": null,
            "top": null,
            "visibility": null,
            "width": null
          }
        },
        "c91e95161a454ac6adb9689c6ddf52d3": {
          "model_module": "@jupyter-widgets/controls",
          "model_name": "DescriptionStyleModel",
          "model_module_version": "1.5.0",
          "state": {
            "_model_module": "@jupyter-widgets/controls",
            "_model_module_version": "1.5.0",
            "_model_name": "DescriptionStyleModel",
            "_view_count": null,
            "_view_module": "@jupyter-widgets/base",
            "_view_module_version": "1.2.0",
            "_view_name": "StyleView",
            "description_width": ""
          }
        }
      }
    }
  },
  "cells": [
    {
      "cell_type": "code",
      "source": [
        "!unzip -q /content/English-2000-Judgments.zip"
      ],
      "metadata": {
        "id": "QrtzLncff-GA"
      },
      "execution_count": null,
      "outputs": []
    },
    {
      "cell_type": "code",
      "source": [
        "!pip3 install datasets==2.12.0 -q"
      ],
      "metadata": {
        "id": "o_GegRNc-klr",
        "colab": {
          "base_uri": "https://localhost:8080/"
        },
        "collapsed": true,
        "outputId": "bff303bb-de83-4154-e649-8b5b8c617ad2"
      },
      "execution_count": null,
      "outputs": [
        {
          "output_type": "stream",
          "name": "stdout",
          "text": [
            "\u001b[?25l     \u001b[90m━━━━━━━━━━━━━━━━━━━━━━━━━━━━━━━━━━━━━━━━\u001b[0m \u001b[32m0.0/474.6 kB\u001b[0m \u001b[31m?\u001b[0m eta \u001b[36m-:--:--\u001b[0m\r\u001b[2K     \u001b[91m━━━━━━━━━━━━━━━━━━\u001b[0m\u001b[91m╸\u001b[0m\u001b[90m━━━━━━━━━━━━━━━━━━━━━\u001b[0m \u001b[32m225.3/474.6 kB\u001b[0m \u001b[31m7.0 MB/s\u001b[0m eta \u001b[36m0:00:01\u001b[0m\r\u001b[2K     \u001b[90m━━━━━━━━━━━━━━━━━━━━━━━━━━━━━━━━━━━━━━━━\u001b[0m \u001b[32m474.6/474.6 kB\u001b[0m \u001b[31m9.4 MB/s\u001b[0m eta \u001b[36m0:00:00\u001b[0m\n",
            "\u001b[2K     \u001b[90m━━━━━━━━━━━━━━━━━━━━━━━━━━━━━━━━━━━━━━━━\u001b[0m \u001b[32m110.5/110.5 kB\u001b[0m \u001b[31m18.2 MB/s\u001b[0m eta \u001b[36m0:00:00\u001b[0m\n",
            "\u001b[2K     \u001b[90m━━━━━━━━━━━━━━━━━━━━━━━━━━━━━━━━━━━━━━━━\u001b[0m \u001b[32m194.1/194.1 kB\u001b[0m \u001b[31m24.0 MB/s\u001b[0m eta \u001b[36m0:00:00\u001b[0m\n",
            "\u001b[2K     \u001b[90m━━━━━━━━━━━━━━━━━━━━━━━━━━━━━━━━━━━━━━━━\u001b[0m \u001b[32m134.8/134.8 kB\u001b[0m \u001b[31m19.4 MB/s\u001b[0m eta \u001b[36m0:00:00\u001b[0m\n",
            "\u001b[2K     \u001b[90m━━━━━━━━━━━━━━━━━━━━━━━━━━━━━━━━━━━━━━━━\u001b[0m \u001b[32m134.8/134.8 kB\u001b[0m \u001b[31m17.0 MB/s\u001b[0m eta \u001b[36m0:00:00\u001b[0m\n",
            "\u001b[2K     \u001b[90m━━━━━━━━━━━━━━━━━━━━━━━━━━━━━━━━━━━━━━━━\u001b[0m \u001b[32m134.3/134.3 kB\u001b[0m \u001b[31m21.3 MB/s\u001b[0m eta \u001b[36m0:00:00\u001b[0m\n",
            "\u001b[?25h"
          ]
        }
      ]
    },
    {
      "cell_type": "code",
      "source": [
        "!pip3 install rouge-score -q"
      ],
      "metadata": {
        "colab": {
          "base_uri": "https://localhost:8080/"
        },
        "id": "EUww0nW6xkGJ",
        "outputId": "f31ee753-7c80-48f8-c592-79b02d551f3f"
      },
      "execution_count": null,
      "outputs": [
        {
          "output_type": "stream",
          "name": "stdout",
          "text": [
            "  Preparing metadata (setup.py) ... \u001b[?25l\u001b[?25hdone\n",
            "  Building wheel for rouge-score (setup.py) ... \u001b[?25l\u001b[?25hdone\n"
          ]
        }
      ]
    },
    {
      "cell_type": "code",
      "source": [
        "test_file_names=['_judgment_judis_51.txt','_judgment_judis_97.txt','_judgment_judis_55.txt','_judgment_judis_11.txt','_judgment_judis_37.txt','_judgment_judis_66.txt','_judgment_judis_63.txt','_judgment_judis_53.txt','_judgment_judis_41.txt','_judgment_judis_62.txt']\n",
        "val_file_names=['_judgment_judis_57.txt','_judgment_judis_60.txt','_judgment_judis_12.txt','_judgment_judis_39.txt','_judgment_judis_75.txt','_judgment_judis_72.txt','_judgment_judis_59.txt','_judgment_judis_44.txt','_judgment_judis_70.txt','_judgment_judis_50.txt']"
      ],
      "metadata": {
        "id": "8JPD--EZ3kF8"
      },
      "execution_count": null,
      "outputs": []
    },
    {
      "cell_type": "code",
      "execution_count": null,
      "metadata": {
        "id": "0rhQa9uKegNI",
        "colab": {
          "base_uri": "https://localhost:8080/"
        },
        "outputId": "169935b2-2a3b-4ff4-ef65-01cdb0fbd7d0"
      },
      "outputs": [
        {
          "output_type": "stream",
          "name": "stdout",
          "text": [
            "2224\n"
          ]
        }
      ],
      "source": [
        "import os\n",
        "\n",
        "judgement_files = os.listdir('/content/English-2000-Judgments')\n",
        "print(len(judgement_files))\n",
        "import re\n",
        "\n",
        "def preprocess(text):\n",
        "    # Extracting the text within the HEADNOTE section, if available\n",
        "    headnote_missing = False\n",
        "    headnote_pattern = re.compile(r'HEADNOTE:(.*)JUDGMENT\\n:\\n(.*)', re.DOTALL)\n",
        "    headnote_match = headnote_pattern.search(text)\n",
        "    if headnote_match is None:\n",
        "        headnote_missing = True\n",
        "    headnote_text = headnote_match.group(1)\n",
        "\n",
        "    # Extracting the text within the JUDGMENT section, if available\n",
        "    judgment_missing = False\n",
        "    judgment_pattern = re.compile(r'HEADNOTE:(.*)JUDGMENT\\n:\\n(.*)', re.DOTALL)\n",
        "    judgment_match = judgment_pattern.search(text)\n",
        "    if judgment_match is None:\n",
        "        judgment_missing = True\n",
        "    judgment_text = judgment_match.group(2)\n",
        "\n",
        "    if headnote_missing and judgment_missing:\n",
        "        return \"Headnote and Judgement missing\"\n",
        "    elif headnote_missing:\n",
        "        return \"Headnote missing\"\n",
        "    elif judgment_missing:\n",
        "        return \"Judgment missing\"\n",
        "\n",
        "    data = {}\n",
        "    headnote_text = re.sub(r\"\\n\", \" \", headnote_text)\n",
        "    while \"  \" in headnote_text:\n",
        "        headnote_text = re.sub(r\"  \", \" \", headnote_text)\n",
        "    judgment_text = re.sub(r\"\\n\", \" \", judgment_text)\n",
        "    while \"  \" in judgment_text:\n",
        "        judgment_text = re.sub(r\"  \", \" \", judgment_text)\n",
        "    data['headnote'] = headnote_text.strip()\n",
        "    data['judgment'] = judgment_text.strip()\n",
        "    return data\n",
        "\n",
        "\n",
        "from io import StringIO\n",
        "train_data =[]\n",
        "test_data=[]\n",
        "val_data=[]\n",
        "count = 0\n",
        "for data_item in judgement_files:\n",
        "    file_path = '/content/English-2000-Judgments/' + str(data_item)\n",
        "    with open(file_path,'r') as f:\n",
        "        text = f.read()\n",
        "\n",
        "    extracted_data = preprocess(text)\n",
        "    if data_item in test_file_names:\n",
        "      test_data.append(extracted_data)\n",
        "    elif data_item in val_file_names:\n",
        "      val_data.append(extracted_data)\n",
        "    else:\n",
        "      train_data.append(extracted_data)\n",
        "\n",
        "    count += 1"
      ]
    },
    {
      "cell_type": "code",
      "source": [
        "from datasets import Dataset\n",
        "train_dataset = Dataset.from_list(train_data)\n",
        "test_dataset = Dataset.from_list(test_data)\n",
        "val_dataset = Dataset.from_list(val_data)"
      ],
      "metadata": {
        "id": "OyEQAL_wzWaW"
      },
      "execution_count": null,
      "outputs": []
    },
    {
      "cell_type": "code",
      "source": [
        "import tensorflow as tf\n",
        "from transformers import TFMT5ForConditionalGeneration, MT5Tokenizer, DataCollatorForSeq2Seq\n",
        "tokenizer=MT5Tokenizer.from_pretrained('google/mt5-small')\n",
        "model=TFMT5ForConditionalGeneration.from_pretrained('google/mt5-small')"
      ],
      "metadata": {
        "colab": {
          "base_uri": "https://localhost:8080/",
          "height": 489,
          "referenced_widgets": [
            "827055437e2b4f068a03e4cea9a27411",
            "54c847a19899483a9344e710f3153f9d",
            "14b1a9a87faf42ec9ceca18eb88d97d9",
            "41d5833b57de47b79f75f145c1f1d32e",
            "820bbdbb08d04d36bfbc16672a631950",
            "ec1bafec88b14a1cae9cb97561516a90",
            "b78baf0703ca483084a6db2bc06d4731",
            "cd57ff86876d43098ece6fd3d84f4ee9",
            "6bfd8afb222a4e39ab8bc8dd018d0804",
            "7b0ee8d914e442afac045c861115ec85",
            "1d5f5619c3ae467bb3aa21ed82bfffb3",
            "9cefe1b8c896492791bb68b237f748e6",
            "3b4e7b8f9b3d48a8af3542fb5a3bfc25",
            "6ffd488b19484e53ae5c6b032e26264a",
            "ba84c42502bf4538af546ee1d543c415",
            "6966516e8f264807b1c982945731c1c9",
            "1108860727174175ba126c07f88ac1d4",
            "d928a7de43e34aab8213ed7305b8f50d",
            "ef9ebe28ded9431ca79354df652f2b4a",
            "5c8b739628c044448d82ebeb5ba8aca4",
            "79f4c9ef43274363a8800dfb1d1e8338",
            "5b08f59314bd4d809568533e54eb6839",
            "1d5b1df3e4b64d1ab0f798344441aa16",
            "7e210eddc7a942eaa0146072b754b70c",
            "33197f886edd43aea986fd0e03861c43",
            "1442a720fd524c52bfac936a3ee2c0a3",
            "26b10fd8210f4e17841d185b2344ff23",
            "1d547adae1d944e18478b29d0219d7f0",
            "674cdbe0898a47d4b2a61f934d6c635a",
            "e94ed7e14b86497cadb29017724bfada",
            "559ef7d6433f42b88a70343e0ed0dbcf",
            "78f4a9197a924b34b794739f77ad7330",
            "1b10f01855024e6fa8325d3257662eb4",
            "0d7c8ea27fc7472aaff5302abfc95777",
            "e722e86538fd4aef912b123cfc676e4e",
            "75ee0017e792439c930181418a4ce6c4",
            "6297144a31fa4b95a510c665bd7876b4",
            "9adba7ccc7644940b357966982d58c11",
            "20e0b21e90f54565b176b1777bc78eef",
            "3d64201b2aea4d19aeae4a0bb9bc5a7d",
            "d3fe4c4c260744eeb8d34200fa5ddb7f",
            "49f2b0bf088d4bdeb9ccc745eff0e904",
            "8b70804dbe1a4313bb3fb09a1aaffeff",
            "9019ccd2cdeb421cac6c30b620be07db",
            "c18e70fe79524e50834e8c85e4dc7db4",
            "93c8525a50244968a121da2113789f02",
            "f493f57af5fc47789c1dfce977e7901e",
            "a78ed47fb9364c3fbe552614ec8859da",
            "7beed1a07f5f448d9b16d9417781e4b8",
            "4388ca5d608941cda70d6e50e4000a06",
            "14ef62abbd67443d9e7713c8a87450d3",
            "ba2eba0eb61343e3b1c32ccbd2801f33",
            "a46bda74671b4a12b9cd154596966bc6",
            "0ff9a15f1afa44ca9b3cb0da6d15a0a8",
            "b7a43db5b4ce4a29ba1c64cf0d87a5f9",
            "213489e23b4b4cba8cacc22b5cd85d03",
            "1982a1f3ed314abc9585ff7a0aab7828",
            "5f1ce7ba527c4cd09507b0930e275e9f",
            "a58d23314ee641b590f1bb7326b3e1a8",
            "5b336e0a9ebf4c5c845cf8ecd8604aac",
            "8bc2dd350e214c6db969f90e9b305e68",
            "e988b9471dbd4ca6a401a202d8ae3087",
            "5b631cc54e964193bf990af6c72c9d6e",
            "e661e7608de84e77a99ba1a29d703dac",
            "763147e3517948cf815fca1355162b00",
            "e61b0c1c700a44849f22842ba9536950"
          ]
        },
        "collapsed": true,
        "id": "jWFex9BsAZFZ",
        "outputId": "2d186ceb-4b15-4f30-9404-acc50a9d06f0"
      },
      "execution_count": null,
      "outputs": [
        {
          "output_type": "stream",
          "name": "stderr",
          "text": [
            "/usr/local/lib/python3.10/dist-packages/huggingface_hub/utils/_token.py:89: UserWarning: \n",
            "The secret `HF_TOKEN` does not exist in your Colab secrets.\n",
            "To authenticate with the Hugging Face Hub, create a token in your settings tab (https://huggingface.co/settings/tokens), set it as secret in your Google Colab and restart your session.\n",
            "You will be able to reuse this secret in all of your notebooks.\n",
            "Please note that authentication is recommended but still optional to access public models or datasets.\n",
            "  warnings.warn(\n"
          ]
        },
        {
          "output_type": "display_data",
          "data": {
            "text/plain": [
              "tokenizer_config.json:   0%|          | 0.00/82.0 [00:00<?, ?B/s]"
            ],
            "application/vnd.jupyter.widget-view+json": {
              "version_major": 2,
              "version_minor": 0,
              "model_id": "827055437e2b4f068a03e4cea9a27411"
            }
          },
          "metadata": {}
        },
        {
          "output_type": "display_data",
          "data": {
            "text/plain": [
              "spiece.model:   0%|          | 0.00/4.31M [00:00<?, ?B/s]"
            ],
            "application/vnd.jupyter.widget-view+json": {
              "version_major": 2,
              "version_minor": 0,
              "model_id": "9cefe1b8c896492791bb68b237f748e6"
            }
          },
          "metadata": {}
        },
        {
          "output_type": "display_data",
          "data": {
            "text/plain": [
              "special_tokens_map.json:   0%|          | 0.00/99.0 [00:00<?, ?B/s]"
            ],
            "application/vnd.jupyter.widget-view+json": {
              "version_major": 2,
              "version_minor": 0,
              "model_id": "1d5b1df3e4b64d1ab0f798344441aa16"
            }
          },
          "metadata": {}
        },
        {
          "output_type": "stream",
          "name": "stderr",
          "text": [
            "/usr/local/lib/python3.10/dist-packages/huggingface_hub/file_download.py:1132: FutureWarning: `resume_download` is deprecated and will be removed in version 1.0.0. Downloads always resume when possible. If you want to force a new download, use `force_download=True`.\n",
            "  warnings.warn(\n"
          ]
        },
        {
          "output_type": "display_data",
          "data": {
            "text/plain": [
              "config.json:   0%|          | 0.00/553 [00:00<?, ?B/s]"
            ],
            "application/vnd.jupyter.widget-view+json": {
              "version_major": 2,
              "version_minor": 0,
              "model_id": "0d7c8ea27fc7472aaff5302abfc95777"
            }
          },
          "metadata": {}
        },
        {
          "output_type": "stream",
          "name": "stderr",
          "text": [
            "You are using the default legacy behaviour of the <class 'transformers.models.t5.tokenization_t5.T5Tokenizer'>. This is expected, and simply means that the `legacy` (previous) behavior will be used so nothing changes for you. If you want to use the new behaviour, set `legacy=False`. This should only be set if you understand what it means, and thoroughly read the reason why this was added as explained in https://github.com/huggingface/transformers/pull/24565\n"
          ]
        },
        {
          "output_type": "display_data",
          "data": {
            "text/plain": [
              "tf_model.h5:   0%|          | 0.00/1.20G [00:00<?, ?B/s]"
            ],
            "application/vnd.jupyter.widget-view+json": {
              "version_major": 2,
              "version_minor": 0,
              "model_id": "c18e70fe79524e50834e8c85e4dc7db4"
            }
          },
          "metadata": {}
        },
        {
          "output_type": "stream",
          "name": "stderr",
          "text": [
            "/usr/local/lib/python3.10/dist-packages/tf_keras/src/initializers/initializers.py:121: UserWarning: The initializer RandomNormal is unseeded and being called multiple times, which will return identical values each time (even if the initializer is unseeded). Please update your code to provide a seed to the initializer, or avoid using the same initializer instance more than once.\n",
            "  warnings.warn(\n",
            "All model checkpoint layers were used when initializing TFMT5ForConditionalGeneration.\n",
            "\n",
            "All the layers of TFMT5ForConditionalGeneration were initialized from the model checkpoint at google/mt5-small.\n",
            "If your task is similar to the task the model of the checkpoint was trained on, you can already use TFMT5ForConditionalGeneration for predictions without further training.\n"
          ]
        },
        {
          "output_type": "display_data",
          "data": {
            "text/plain": [
              "generation_config.json:   0%|          | 0.00/147 [00:00<?, ?B/s]"
            ],
            "application/vnd.jupyter.widget-view+json": {
              "version_major": 2,
              "version_minor": 0,
              "model_id": "213489e23b4b4cba8cacc22b5cd85d03"
            }
          },
          "metadata": {}
        }
      ]
    },
    {
      "cell_type": "code",
      "source": [
        "def preprocess_function(new_data):\n",
        "    padding=\"max_length\"\n",
        "    max_length=512\n",
        "    inputs=[ex for ex in new_data['headnote']]\n",
        "    targets=[ex for ex in new_data['judgment']]\n",
        "    model_inputs = tokenizer(inputs, max_length=max_length, padding=padding, truncation=True)\n",
        "    labels = tokenizer(targets, max_length=max_length, padding=padding, truncation=True)\n",
        "    model_inputs[\"labels\"] = labels[\"input_ids\"]\n",
        "    return model_inputs"
      ],
      "metadata": {
        "id": "nwbbLoaa-e4U"
      },
      "execution_count": null,
      "outputs": []
    },
    {
      "cell_type": "code",
      "source": [
        "train_dataset = train_dataset.map(preprocess_function, batched=True, desc=\"Running tokenizer\")\n",
        "data_collator = DataCollatorForSeq2Seq(\n",
        "    tokenizer,\n",
        "    model=model,\n",
        "    label_pad_token_id=tokenizer.pad_token_id,\n",
        "    pad_to_multiple_of=64,\n",
        "    return_tensors=\"np\")\n",
        "\n",
        "tf_train_dataset = model.prepare_tf_dataset(\n",
        "    train_dataset,\n",
        "    collate_fn=data_collator,\n",
        "    batch_size=4,\n",
        "    )"
      ],
      "metadata": {
        "colab": {
          "base_uri": "https://localhost:8080/",
          "height": 17,
          "referenced_widgets": [
            "acba31b6ae264639a4bac027861f6874",
            "754e61b3c54b43babd90fdee31ab8b16",
            "d7900fed02a645218d797b3adc628a10",
            "239c6a281a16496895ff2940581e87ef",
            "b3a6eec6178b42a6a32489ff82a28d7f",
            "075ee627175a4ed8b75716f0a9c139f3",
            "690524cdf6d2451aa2adfdd010b44eed",
            "fd0a52c4949b4a48b576b4dff4f6334b",
            "68eba64a4fef440291bce88d437f7413",
            "d00e2d6f537b4b7599edcdf0b71b7944",
            "c91e95161a454ac6adb9689c6ddf52d3"
          ]
        },
        "id": "Y2QmRLe2BTZy",
        "outputId": "9fe3cc71-99b3-420e-cc60-0d37ca3cc402"
      },
      "execution_count": null,
      "outputs": [
        {
          "output_type": "display_data",
          "data": {
            "text/plain": [
              "Running tokenizer:   0%|          | 0/2204 [00:00<?, ? examples/s]"
            ],
            "application/vnd.jupyter.widget-view+json": {
              "version_major": 2,
              "version_minor": 0,
              "model_id": "acba31b6ae264639a4bac027861f6874"
            }
          },
          "metadata": {}
        }
      ]
    },
    {
      "cell_type": "code",
      "source": [
        "model.compile(optimizer='Adam')\n",
        "model.fit(tf_train_dataset, epochs=5)"
      ],
      "metadata": {
        "colab": {
          "base_uri": "https://localhost:8080/"
        },
        "collapsed": true,
        "id": "vRwDAeTXBcXk",
        "outputId": "433f43aa-bda9-4b25-f877-ba26ddff02fa"
      },
      "execution_count": null,
      "outputs": [
        {
          "output_type": "stream",
          "name": "stdout",
          "text": [
            "Epoch 1/5\n"
          ]
        },
        {
          "output_type": "stream",
          "name": "stderr",
          "text": [
            "WARNING:tensorflow:AutoGraph could not transform <function infer_framework at 0x7ef36066c280> and will run it as-is.\n",
            "Cause: for/else statement not yet supported\n",
            "To silence this warning, decorate the function with @tf.autograph.experimental.do_not_convert\n"
          ]
        },
        {
          "output_type": "stream",
          "name": "stdout",
          "text": [
            "WARNING: AutoGraph could not transform <function infer_framework at 0x7ef36066c280> and will run it as-is.\n",
            "Cause: for/else statement not yet supported\n",
            "To silence this warning, decorate the function with @tf.autograph.experimental.do_not_convert\n",
            "551/551 [==============================] - 354s 474ms/step - loss: 5.1489\n",
            "Epoch 2/5\n",
            "551/551 [==============================] - 256s 465ms/step - loss: 3.4766\n",
            "Epoch 3/5\n",
            "551/551 [==============================] - 255s 464ms/step - loss: 3.0872\n",
            "Epoch 4/5\n",
            "551/551 [==============================] - 255s 463ms/step - loss: 2.8579\n",
            "Epoch 5/5\n",
            "551/551 [==============================] - 255s 463ms/step - loss: 2.6676\n"
          ]
        },
        {
          "output_type": "execute_result",
          "data": {
            "text/plain": [
              "<tf_keras.src.callbacks.History at 0x7ef358393640>"
            ]
          },
          "metadata": {},
          "execution_count": 9
        }
      ]
    },
    {
      "cell_type": "code",
      "source": [
        "model.save_pretrained(\"finetuned_model\")"
      ],
      "metadata": {
        "id": "h2XILSrrCZ3p"
      },
      "execution_count": null,
      "outputs": []
    },
    {
      "cell_type": "code",
      "source": [
        "val_sample=val_dataset[0]\n",
        "val_sample_inputs=tokenizer(val_sample['judgment'],return_tensors='tf',max_length=512, padding=\"max_length\", truncation=True)"
      ],
      "metadata": {
        "id": "x0avIwbMChmm"
      },
      "execution_count": null,
      "outputs": []
    },
    {
      "cell_type": "code",
      "source": [
        "token_ids = val_sample_inputs['input_ids'].numpy().tolist()[0]\n",
        "val_sample_text = tokenizer.decode(token_ids)"
      ],
      "metadata": {
        "id": "dVx64OydFQmG"
      },
      "execution_count": null,
      "outputs": []
    },
    {
      "cell_type": "code",
      "source": [
        "token_ids_tensor = tf.constant([token_ids])\n",
        "generated_ids = model.generate(token_ids_tensor,max_new_tokens=500)\n",
        "decoded_output = [tokenizer.decode(g, skip_special_tokens=True) for g in generated_ids]"
      ],
      "metadata": {
        "id": "H2of28Q-Fjxb"
      },
      "execution_count": null,
      "outputs": []
    },
    {
      "cell_type": "code",
      "source": [
        "val_sample_text"
      ],
      "metadata": {
        "colab": {
          "base_uri": "https://localhost:8080/",
          "height": 174
        },
        "id": "qAG0fz6EFXmV",
        "outputId": "5bfdc1f8-b371-4045-f7b7-9f3e6eddb633"
      },
      "execution_count": null,
      "outputs": [
        {
          "output_type": "execute_result",
          "data": {
            "text/plain": [
              "'CIVIL APPELLATE JURISDICTION; Civil Appeal No. 698 of 1957. Appeal by special leave from the judgment and order dated August 2, 1956, of the Bombay High Court in Income-tax Reference No. 1 of 1956. A. V. Viswanatha Sastri, B. A. Palkhiwala and G. Gopalakrishnan, for the appellant. Hardyal Hardy and D. Gupta, for the respondent. 1960. December 5. The Judgment of the Court was delivered by SHAH, J.-The High Court of Judicature at Bombay answered the following two questions referred by the Income Tax Appellate Tribunal, Bench \"B\", Bombay, under s. 66(1) of the Indian Income-Tax Act, 1922: (1) Whether the acquisition of the managing agency 906 of the Dawn Mills Co., Ltd., was in the nature of a it n \"business\" carried on by the assessee company? (2)..If the answer to the first question is in the affirmative, whether the loss suffered by the assessee of...company of Rs. 1,78,438 on purchase and sale of 400 shares of the Dawn Mills Co., Ltd., being incidental to its business of acquiring the managing agency, was a loss of a revenue nature?, as follows: (1)..Acquisition of the managing agency was an acquisition of a capital asset; (2)..The loss in respect of the 400 shares was of a capital nature. Against the order of the High Court, this appeal is preferred with special-leave. The appellants are a private limited company registered under the Indian Companies Act, 1913, and carry on business as brokers,managing agents and dealers in shares and securities. One of the objects for which the appellants were incorporated was to acquire managing agencies. The appellants also carried on business in shares of different companies, and were assessed to income-tax as dealers in shares and securities. M/s. Sassoon J. David, & Co., Ltd. were the managing agents of the Dawn Mills Ltd.-a</s>'"
            ],
            "application/vnd.google.colaboratory.intrinsic+json": {
              "type": "string"
            }
          },
          "metadata": {},
          "execution_count": 14
        }
      ]
    },
    {
      "cell_type": "code",
      "source": [
        "decoded_output"
      ],
      "metadata": {
        "colab": {
          "base_uri": "https://localhost:8080/"
        },
        "id": "xctU8-htHLFZ",
        "outputId": "08bfc844-27c8-4702-9db4-33ccaeed3647"
      },
      "execution_count": null,
      "outputs": [
        {
          "output_type": "execute_result",
          "data": {
            "text/plain": [
              "['CIVIL APPELLATE JURISDICTION: Civil Appeal No. 1564 of 1966. Appeal by special leave from the judgment and order dated October 3, 1966 of the Bombay High Court in Income-tax Reference No. 1564 of 1966. Appeal by special leave from the judgment and order dated October 3, 1966 of the Bombay High Court in Income-tax Reference No. 1564 of 1966. Appeal by special leave from the judgment and order dated October 3, 1966 of the Bombay High Court in Income-tax Reference No. 1564 of 1966. Appeal by special leave from the judgment and order dated October 3, 1966 of the Bombay High Court in Income-tax Reference No. 1564 of 1966. Appeal No. 1564 of 1966. Appeal by special leave from the judgment and order dated October 3, 1966 of the Bombay High Court in Income-tax Reference No. 1564 of 1966. Appeal No. 1564 of 1966. Appeal by special leave from the judgment and order dated October 3, 1966 of the Bombay High Court in Income-tax Reference No. 1564 of 1966. Appeal No. 1564 of 1966. Appeal No. 1564 of 1966. Appeal by special leave from the judgment and order dated October 3, 1966 of the Bombay High Court in Income-tax Reference No. 1564 of 1966. Appeal No. 1564 of 1966. Appeal No. 1564 of 1966. Appeal No. 1564 of 1966. Appeal No. 1564 of 1966. Appeal No. 1564 of 1966. Appeal No. 1564 of 1966. Appeal No. 1564 of 1966. Appeal No. 1564 of 1966. Appeal No. 1564 of 1966. Appeal No. 1564 of 1966. Appeal No. 1564 of 1966. Appeal No. 1564 of 1966. Appeal No. 1564 of 1966. Appeal No. 1564 of 1966. Appeal No. 1564 of 1966. Appeal No. 1564 of 1966. Appeal No. 1564 of 1966. Appeal No. 1564 of 1966. Appeal No. 1564 of 1966. Appeal No. 1564']"
            ]
          },
          "metadata": {},
          "execution_count": 16
        }
      ]
    },
    {
      "cell_type": "code",
      "source": [
        "from rouge_score import rouge_scorer\n",
        "\n",
        "def calculate_rouge(reference, hypothesis):\n",
        "    scorer = rouge_scorer.RougeScorer(['rouge1', 'rouge2', 'rougeL'], use_stemmer=True)\n",
        "    scores = scorer.score(reference, hypothesis)\n",
        "    return scores\n",
        "reference = val_sample_text\n",
        "hypothesis = decoded_output[0]\n",
        "rouge_scores = calculate_rouge(reference, hypothesis)\n",
        "print(rouge_scores)"
      ],
      "metadata": {
        "colab": {
          "base_uri": "https://localhost:8080/"
        },
        "id": "tzJcZATtHu6C",
        "outputId": "2f237a76-1dda-4719-d2a8-0d29c9183240"
      },
      "execution_count": null,
      "outputs": [
        {
          "output_type": "stream",
          "name": "stdout",
          "text": [
            "{'rouge1': Score(precision=0.3074433656957929, recall=0.30158730158730157, fmeasure=0.30448717948717946), 'rouge2': Score(precision=0.11688311688311688, recall=0.11464968152866242, fmeasure=0.1157556270096463), 'rougeL': Score(precision=0.23300970873786409, recall=0.22857142857142856, fmeasure=0.23076923076923078)}\n"
          ]
        }
      ]
    },
    {
      "cell_type": "code",
      "source": [
        "val_sample=val_dataset[1]\n",
        "val_sample_inputs=tokenizer(val_sample['judgment'],return_tensors='tf',max_length=512, padding=\"max_length\", truncation=True)\n",
        "token_ids = val_sample_inputs['input_ids'].numpy().tolist()[0]\n",
        "val_sample_text = tokenizer.decode(token_ids)\n",
        "token_ids_tensor = tf.constant([token_ids])\n",
        "generated_ids = model.generate(token_ids_tensor,max_new_tokens=500)\n",
        "decoded_output = [tokenizer.decode(g, skip_special_tokens=True) for g in generated_ids]"
      ],
      "metadata": {
        "id": "eORhKigQKPba"
      },
      "execution_count": null,
      "outputs": []
    },
    {
      "cell_type": "code",
      "source": [
        "val_sample_text"
      ],
      "metadata": {
        "colab": {
          "base_uri": "https://localhost:8080/",
          "height": 174
        },
        "id": "vzcGR19bybXy",
        "outputId": "ea89275c-84ba-4928-f0ca-abb90fc1c0de"
      },
      "execution_count": null,
      "outputs": [
        {
          "output_type": "execute_result",
          "data": {
            "text/plain": [
              "'CRIMINAL APPELLATE JURISDICTION. Criminal Appeal No. 106 of 1956. Appeal from the Judgment and Order dated the 7th April, 1956, of the former Judicial Commissioner’s 65 510 Court, Vindhya Pradesh, Rewa in Misc. Crl. Application No. 70 of 1956. A. D. Mathur for the Appellant. B. K. B. Naidu and I. N. Shroff for the Respondent. 1960. November 18. The Judgment of the Court was delivered by IMAM, J.-The Judicial Commissioner of Vindhya Pradesh granted a certificate under Art. 132(1) of the Constitution of India as in his opinion the case involved a substantial question of law as to the interpretation of the Constitution. Hence the present appeal. The appellant was convicted under s. 307, Indian Penal Code and s. 19(f) of the Indian Arms Act by the Sessions Judge of Chatarpur. He was sentenced to 10 years’ rigorous imprisonment under s. 307, Indian Penal Code and to 3 years’ rigorous imprisonment under s. 19(f) of the Indian Arms Act. He filed an appeal while he was in jail which was summarily dismissed on merits on October 28, 1955. Thereafter, on October 31, 1955, he filed a Memorandum of Appeal through a pleader which was rejected on November 1, 1955, on the ground that it was not maintainable owing to his appeal from jail under s. 420 of the Code of Criminal Procedure having been dismissed on October 28, 1955. Thereafter, he filed a petition before the Judicial Commissioner that the order dated October 28, 1955, dismissing his appeal from jail should be reviewed and his appeal should be reheard on merits. This petition was also dismissed by the Judicial Commissioner. The appellant had prayed for a certificate under Arts. 132 and 134(c) of the Constitution. The Judicial Commissioner was of the opinion that no ground had been established for grant of a certificate under Art. 134(c) but a certificate should issue under Art. 132(1)</s>'"
            ],
            "application/vnd.google.colaboratory.intrinsic+json": {
              "type": "string"
            }
          },
          "metadata": {},
          "execution_count": 21
        }
      ]
    },
    {
      "cell_type": "code",
      "source": [
        "decoded_output"
      ],
      "metadata": {
        "colab": {
          "base_uri": "https://localhost:8080/"
        },
        "id": "GBWuk9JRy6fQ",
        "outputId": "1ce2780d-8ab0-4bcf-9560-dd4a1fedd42b"
      },
      "execution_count": null,
      "outputs": [
        {
          "output_type": "execute_result",
          "data": {
            "text/plain": [
              "['CIVIL APPELLATE JURISDICTION: Civil Appeal No. 88 of 1957. Appeal by special leave from the judgment and order dated October 28, 1955, of the former Judicial Commissioner, Delhi, in Appeal No. 88 of 1955. Appeal No. 88 of 1955. Appeal by special leave from the judgment and order dated October 28, 1955, of the former Judicial Commissioner, Delhi, in Appeal No. 88 of 1955. Appeal by special leave from the judgment and order dated October 28, 1955, of the former Judicial Commissioner, Delhi, in Appeal No. 88 of 1955. Appeal No. 88 of 1955. Appeal by special leave from the judgment and order dated October 28, 1955, of the former Judicial Commissioner, Delhi, in Appeal No. 88 of 1955. Appeal No. 88 of 1955. Appeal by special leave from the judgment and order dated October 28, 1955, of the Additional Sessions Judge, Delhi, in Criminal Appeal No. 88 of 1955. Appeal No. 88 of 1955. Appeal No. 88 of 1955. Appeal No. 88 of 1955. Appeal No. 88 of 1955. Appeal No. 88 of 1955. Appeal No. 88 of 1955. Appeal by special leave from the judgment and order dated October 28, 1955, of the Additional Sessions Judge, Delhi, in Criminal Appeal No. 88 of 1955. Appeal No. 88 of 1955. Appeal No. 88 of 1955. Appeal No. 88 of 1955. Appeal No. 88 of 1955. Appeal No. 88 of 1955. Appeal No. 88 of 1955. Appeal No. 88 of 1955. Appeal No. 88 of 1955. Appeal No. 88 of 1955. Appeal No. 88 of 1955. Appeal No. 88 of 1955. Appeal No. 88 of 1955. Appeal No. 88 of 1955. Appeal No. 88 of 1955. Appeal No. 88 of 1955. Appeal No. 88 of 1955. Appeal No.']"
            ]
          },
          "metadata": {},
          "execution_count": 22
        }
      ]
    },
    {
      "cell_type": "code",
      "source": [
        "reference = val_sample_text\n",
        "hypothesis = decoded_output[0]\n",
        "rouge_scores = calculate_rouge(reference, hypothesis)\n",
        "print(rouge_scores)"
      ],
      "metadata": {
        "colab": {
          "base_uri": "https://localhost:8080/"
        },
        "id": "uJx6VO26zCj5",
        "outputId": "0178ce98-c51e-4b32-cb3d-5d3b70642c03"
      },
      "execution_count": null,
      "outputs": [
        {
          "output_type": "stream",
          "name": "stdout",
          "text": [
            "{'rouge1': Score(precision=0.3090277777777778, recall=0.27469135802469136, fmeasure=0.29084967320261434), 'rouge2': Score(precision=0.10452961672473868, recall=0.09287925696594428, fmeasure=0.09836065573770493), 'rougeL': Score(precision=0.22916666666666666, recall=0.2037037037037037, fmeasure=0.2156862745098039)}\n"
          ]
        }
      ]
    },
    {
      "cell_type": "code",
      "source": [
        "val_sample=val_dataset[2]\n",
        "val_sample_inputs=tokenizer(val_sample['judgment'],return_tensors='tf',max_length=512, padding=\"max_length\", truncation=True)\n",
        "token_ids = val_sample_inputs['input_ids'].numpy().tolist()[0]\n",
        "val_sample_text = tokenizer.decode(token_ids)\n",
        "token_ids_tensor = tf.constant([token_ids])\n",
        "generated_ids = model.generate(token_ids_tensor,max_new_tokens=500)\n",
        "decoded_output = [tokenizer.decode(g, skip_special_tokens=True) for g in generated_ids]"
      ],
      "metadata": {
        "id": "--JxPrVszbUx"
      },
      "execution_count": null,
      "outputs": []
    },
    {
      "cell_type": "code",
      "source": [
        "val_sample_text"
      ],
      "metadata": {
        "colab": {
          "base_uri": "https://localhost:8080/",
          "height": 174
        },
        "id": "pJMLCeGWz3Bk",
        "outputId": "a090a865-27a8-4325-b118-f0c9bfd3180d"
      },
      "execution_count": null,
      "outputs": [
        {
          "output_type": "execute_result",
          "data": {
            "text/plain": [
              "'CIVIL APPELLATE JURISDICTION: Civil Appeal No. 761 of 1957. Appeal by special leave from the judgment and order dated February 24, 1955, of the former Bombay High Court in I.T.R. 48/X of 1954. Hardayal Hardy and D. Gupta, for the appellant. N. A. Palkhivala and I. N. Shroff, for the respondent. 1960. November 17. The Judgment of the Court was delivered by SHAH, J.-The Income Tax Appellate Tribunal, Bombay Bench \"A\", referred under s. 66(1) of the Indian Income Tax Act, 1922-hereinafter referred to as the Act-the following question: \"Whether the sum of Rs. 15,608 should have been included in the assessee Company’s \"profit\" for the purpose of determining whether the payment of a larger dividend than that declared by it would be unreasonable?\" The High Court answered the question in the negative. Against the order of the High Court, with special leave under Art. 136 of the Constitution, this appeal is preferred. M/s. Bipinchandra Maganlal & Co., Ltd.-hereinafter referred to as the Company-is registered under the Indian Companies Act, The Company is one in 495 which the public are not substantially interested within the meaning of s. 23A Explanation of the Act. Its paid-up capital at the material time was Rs. 20,800 made up as follows: 20 shares of Rs. 50 each fully paid up and 1980 shares of Rs. 50 each, Rs. 10 being paid up per share. In December 1945, the Company purchased certain machinery for Rs. 89,000 and sold it sometime in March, 1947, for the price for which it was originally purchased. In the books of account of the Company, the written down value of the machinery in the year of account 1946-47 (April 1, 1946 to March 31, 1947) was Rs. 73,392. The trading profits of the Company as disclosed by its books of account for the year 194647 were Rs. 33,245. At the General Meeting held on October 21, 1947. the</s>'"
            ],
            "application/vnd.google.colaboratory.intrinsic+json": {
              "type": "string"
            }
          },
          "metadata": {},
          "execution_count": 25
        }
      ]
    },
    {
      "cell_type": "code",
      "source": [
        "decoded_output"
      ],
      "metadata": {
        "colab": {
          "base_uri": "https://localhost:8080/"
        },
        "id": "ORlwbX_-0KL6",
        "outputId": "c3a0a409-1cbe-4837-9155-526dfc654614"
      },
      "execution_count": null,
      "outputs": [
        {
          "output_type": "execute_result",
          "data": {
            "text/plain": [
              "['CIVIL APPELLATE JURISDICTION: Civil Appeal No. 1564 of 1966. Appeal by special leave from the judgment and order dated February 24, 1966 of the Bombay High Court in Income-tax Reference No. 1564 of 1966. Appeal by special leave from the judgment and order dated February 24, 1966 of the Bombay High Court in Income-tax Reference No. 1564 of 1966. M. C. Chagla and S. P. Nayar, for the appellant. M. C. Chagla and S. P. Nayar, for the respondent. The Judgment of the Court was delivered by Shah, J. This appeal by special leave is directed against the judgment of the High Court of Bombay, dated February 24, 1966. The appellant is the respondent. The appellant is the respondent. The appellant is the respondent. The appellant is the respondent. The appellant is the respondent. The appellant is the respondent. The appellant is the respondent. The appellant is the respondent. The appellant is the respondent. The appellant is the respondent. The appellant is the respondent. The appellant is the respondent. The appellant is the respondent. The appellant is the respondent. The appellant is the respondent. The appellant is the respondent. The appellant is the respondent. The appellant is the respondent. The appellant is the respondent. The appellant is the respondent. The appellant is the respondent. The appellant is the respondent. The appellant is the respondent. The appellant is the respondent. The appellant is the respondent. The appellant is the respondent. The appellant is the respondent. The appellant is the respondent. The appellant is the respondent. The appellant is the respondent. The appellant is the respondent. The appellant is the respondent. The appellant is the respondent. The appellant is the respondent. The appellant is the respondent. The appellant is the respondent. The appellant is the respondent. The appellant was the respondent. The appellant was the respondent. The appellant was the respondent']"
            ]
          },
          "metadata": {},
          "execution_count": 26
        }
      ]
    },
    {
      "cell_type": "code",
      "source": [
        "reference = val_sample_text\n",
        "hypothesis = decoded_output[0]\n",
        "rouge_scores = calculate_rouge(reference, hypothesis)\n",
        "print(rouge_scores)"
      ],
      "metadata": {
        "colab": {
          "base_uri": "https://localhost:8080/"
        },
        "id": "vBC5mz2c0Sao",
        "outputId": "844c5b7e-79d6-4810-b9e8-5c61681549a6"
      },
      "execution_count": null,
      "outputs": [
        {
          "output_type": "stream",
          "name": "stdout",
          "text": [
            "{'rouge1': Score(precision=0.36012861736334406, recall=0.3333333333333333, fmeasure=0.3462132921174652), 'rouge2': Score(precision=0.13870967741935483, recall=0.12835820895522387, fmeasure=0.13333333333333333), 'rougeL': Score(precision=0.26366559485530544, recall=0.24404761904761904, fmeasure=0.2534775888717156)}\n"
          ]
        }
      ]
    },
    {
      "cell_type": "code",
      "source": [
        "val_sample=val_dataset[3]\n",
        "val_sample_inputs=tokenizer(val_sample['judgment'],return_tensors='tf',max_length=512, padding=\"max_length\", truncation=True)\n",
        "token_ids = val_sample_inputs['input_ids'].numpy().tolist()[0]\n",
        "val_sample_text = tokenizer.decode(token_ids)\n",
        "token_ids_tensor = tf.constant([token_ids])\n",
        "generated_ids = model.generate(token_ids_tensor,max_new_tokens=500)\n",
        "decoded_output = [tokenizer.decode(g, skip_special_tokens=True) for g in generated_ids]"
      ],
      "metadata": {
        "id": "nVr7Nzbj1gTR"
      },
      "execution_count": null,
      "outputs": []
    },
    {
      "cell_type": "code",
      "source": [
        "val_sample"
      ],
      "metadata": {
        "colab": {
          "base_uri": "https://localhost:8080/"
        },
        "collapsed": true,
        "id": "rTbqRzG_1rDc",
        "outputId": "5843ada9-d9dd-49a2-8e73-f6114d948435"
      },
      "execution_count": null,
      "outputs": [
        {
          "output_type": "execute_result",
          "data": {
            "text/plain": [
              "{'headnote': 'The respondent was a sub-Inspector of Police. A complaint was received by the Superintendent of Police that the com- plainant was carrying currency notes of Rs. 650 in a bundle when he was stopped by the respondent and his person was searched, that the respondent opened the bundle of notes and handed over the notes one by one to one Lalji, who was with him and that Lalji returned the notes to him but on reaching home he found the notes short by Rs. 250. Proceedings under s. 7 of the Police Act were taken against the respondent on the charge of misappropriation of Rs. 250 and he was dismissed from service by an order of the Deputy Inspector General of Police. The respondent filed a writ petition before the High Court challenging the order of the dismissal on the ground that the authorities had acted in violation of Rule I of Para. 486 of the U. P. Police Regulation. This rule required that every information received by the police relating to the commission of a cognizable offence by a Police Officer shall be dealt with in the first place under Ch. XIV, Code of Criminal Procedure. The High Court held that the provisions of para. 486 of the Police Regulations had not been observed and that the proceedings taken under S. 7 of the Police Act were invalid and illegal and accordingly quashed the order of dismissal. The appellant contended (i) that the complaint did not make out any cognizable offence against the respondent and r. I of Para. 486 was not applicable in this case, (ii) that r. III of Para. 486 enabled the authorities to initiate departmental proceedings without complying with the provisions of r. I, (iii) that the Police Regulations made in exercise of the power conferred on the Government under the Police Act delegating the power of the Governor to dismiss at pleasure to a subordinate officer were only administrative directions for the exercise of the pleasure in a reasonable manner and any breach of the regulations did not confer any right or give a cause of action to the public servant, and (iv) that the regulations were only directory and the non-compliance with the rules did not invalidate the order of dismissal. 680 Held, (per Sarkar, Subba Rao and Mudholkar, JJ.) that the order of dismissal was illegal as it was based upon an enquiry held in violation of r. I of Para 486 of the Police Regulations. The facts alleged in the complaint made out a cognizable offence under s. 405 Indian Penal Code against the respondent, and the provisions of r. I of Para . 486 were applicable to it. A Police Officer making a search of a person was ’entrusted’ with the money handed over by the person searched. Rule III of Para. 486 did not deal with cognizable offences, it dealt with offences falling only under s. 7 Police Act and to non-cognizable offences. Rule III did not provide an alternative procedure to that prescribed under r. I. The position with regard to the tenure of public servants and to the taking of disciplinary action against them under the present Constitution was as follows: (i) Every person who was a member of a public service described in Art. 310 of the Constitution held office during the pleasure of the President or the Governor. (ii) The power to dismiss a public servant at pleasure was outside the scope of Art. I54 and, therefore, could not be delegated by the Governor to a subordinate officer, and could be exercised by him only in the manner prescribed by the Constitution. (iii) This tenure was subject to the limitations or qualifi- cations mentioned in Art. 311. (iv )Parliament or the Legislature of States could not make a law abrogating or modifying this tenure so as to impinge upon the overriding power conferred upon the President or the Governor under Art. 310, as qualified by Art. 311. (v) Parliament or the Legislatures of States could make a law regulating the conditions of service of such a member which included proceedings by way of disciplinary action, without affecting the powers of the President or the Governor under Art. 310 read with Art. 311. (vi) Parliament and the Legislatures also could makea law laying down and regulating the scope and content of the doctrine of \"reasonable opportunity\" embodied in Art. 311 but the said law was subject to judicial review. (vii) If a statute could be made by Legislatures within the foregoing permissible limits, the rules made by an authority in exercise of the power conferred thereunder would likewise be efficacious within the said limits. N. W. F. Province v. Suraj Narain, A.I.R. 1949 P. C. 112, Shenton v. Smith, (1895) A.C. 229, Gould v. Stuart, (1896) A.C. 575, Reilly v. The King, (1934) A.C. 176, Terrell v. Secretary of State, (1953) 2 All E.R. 490, State of Bihar v. Abdul Majid, [1954] S.C.R. 786, Parshotam Lal Dhingra v. Union of India, [1958] 681 S.C.R. 828, R. T. Rangachari v. Secretary of State for India, (1936) L.R. 64 I.A. 40 and High Commissioner for India and High Commissioner for Pakistan v. I. M. Lall, (1948) L.R. 75 I.A. 225, referred to. The Police Act and the rules made thereunder constituted a self-contained code providing for the appointment of police officers and prescribing the procedure for their removal. Any authority taking action under the Police Act or the rules made thereunder must conform to the provisions thereof and if there was any violation of those provisions the public servant had a right to challenge the order of the authority if the rules were mandatory Paragraph 486 of the Police Regulations was mandatory and not directory. The rules were made in the interests of both the department and the police officers. The word used in para 486 was \"shall\" and in the context it could not be read as \"may\". Hari Vishnu Kamath v. Syed Ahmed Ishaque, [1958] S.C.R. 104, State of U. P. v. Manbodhan Lal Srivastava, [1958] S.C.R. 533 and Montreal Street Railway Company v Noymandin, L.R. (1917) A.C. 170, referred to. Subject to the overriding power of the President or the Governor under Art. 310, as qualified by Art. 311, rules governing disciplinary proceeding could not be treated as administrative directions, but had the same effect as the provisions of the statute whereunder they were made, in so far as they were not inconsistent with the provisions thereof. The Governor did not exercise his pleasure through the officers specified in S. 7 of the Police Act, and the Governor’s pleasure. could not be equated with the statutory power of the officers specified An inquiry under the Act had to be made in accordance with the provisions of the Act and the rules made thereunder. R. T. Rangachari v. Secretary of State for India, L.R. 64 I.A. 40, High Commissioner for India and High Commissioner for Pakistan v. I. M. Lall, (1948) L.R. 75 I.A. 225, R. Venkata Rao v. Secretary of State for India, (1936) L.R. 64 I.A. 55, S. A. Venkataraman V. Union of India, [1954] S.C.R. 1150 and Khem Chand v. The Union of India, [1958] S.C.R. 1080, referred to. Per Gajendragadkar and Wanchoo, JJ.-The provisions of para 486 were merely directory and a non-compliance therewith did not invalidate the disciplinary action taken against the respondent. All public servants, other than those excepted expressly by the Constitution, held office during the pleasure of the President or the Governor, and no law or rule framed under Art. 300 or Art. I54(2)(b) could cut down the content of the pleasure tenure in Art. 310 subject to Art. 31i. The Police Act could not stand higher than a law passed under Art. 309 or Art. 154(2)(b) and could not cut down the content of the pleasure tenure in Art. 310 682 The Police officers held office during the pleasure of the Governor and the only protection they could claim was the two guarantees contained in Art. 311. The rules framed under s. 7 Police Act would be of two kinds, namely (1) those which defined the jurisdiction of the four grades of officers specified in s. 7 to inflict particular kind of punishment on particular police officers of the subordinate ranks-such rules would be mandatory but they could not go against the provisions of Art. 311, and (2) procedural rules. The procedural rules could be of two kinds: (i) those that prescribed the manner in which the guarantee contained in Art. 311(2) May be carried out-such rules would be mandatory, and (ii) other merely procedural rules-they could only be directory. The power of the Governor to dismiss was executive power of the State and could be exercised under Art. 154(i) by the Governor himself directly or indirectly through officers subordinate to him. The officers specified in s. 7 of the Police Act were exercising the powers of the Governor to dismiss at pleasure and their powers were subject to the same limitations to which the Governor was subject. Whether it was delegation by the Governor himself or whether it was delegation by law under Art. 154(2)(b) or by the existing law, which must be treated as analogous to a law under Art. 154(2)(b), the officer exercising the power of dismissal was only indirectly exercising the Governor’s power to dismiss at pleasure. His order also was subject to the two fetters under Art. 311 and could not be subjected to any more fetters by procedural rules other than those framed for carrying out the objects of Art. 311(2). R. Venkata Rao v. Secretary of State for India in Council, [1936] 64 I.A. 55, referred to. Paragraph 486 was not meant for the purpose of carrying out the object of Art. 311(2) and could not be mandatory and could not add a further fetter on the exercise of the power to dismiss at the pleasure of the Governor over and above the fetters contained in Art. 311. This rule was only meant to gather materials for the satisfaction of the authority concerned, whether to take action or not. As such para 486 was merely directory and a failure to comply therewith strictly or otherwise did not vitiate the disciplinary action.',\n",
              " 'judgment': 'CIVIL APPELLATE JURISDICTION: Civil Appeal No. 119 of 1959. Appeal by special leave from the judgment and order dated January 9, 1958, of the Allahabad High Court (Lucknow Bench), Lucknow, in Civil Misc. Application No. 115 of 1955. 683 C. B. Agarwala and C. P. Lal, for the appellants. G. S. Pathak, Achru Ram, S. N. Andley, Rameshwar Nath, J. B. Dadachanji and P. L. Vohra for the respondent. 1960. November, 25. The Judgment of Sarkar, Subba Rao and Mudholkar, JJ., was delivered by Subba Rao, J., and that of Gajendragadkar and Wanchoo, JJ., was delivered by Wanchoo, J. SUBBA RAO, J.-This is an appeal by special leave against the judgment of the High Court of Judicature at Allahabad, Lucknow Bench, allowing the petition filed by the respondent under Art. 226 of the Constitution. The respondent was appointed a Sub-Inspector of Police in December, 1948, and was posted at Sitapur in June, 1953. On September 6, 1953, the respondent went to village Madhwapur in connection with an investigation of a case of theft. On the evening of the said date when he was returning, accompanied by one Lalji, an ex-patwari of Mohiuddinpur, he saw one Tika Ram coming from the side of a canal and going hurriedly towards a field. As the movements of Tika Ram appeared to be suspicious and as he was carrying something in the folds of his dhoti, the respondent searched him and found a bundle containing currency notes. The respondent counted the currency notes and handed them over to Lalji for being returned to Tika Ram, who subsequently got them and went his way. Subsequently when Tika Ram counted the currency notes at his house, he found that they were short by Rs. 250. Tika Ram’s case is that the bundle when taken by the respondent contained notes of the value of Rs. 650, but when he counted them in his house they were only of the value of Rs. 400. On September 9, 1953 Tika Ram filed a complaint to the Superintendent of Police, Sitapur, to the effect that the respondent and one Lalji had misappropriated a sum of its. 250. There is dispute in regard to the interpretation of the complaint. On receipt of the said complaint, the Superintendent of Police made enquiries 684 and issued a notice to the respondent to show cause why his integrity certificate should not be withheld, upon which the respondent submitted his explanation on October 3, 1953. Thereafter the Superintendent of Police forwarded the file of the case to the Deputy Inspector General of Police, Central Range, U. P., who directed the Superintendent of Police to take proceedings under s. 7 of the Police Act against the respondent. The departmental proceedings were started against the respondent; on November 2, 1953, a charge-sheet was served upon the respondent under s. 7 of the Police Act stating that there were strong reasons to suspect that the respondent misappropriated a sum of Rs. 250 from the purse of Tika Ram; the respondent filed his explanation to the charge made against him; and ultimately the Superintendent of Police held an enquiry and found on the evidence that the respondent was guilty of the offence with which he was charged. On January 2, 1954, the Superin- tendent of Police issued another notice to the respondent to show cause why he should not be reduced to the lowest grade of Sub-Inspector for a period of three years. In due course the respondent showed cause against the action proposed to be taken against him on a consideration of which the Superintendent of Police, Sitapur, by his order dated January 16, 1954 reduced the respondent to the lowest grade of Sub-Inspector for a period of three years. When this order came to the notice of the D. 1. G., U. P., on a consideration of the entire record, he came to the con- clusion that the respondent-should be dismissed from service and on October 19, 1954 he made an order to that effect. On February 28, 1955 the Inspector General of Police confirmed that order; and the revision filed by the respondent against that order to the State Government was also dismissed in August 1955. Thereafter the respondent filed a petition under Art. 226 of the Constitution before the High Court of Judicature at Allahabad, Lucknow Bench, for quashing the said orders and the same was heard by a division bench consisting of Randhir Singh and Bhargava, JJ. The learned judges held that the provisions of para. 685 486 of the Police Regulations had not been observed and, therefore, the proceedings taken under s. 7 of the Police Act were invalid and illegal. On that finding, they quashed the impugned orders; with the result that the order dismissing the respondent from service was set aside. The State Government, the Deputy Inspector General of Police, Lucknow, and the Inspector General of Police, Uttar Pradesh, Lucknow, have preferred the present appeal against the said order of the High Court. We shall now proceed to consider the various contentions raised by learned counsel in the order they were raised and argued before us. At the outset Mr. C. B. Agarwala, learned counsel for the appellants, contended that there was no breach of the provisions of para. 486 of the Police Regulations. If this contention be accepted, no other question arises ’in this case; therefore, we shall deal with the same. The material part of para. 486 of the Police Regulations reads thus: \"When the offence alleged against a police officer amounts to an offence only under section 7 of the Police Act, there can be no magisterial inquiry under the Criminal Procedure Code. In such cases, and in other cases until and unless a magisterial inquiry is ordered, inquiry will be made under the direction of the Superintendent of Police in accordance with the following rules: I.Every information received by the police relating to the commission of a cognizable offence by a police officer shall be dealt with in the first place under Chapter XIV, Criminal Procedure Code, according to law, a case under the appropriate section being registered in the police station concerned................. This provision expressly lays down that every information received by the police relating to the commission of a cognizable offence by a police officer shall be dealt with in the first place under Ch. XIV of the Criminal Procedure Code. This provision will not apply if the information received by the police does not 87 686 relate to the commission of a cognizable offence. Learned counsel contends that the information received in the present case does not relate to any offence committed by the respondent, much less to a cognizable offence. This is a point raised before us for the first time. This does not find a place even in the statement of case filed by the appellants. In the High Court it was not contended that the information did not disclose any offence committed by the respondent. Indeed, it was common case that the information disclosed an offence committed by the respondent, but it had been contended by the appellants that the misappropriation of the part of the money amounted to an offence under s. 403 of the Indian Penal Code, which is not a cognizable offence; and it was argued on behalf of the respondent that it amounted to an offence under s. 409 of the Indian Penal Code. The learned judges accepted the contention of the respondent. Even so, it is said that whatever might been the contentions of the parties, the information given by Tika Ram to the Superintendent of Police clearly disclosed that no offence was alleged to have been committed by the respondent and that this Court would, therefore, be justified, even at this very late stage, to accept the contention of the appellants. But the contents of the said information do not in any way support the assertion. Paragraph 3 of the application given by Tika Ram to the Superintendent of Police, Sitapur, reads thus: \"That on Sunday last dated 6th September, 1953 the applicant had with him the currency notes of Rs. 650. The opposite party as well as Shri Babu Ram met the applicant on the west of Rampur near the Canal. The opposite-party said to the Sub-Inspector \"This man appears to be clad in rags but is possessed of considerable money.\" After saying this the person of the applicant was searched. The Sub-Inspector, having opened the bundle of notes, handed over the (notes) one by one to the opposite party.\" This statement clearly indicates that either the Sub-. Inspector or both the Sub- Inspector and Lalji searched the person of Tika Ram, that the Sub-Inspector took 687 the bundle of notes and handed the same over, one by one, to Lalji for being returned to the applicant, and that out of Rs. 650 a sum of Rs. 250 was not returned to him. The facts alleged make out an offence against both the Sub-Inspector as well as Lalji. The mere fact that the respondent is not shown as one of the opposite parties in the application does not affect the question, for the information given in the application imputed the commission of an offence to both the respondent and Lalji. The notice issued by the Supe- rintendent of Police on November 2, 1953 to the respondent also charges him with an offence of misappropriation. It is stated that the said notice only says that the Superintendent of Police had good reasons to suspect that the respondent misappropriated the sum of money and that it does not aver that he committed the offence of misappropriation. But what matters is ’that the Superintendent of Police also understood from the information given and the enquiry conducted by him that the respondent had committed the offence. Reliance is placed upon paragraph 3 of the writ petition wherein the respondent herein stated that Tika Ram filed a complaint against Lalji and not against the respondent. As a fact that is correct in the sense that the respondent was not shown in that application as the opposite -party though in the body of that application definite allegations were made against the respondent. In the counter-affidavit filed by the Superintendent of Police on behalf of the State it was clearly averred that on September 9, 1953 Tika Ram appeared before him and filed a petition to the effect fiat one Lalji and the respondent had misappropriated a sum of Rs. 250. Whatever ambiguity there might have been in the information -we do not find any-this allegation dispels it and it is not open to the appellants at this stage to contend that the petition did not disclose any offence against the respondent. In the circumstances, we must hold that the information received by the police related to the commission of an offence by the respondent. Even so, it is contended that the said offence is not a cognizable offence. It is said that there was no 688 entrustment made by Tika Ram to the respondent and that, therefore, the offence did not fall under s. 409 of the Indian Penal Code, which is a cognizable offence, but only under s. 403 of the Indian Penal Code, which is not a cognizable offence. Section 405 of the Indian Penal Code defines \"criminal breach of trust\" and s. 409 thereof prescribes the punishment for the criminal breach of trust by a public servant. Under s. 405 of the Indian Penal Code, \"Whoever, being in any manner entrusted with property, or with any dominion over property, dishonestly misappropriates or converts to his own use that property, or dishonestly uses or disposes of that property in violation of any direction of law prescribing the mode in which such trust is to be discharged, or of any legal contract, express or implied, which he has made touching the discharge of such trust, or wilfully suffers any person so to do, commits \"criminal breach of trust\". To constitute an offence under this section, there must be an entrustment of property and dishonest misappropriation of it. The person entrusted may misappropriate it himself, or he may wilfully suffer another person to do so. In the instant case the respondent, being a police officer, was legally entitled to search a person found under suspicious circumstances; and Tika Ram in handing over the bundle of notes to the police officer must have done so in the confidence that he would get back the notes from him when the suspicion was cleared. In these circumstances, there cannot be any difficulty in holding that the currency notes were alleged to have been handed over by Tika Ram to the respondent for a specific purpose, but were dishonestly misappropriated by the respondent or at, any rate he wilfully suffered Lalji to misappropriate the same. We, therefore, hold that if the currency notes were taken by the respondent in discharge of his duty for inspection and return, he was certainly entrusted with the notes within the meaning of s. 405 of the Indian Penal Code. If so, the information discloses a cognizable offence. We reject the first contention. The second objection of learned counsel for the appellants is that sub-para. (3) of para. 486 of the 689 Police Regulations enables the appropriate police authority to initiate the departmental proceeding without complying with the provisions of sub-para. (1) of para. 486. The -relevant portion of para. 486 of the Police Regulations reads: \"When the offence amounts to an offence only under section 7 of the Police Act, there can be no magisterial inquiry under the Criminal Procedure Code. In such cases, and in other cases until and unless a magisterial inquiry is ordered, inquiry will be made under the direction of the Superintendent of Police in accordance with the following rules:......... \" Rule I relates to a cognizable offence, r. II to a non- cognizable. offence, including an offence under s. 29 of the Police Act, and r. III to an offence under s. 7 of the Police Act or a non-cognizable offence, including an offence under s. 29 of the Police Act. Rule III says: \"When a Superintendent of Police sees reason to take action on information given to him, or on his own knowledge or suspicion, that a police officer subordinate to him has committed an offence under section 7 of the Police Act or a non-cognizable offence (including an offence under section 29 of the Police Act) of which he considers it unnecessary at that stage to forward a report in writing to the District Magistrate under rule II above, he will make or cause to be made by an officer senior in rank to the officer charged, a departmental inquiry sufficient to test the truth of the charge. On the conclusion of this inquiry he will decide whether further action is necessary, and if so, whether the officer charged should be departmentally tried, or whether the District Magistrate should be moved to take cognizance of the case under the Criminal Procedure Code...\" The argument is that the words \"an offence under s. 7 of the Police Act\" take in a cognizable offence and that, therefore, this rule provides for a procedure alternative to that prescribed under r. I. We do not think that this contention is sound. Section 7 of the Police Act empowers certain officers to dismiss, suspend 690 or reduce any police officer of the subordinate rank whom they shall think remiss or negligent in the discharge of his duty, or unfit for the same. The grounds for punishment are comprehensive: they may take in offences under the Indian Penal Code or other penal statutes. The commission of such offences may also be a ground to hold that an officer is unfit to hold his office. Action under this section can, therefore, be taken in respect of, (i) offences only under s. 7 of the Police Act without involving any cognizable or noncognizable offences, that is, simple remissness or negli- gence in the discharge of duty, (ii) cognizable offences, and (iii) non-cognizable offences. Paragraph 486 of the Police Regulations makes this clear. It says that when the offence alleged against a police officer amounts to an offence only under s. 7 of the Police Act, there can be no magisterial inquiry under the Criminal Procedure Code. This part of the rule applies to an offence only under s. 7 of the Police Act i. e., the first category mentioned above. Rule I refers to a cognizable offence i. e., the second category, rule 11 to a non-cognizable offence i. e., the third category, and rule III applies to an offence under s. 7 of the Police Act and to a noncognizable offence. Though the word \"only\" is not mentioned in rule 111, the offence under s. 7 of the Police Act can, in the context, mean an offence only under s. 7 of the said Act i.e., an offence falling under the first category. So understood, the three rules can be reconciled. We, therefore, hold that, as the offence complained of in the present case is a cognizable offence, it falls under rule I and not under rule 111. We, therefore, reject this contention. The third contention advanced by learned counsel for the appellants raises a constitutional point of considerable importance. The gist of the argument may be stated thus: In England, the service under the Crown is held at the Crown’s pleasure, unless the employment is for good behaviour or for a cause. But if there is a statute prescribing the terms of service and the mode of dismissal of the servant of the Crown, the statute would control the pleasure of the Crown. In India, the Constitution as well as the 691 earlier Constitution Acts of 1915, as amended in 1919, and 1935 embodied the incidents of \"tenure at pleasure\" of His Majesty, or the President or the Governor, as the case may be, but did not empower the Legislatures under the earlier Acts and the Parliament and the Legislatures under the Constitution to make a law abrogating or modifying the said tenure; therefore, any law made by appropriate authorities conferring a power on any subordinate officer to dismiss a servant must be construed not to limit the power of His Majesty, the President or the Governor, as the case may be, but only to indicate that they would express their pleasure only through the said officers. The rules made in exercise of a power conferred on a Government-under a statute so delegating the power to a subordinate officer can only be administrative directions to enable the exercise of the pleasure by the concerned authorities in a reasonable manner and that any breach of those regulations cannot possibly confer any right on, or give a cause of action to, the aggrieved Government servant to go to a court of law and vindicate his rights. Mr. Pathak, learned counsel for the respondent, in countering this argument contends that the constitution Acts in India embodied the incidents of the tenure of the Crown’s pleasure in the relevant provisions and what the Parliament can do in England, the appropriate Legislatures in India also can do, that is, \"the tenure at pleasure\" created by the Constitution Acts can be abrogated, limited or modified by law enacted by the appropriate legislative bodies. Alternatively he contends that even if the Police Act does not curtail the tenure at pleasure, the Legislature validly made that law and the Government validly made statutory rules in exercise of the powers confered under that Act and that, therefore, the appropriate authorities can only dismiss the respondent in strict compliance with the provisions of the Act and the Rules made thereunder. To appreciate the problem presented and to afford a satisfactory answer it would be convenient to consider the relevant provisions. The Act we are concerned with in this case is the Police Act, 1861 (Act V 692 of 1861). Its constitutional validity at the time it was ,made was not questioned. Under s. 7 of the Police Act, as it originally stood, \"the appointment of all police officers other than those mentioned in B. 4 of this Act shall, under such rules as the local Government shall from time to time sanction, rest with the Inspector-General, Deputy Inspectors-General, Assistant Inspectors-General and District Superintendents of Police, who may, under such rules as aforesaid, at any time, dismiss, suspend or reduce any police-officer.\" That section was substituted by the present section in 1937 and later on some appropriate amend- ments were made to bring it in conformity with the Constitution. Under the amended section, \"Subject to such rules as the State Government may from time to time make under this Act, the Inspector-General, Deputy Inspectors- General, Assistant Inspectors-General and District Superintendent of Police may at any time dismiss, suspend or reduce any police officer of the subordinate ranks whom they shall think remiss or negligent in the discharge of his duty, or unfit for the same\". In exercise of the powers conferred on the Government by s. 46 of the Act, the Government made the U. P. Police Regulations prescribing the procedure for investigation and inquiry. We shall’ deal with the Regulations at a later stage. In the Government of India Act, 1915, as amended by the Act of 1919, for the first time, the doctrine of \"tenure at pleasure\" was introduced by s. 96-B. In exercise of the power conferred under sub-s. (2) certain classification rules were framed by the local Government. This Act was repealed by the Government of India Act, 1935, and the section corresponding to s. 96-B was s. 240(1) in the latter Act. Section 241(2) empowered, except as expressly provided by the Act, the Governor-General and the Governor to prescribe the conditions of service of the servants they were empowered to appoint. The main difference between the Act of 1919 and that of 1935 was that in the former Act there was only one limitation on the Crown’s pleasure, namely, that no person in the service might be dismissed by 693 an authority subordinate to that by which he was appointed, whereas in the latter Act a second limitation was imposed, namely, that no such person should’ be dismissed or reduced in rank until he had been given a reasonable opportunity of showing cause against the action proposed to be taken in regard to him: see s. 240, sub-ss. (2) and (3). Another difference between the said two Acts was that while under the former Act all the services were placed in the same position, -under the latter Act special provision was made for the police force prescribing that the conditions of service of the subordinate ranks of the various police forces should be such as might be determined by or under the Acts relating to those forces respectively-vide s. 243. By the Constitution, the Act of 1935 was repealed, and, with certain changes in phraseology, cls. (1) and (2) of Art. 310 took the place of sub-ss. (1) and (4) of s. 240 respectively, and Art. 309 took the place of s. 241(2). Under Art. 313, \"Until other provision is made in this behalf under this Constitution, all the laws in force immediately before the commencement of this Constitution and applicable to any public service or any post which continues to exist after the commencement of this Constitution, as an all-India service or as service or post under the Union or a State shall continue in force so far as consistent with the provisions of this Constitution\". The result is that the Police Act and the Police Regulations, made in exercise of the powers conferred on the Government under that Act, which .were preserved under s. 243 of the Government of India Act, 1935, continue to be in force after the Con- stitution so far as they are consistent with the provisions of the Constitution. It is common case, as the contentions of learned counsel disclose, that the Act and the Regulations framed thereunder were constitutionally valid at the inception and that they are also consistent with the provisions of the Constitution. The difference between the two contentions lies in the fact that according to one His Majesty’s pleasure cannot be modified 88 694 by a statute, according to the other it is subject to statutory provisions. The relevant provisions of the Constitution read thus: Article 309: \"Subject to the provisions of this Constitution, Acts of the appropriate Legislature may regulate the recruitment, and conditions of service of persons appointed, to public services and posts in connection with the affairs of the Union or of any State: Provided that it shall be competent for the President or such person as he may direct in the case of services and posts in connection with the affairs of the Union, and for the Governor of a State or such person as he may direct in the case of services and posts in connection with the affairs of the State, to make rules regulating the recruitment, and the conditions of service of persons appointed, to such services and posts until provision in that behalf is made by or under an Act of the appropriate Legislature under this article, and any rules so made shall have effect subject to the provisions of any such Act.\" Article 310: \"Except as expressly provided by this Constitution, every person who is a member of a defence service or of a civil service or holds any post connected with defence or any Civil Post under the Union holds office during the pleasure of the President, and every person who is a member of a civil service of a State or holds any civil post under a State holds office during the pleasure of the Governor of the State.\" Under Art. 309 the appropriate Legislature may regulate the recruitment and conditions of service of persons appointed to public services. Under Art. 310 every person who is EC member of a public service described therein holds office during the pleasure of the President or the Governor, as the case may be. The words \"conditions of service\" in Art. 309 in their comprehensive sense take in the tenure of a civil servant: see N. W. F. Province v. Suraj Narain (1). Therefore, \"the tenure at pleasure\" is also one of the conditions of service. But Art. 309 opens out with a (i) A.I.R. (1949) P.C. 112. 695 restrictive clause, namely, \"Subject to the provisions of this Constitution\", and if there is no restrictive, clause in Art. 310, there cannot be any difficulty in holding that Art. 309 is subject to the provisions of’ Art 310; with the result that the power of the Legislature to lay down the conditions of service of persons appointed to public services would be subject to \"the tenure at pleasure\" under Art. 310. In that event, any law made by the Legislature could not affect the over-riding power of the President or the Governor, as the case may be, in putting an end to the tenure at their pleasure. Would the opening words of the clause in Art. 310, namely, \"Except as expressly provided by this Constitution\", make any difference in the matter of interpretation? It should be noticed that the phraseology of the said clause in Art. 310 is different from that in Art. 309. If there is a specific provision in some part of the Constitution giving to a Government servant a tenure different from that provided for in Art. 310, that Government servant is excluded from the operation of Art. 310. The said words refer, inter alia, to Arts. 124, 148, 218 and 324 which provide that the Judges of the Supreme Court, the Auditor General, the Judges of the High Courts and the Chief Election Commissioner shall not be removed -from their offices except in the manner laid down in those Articles. If the provisions of the Constitution specifically prescribing different tenures were excluded from Art. 310, the purpose of that clause would be exhausted and thereafter the Article would be free from any other restrictive operation. In that event, Arts. 309 and 310 should be read together, excluding the opening words in the latter Article, namely, \"Except as expressly provided by this Constitution\". Learne counsel seeks to confine the operation of the opening words in Art. 309 to the provisions of the Constitution which empower other authorities to make rules relating to the conditions of service of certain classes of public servants, namely, Arts. 146(2), 148(5) and 229(2). That may be so, but there is no reason why Art. 310 should be excluded therefrom. It follows that while Art. 310 provides for a tenure at pleasure 696 of the President or the Governor, Art. 309 enables the Legislature or the executive, as the case maybe, to make any law or rule in regard, inter alia, to conditions of service without impinging upon the overriding power recognized under Art. 310. Learned counsel for the respondent contends that this construction is inconsistent with that prevailing in the English law and that the intention of the framers of the Constitution could not have been to make a radical departure from the law of England. The law of England on the doctrine of \"tenure at pleasure\" has now become fairly crystallized. In England, all servants of the Crown hold office during the pleasure of the Crown; the right to dismiss at pleasure is an implied term in every contract of employment of the Crown, this doctrine is not based upon any prerogative of the Crown, but on public policy; if the terms of appointment definitely prescribe a tenure for good behaviour or expressly provide for a power, to determine for a cause, such an implication of a power to dismiss at pleasure is excluded, and an Act of Parliament can abrogate or amend the said doctrine of public policy in the same way as it can do in respect of any other part of common law. The said propositions are illustrated in the following decisions: Shenton v. Smith (1), Gould v. Stuart (2), Reilly v. The King(3), Terrell v. Secretary of State (4). This English doctrine was not incorporated in its entirety in the Indian enactments-vide State of Bihar v. Abdul Majid (5), Parshotam Lal Dhingra v. Union of India (6). Section 96-B of the Government of India Act, 1915, for the first time in 1919, by amendment, statutorily recognized this doctrine, but it was made subject to a condition or s qualification, namely, that no person in that service might be dismissed by any authority subordinate to that by which he was appointed. Section 240 of the Act of 1935 imposed another limitation, namely, that a reasonable opportunity of showing cause against the action proposed to be taken in (i) [1895] A.C. 229. (3) [1934] A.C. 176. (5) [1954] S.C.R. 786. (2) [1896] A.C. 575. (4) (1953) 2 All E R. 490. (6) [1958] S.C.R. 828. 697 regard to a person must be given to him. But neither of the two Acts empowered the appropriate Legislature to make a law abolishing or amending the said doctrine. The Constitution of India practically incorporated the provisions of ss. 240 and 241 of the Act of 1935 in Arts. 309 and 310. But the Constitution has not made \"the tenure at pleasure\" subject to any law made by the appropriate Legislature. On the other hand, as we have pointed out, Art. 309 is expressly made subject to \"the tenure at pleasure\" in Art. 310. Nor the attempt of learned counsel for the respondent to discover such a power in the Legislature in the Entries of the appropriate Lists of the Seventh Schedule to the Constitution can be legally sustained. He referred, inter alia, to Entry 70 of List I and Entry 41 of List II. It is not disputed that Parliament can make law for the organization of the police and for the prevention and detection of crime. But under Art. 245 of the Constitution such a power is subject to the provisions of the Constitution and, therefore, is subject to the provisions of Art. 310. Nor can we imply such a power in Parliament or the Legislatures from Art. 154(2)(b) of the Constitution. Under Art. 154, \"the executive power of the State shall be vested in the Governor and shall be exercised by him either directly or through officers subordinate to him in accordance with this Constitution\", and under el. 2(b) thereof, \"nothing in this Article shall prevent Parliament or the Legislature of the State from conferring by law functions on any authority subordinate to the Governor.\" The argument is that a power to terminate the service at pleasure under Art. 310 is a part of the executive power of the State, that power under Art. 154 can be exercised by the Governor directly or through officers subordinate to him, and that under Art. 154(2)(b) the Parliament or the Legislature of the State can confer the same power on any authority subordinate to the Governor or, at any rate, can make a law prescribing that the Governor shall exercise the said pleasure through a particular officer. 698 We cannot agree either with the premises or the conclusion sought to be based on it. The first question is whether the power of the Governor under Art. 310 to terminate the services of a Government servant at pleasure is part of the executive power of the State under Art. 154 of the Constitution. Article 154 speaks of the executive power of the State vesting in the Governor; it does not deal with the constitutional powers of the Governor which do not form part of the executive power of the State. Article 162 says that, subject to the provisions of the Constitution, the executive power of the State shall extend to matters with respect to which the Legislature of the State has power to make laws. If the Legislature of the State has no power to make a law affecting the tenure at pleasure of the Governor, the said power must necessarily fall outside the scope of the executive power of the State. As we will presently show, the Legislature has no such power and, therefore, it cannot be a part of the executive power of the State. That apart, if the said power is part of the executive power in its general sense, Art. 162 imposes another limitation on that power, namely, that the said executive power is subject to the provisions of the Constitution and therefore, subject to Art. 310 of the Constitution. In either view, Art. 310 falls outside the scope of Art. 154 of the Constitution. That power may be analogous to that conferred on the Governor under Arts. 174, 175 and 176. Doubtless the Governor may have to exercise the said power whenever an occasion arises, in the manner prescribed by the Constitution, but that in itself does not make it a part of the executive power of the State or enable him to delegate his power. Even on the assumption that the power under Art. 310 is executive power within the meaning of Art. 154, it does not make any difference in the legal position so far as the present case is concerned. Article 310 of the Constitution says that unless expresssly provided by the Constitution to the contrary, every civil servant holds office during the pleasure of the Governor subject to the limitations prescribed under 699 Art. 311. Can it be said that Art. 154(2)(b) expressly provides for a different tenure? Can it be said that the said Article confers on the Parliament or the Legislature a power higher than that conferred on them under Art. 245 of the Constitution ? It only preserves the power of the Legislature, which it has under the Constitution, to make a law conferring functions on an authority subordinate to the Governor. That power under Art. 245 is not unlimited, but is subject to the provisions of the Constitution and there- fore subject to Art. 310 thereof. It is then said that if the appellants’ contention were not accepted, it would lead to conflict of jurisdiction: while the Governor has the power under Art. 310 to dismiss a public servant at his pleasure, a statute may confer a power on a subordinate officer to dismiss a servant only subject to conditions; a subordinate officer functioning under an Act may not be able to dismiss a servant, but the Governor may be able to do so under similar circumstances; a subordi- nate officer may dismiss a servant, but the Governor may order his continuance in office. This argument is based upon the misapprehension of the scope of Art. 309 of the Constitution. A law made by the appropriate Legislature or the rules made by the President or the Governor, as the case may be, under the said Article may confer a power upon a particular authority to remove a public servant from service; but the conferment of such a power does not amount to a delegation of the Governor’s pleasure. Whatever the said authority does is by virtue of express power conferred on it by a statute or rules made by competent authorities and not by virtue of any delegation by the Governor of his power. There cannot be conflict between the exercise of the Governor’s pleasure under Art. 310 and that of an authority under a statute, for the statutory power would be always subject to the overriding pleasure of the Governor. This conclusion, the argument proceeds, would throw a public servant in India to the mercy of the executive Government while their compeers in England 700 can be protected by legislation against arbitrary actions of the State. This apprehension has no real .basis, for, unlike in England, a member of the public service in India is constitutionally protected at least in two directions: (i) he cannot be dismissed by an authority subordinate to that by which he was appointed; (ii) he cannot be dismissed, removed or reduced in rank until he has been given a reasonable opportunity of showing cause against the action proposed to be taken in regard to him. A condition similar to the first condition in Art. 311 found in s. 96-B of the Government of India Act, 1919, was hold by the Judicial Committee in R. T. Bangachari v. Secretary of State for India (1) to have a statutory force, and the second condition, which is only a reproduction of that found in sub-section (2) of s. 240 of the Government of India Act, 1935, was held in High Commissioner for India and High Commissioner for Pakistan v. I. M. Lall (2) as mandatory qualifying the right of the employer recognized in sub- section (1) thereof. These two statutory protections to the Government servant are now incorporated in Art. 311 of the Constitution. This Article imposes two qualifications on the exercise of the pleasure of the President or the Governor and they quite clearly restrict the operation of the rule embodied in Art. 310(1)-vide the observations of Das, C.J., in Dhingra’s case (3). The most important of these two limitations is the provision prescribing that a civil servant shall be given a reasonable opportunity of showing cause against the -action proposed to be taken in regard to him. As this condition is a limitation on the \"tenure at pleasure\", a law can certainly be made by Parliament defining the content of \"reasonable opportunity\" and prescribing the procedure for giving the said opportunity. The appropriate High Court and the Supreme Court can test the validity of such a law on the basis whe- ther the -provisions prescribed provide for such an opportunity, and, if it is valid, to ascertain whether the reasonable opportunity so prescribed is really given to a particular officer. It may be that the (1) (1936) L.R. 64 I.A. 40. (2) (1948) L.R. 75 1.A. 225. (3) [1958] S.C.R. 828, 839. 701 framers of the Constitution, having incorporated in our Constitution the \"tenure at pleasure\" unhampered by legislative interference, thought that the said limitations and qualifications would reasonably protect the interests of the civil servants against arbitrary actions. The discussion yields the following results: (1) In India every person who is a member of a public service described in Art. 310 of the Constitution holds office during the pleasure of the President or the Governor, as the case may be, subject to the express provisions therein. (2) The power to dismiss a public servant at pleasure is outside the scope of Art. 154 and, therefore, cannot be delegated by the Governor to a subordinate officer, and can be exercised by him only in the manner prescribed by the Constitution. (3) This tenure is subject to the limitations or qualifications mentioned in Art. 311 of the, Constitution. (4) The Parliament or the Legislatures of States cannot make a law abrogating or modifying this tenure so as to impinge upon the overriding power conferred upon the President or the Governor under Art. 310, as qualified by Art. 311. (5) The Parliament or the Legislatures of States can make a law regulating the conditions of service of such a member which includes proceedings by way of disciplinary action, without affecting the powers of the President or the Governor under Art. 310 of the Constitution read with Art. 311 thereof. (6) The Parliament and the Legislatures also can make a law laying down and regulating the scope and content of the doctrine of \"reasonable opportunity\" embodied in Art. 311 of the Constitution; but the said law would be subject to judicial review. (7) If a statute could be made by Legislatures within the foregoing permissible limits, the rules made by an authority in exercise of the power conferred thereunder would likewise be efficacious within the said limits. What then is the effect of the said propositions in their application to the provisions of the Police Act and the rules made thereunder? The Police Act of 89 702 1861 continues to be good law under the Constitution. Paragraph 477 of the Police Regulations shows that the rules in Chapter XXXII thereof have been framed under s. 7 of the Police Act. Presumably, they were also made by the Government in exercise of its power under s. 46(2) of the Police Act. Under para. 479(a) the Governor’s power of punishment with reference to all officers is preserved; that is to say, this provision expressly saves the power of the Governor under Art. 310 of the Constitution. \"Rules made under a statute must be treated for all purposes of construction or obligation exactly as if they were in the Act and are to be of the same effect as if contained in the Act, and are to be judicially noticed for all purposes of construction or obligation\": see Maxwell \"On the Interpretation of Statutes\", 10th edn., pp. 5051. The statutory rules cannot be described as, or equated with, administrative directions. If so, the Police Act and the rules made thereunder constitute a self-contained code providing for’ the appointment. of police officers and prescribing the procedure for their removal. It follows that where the appropriate authority takes disciplinary action under the Police Act or the rules made thereunder, it must conform to the provisions of the statute or the rules which have conferred upon it the power to take the said action. If there is any violation of the said provisions, subject to the question which we will presently consider whether the rules are directory or mandatory, the public servant would have a right to challenge the decision of that authority. Learned counsel for the appellants relied upon the following decisions of the Privy Council and this Court in support of his contention that the said rules are administrative directions: R. T. Rangachari v. Secretary of State for India (1), R. Venkata Rao v. Secretary of State for India (2), High Commissioner for India and High Commissioner for Pakistan v. I. M. Lall (3), S. A. Venkataraman v. The Union of India(4), and Khem Chand v. The Union of India(5). In Venkata Rao’s (1) (1936) L.R. 64 I.A. 40. (3) (1948) L.R. 75 I.A. 225. (2) (1936) L.R. 64 I.A. 55. (4) [1954] S.C.R. 1150. (5) [1958] S.C.R. 1080. 703 case (1) a reader of the Government Press was dismissed and in the suit filed by him against the Secretary, of State for India he complained, inter alia, that the dismissal was contrary to the statute inasmuch as it was not preceded by any such inquiry as was prescribed by rule XIV of the Civil Services Classification Rules made under s. 96B(2) of the Government of India Act. Under s. 96B of the said Act, every person in civil service holds office during the pleasure of His Majesty. Sub-section (2) of that section empowers the Secretary of State for India to make rules laying down, among others, the conditions of service, and sub-s. (5) declares that no rules so made shall be construed to limit or abridge the power of the Secretary of State in Council to deal with the case of any person in the civil service of the Crown in India in such manner as may appear to him to be just and equitable. - On a construction of these provisions the Judicial Committee held that His Majesty’s pleasure was paramount and could not legally be controlled or limited by the rules. Two reasons were given for the conclusion, namely, (i) s. 96B in express terms stated that the office was held during the pleasure and there was no room for the implication of a contractual term that the rules were to be observed; and (ii) sub-s. (2) of s. 96B and the rules made careful provisions for redress of grievances by administrative process and that sub-s. (5) reaffirmed the superior authority of the Secretary of State in Council over the civil service. It may be noticed that the rules framed in exercise of the power conferred by the Act was to regulate the exercise of His Majesty’s pleasure. The observations were presumably coloured by the doctrine of \"tenure at pleasure\" obtaining in England, namely, that it could only be modified by statute, influenced by the princi- ple that the rules made under a statute shall be consistent with its provisions and, what is more, based upon a construction of the express provisions of the Act. These observations cannot, in our opinion, be taken out of their context and applied to the provisions of our Constitution and the Acts of our Legislatures in derogation of the well settled principles of (1) (1936) L. R. 64 I. A. 55. 704 statutory construction. In Bangachari’s case (1) a police officer was dismissed by an authority subordinate to that by which he had been appointed. The appeal was heard along with that in Venkata Rao’s case (2) and the judgments in both the appeals were delivered on the same day. The Judicial Committee distinguished Venkata Rao’s case (2) with the following observations at p. 53: \"It is manifest that the stipulation or proviso as to dismissal is itself of statutory force and stands on a footing quite other than any matters of rule which are of infinite variety and can be changed from time to time.\" These observations do not carry the matter further an our remarks made in connection with Venkata Rao’s case (2) would equally apply to this case. I.M. Lall’s case (3) turns upon sub-s. (3) of s. 240 of the Government of India Act, 1935. Again the Judicial Committee made a distinction between the rules and the provisions of the Act and ruled that sub-ss. (2) and (3) of s. 240 indicated a qualification or exception to the antecedent provisions in sub-s. (1) of s. 240. This decision only adopted the reasoning in the earlier decision. The remarks made by us in connection with Venkata Rao’s case (2) would equally apply to this decision. This Court in S. A. Venkataraman’s case (4) incidentally noticed the observations of the Judicial Committee in Venkata Rao’s case (2) and observed that the rules, which were not incorporated in a statute, did not impose any legal restriction upon the right of the Crown to dismiss its servants at pleasure. This Court was not laying down any general proposition, but was only stating the gist of the reasoning in Venkata Rao’s case (2). Das, C.J., if we may say so, correctly stated the scope of the rule in Venkata Rao’s case (2) in the decision in Khem Chand’s case (5), when he stated at p. 1091- \"The position of the Government servant was, therefore, rather insecure, for his office being held during the pleasure of the Crown under the Government of India Act, 1915, the rules could not override (1) (1936) L.R. 64 I.A. 40. (3) (1948) L.R. 75 I.A. 225. (2) (1936) L.R. 64 I.A. 55. (4) [1954] S.C.R. 1150. (5) [1958] S.C.R. 1080. 705 or derogate from the statute and the protection of the rules could not be enforced by action so as to nullify the statute itself.\" To state it differently, the Government of India Act, 1915, as amended in 1919, and that of 1935 expressly and clearly laid down that the tenure was at pleasure and therefore the rules framed under that Act must be consistent with the Act and not in derogation of it. These decisions and the observations made therein could not be understood to mark a radical departure from the fundamental principle of construction that rules made under a statute must be treated as exactly as if they were in the Act and are of the same effect as if contained in the Act. There is another principle equally fundamental to the rules of construction, namely, that the rules shall be consistent with the provisions of the Act. The decisions of the Judicial Committee on the provisions of the earlier Constitution Acts can be sustained on the ground that the rules made in exercise of power conferred under the Acts cannot override or modify the tenure at pleasure provided by s. 96B or s. 240 of the said Acts, as the case may be. Therefore, when the paramountcy of the doctrine was conceded or declared by the statute, there might have been justification for sustaining the rules made under that statute in derogation thereof on the ground that they were only administrative directions, for otherwise the rules would have to be struck down as inconsistent with the Act. In such a situation, if the statute was valid-it would be valid in so far as it did not derogate from the provisions of Art. 310, read with Art. 311-the rules made thereunder would be as efficacious as the Act itself. So long as the statute and the rules made thereunder do not affect the power of the Governor-in the present case the Governor’s pleasure is expressly preserved- they should be legally enforceable. In this context the decisions of the different High Courts in India are cited at the Bar. It would not serve any purpose to consider every one of them in detail. It would suffice if their general trend be noticed. They express two divergent views: one line relies upon the observations 706 of the Privy Council in Venkata Rao’s case (1) and lays down that all statutory rules vis-a-vis the disciplinary proceedings taken against a Government servant are administrative directions, and the other applies the well settled rules of construction and holds that the appropriate authority is bound to comply with the mandatory provisions of the rules in making an inquiry under a particular statute. A close scrutiny of some of the decisions discloses a distinction implied, though not expressed, between statutory rules defining the scope of reasonable opportunity and those governing other procedural steps in the disciplinary process. In our view, subject to the overriding power of the President or the Governor under Art. 310, as qualified by the provisions of Art. 311, the rules governing disciplinary proceedings cannot be treated as administrative directions, but shall have the same effect as the provisions of the statute whereunder they are made, in so far a,-, they are not inconsistent with the provisions thereof We have already negatived the contention of learned counsel that the Governor exercises his pleasure through the officers specified in s. 7 of the Police Act, and therefore, it is not possible to equate the Governor’s pleasure with that of the specified officers’ statutory power. If so, it follows that the inquiry under the Act shall be made in accordance with its provisions and the rules made thereunder. Then learned counsel contends that even if the said rules have statutory force, they are only directory and the non- compliance with the rules will not invalidate the order of dismissal made by the appropriate authority. Before we consider the principles governing the question whether the rules are mandatory or directory, it would be convenient at this stage to notice broadly the scope and the purpose of the inquiry contemplated by the rules. Section 2 of the Police Act constitutes the police establishment; s. 7 empowers specified officers to (1) [1936] L.R. 64 I.A. 55. 707 punish specified subordinate officers who are remiss or negligent in discharge of their duties or unfit for the same; s. 46 enables the Government to make rules. to regulate the procedure to be followed by the magistrate and police officers in discharge of any duty imposed on them by or under the Act; under s. 7, read with s. 46 of the Police Act, the Police Regulations embodied in chapter XXXII were framed. Paragraph 477 of the Regulations says that the rules in that chapter have been made under s. 7 of the Police Act and apply only to officers appointed under s. 2 of the Police Act and that no officer appointed under that section shall be punished by executive order otherwise than in the manner provided in that chapter. Paragraph 478 prescribes the nature of the punishment that can be imposed on the delinquent officers. Paragraph 479 empowers specified officers to punish specified subordinate officers. Paragraph 483 gives the procedure to be followed in the matter of the inquiry against a police officer. It reads: \"Subject to the special provision contained in paragraph 500 and to any special orders which may be passed by the Governor in particular cases a proceeding against a police officer will consist of- A-A magisterial or police inquiry, followed, if this inquiry shows the need for further action, by B-A judicial trial, or C-A departmental trial, or both, consecutively.\" Paragraph 484 declares that the nature of the inquiry in any particular -case will vary according to the nature of the offence. If the offence is cognizable or non-cognizable, the inquiry will be according to Schedule II of the Criminal Procedure Code. If the information is received by the District Magistrate, he may in exercise of his powers under the Criminal Procedure Code either, (1) make or order a magisterial inquiry; or (2) order an investigation by the Police. Paragraph 485 reads: \"When a magisterial inquiry is ordered it will be made in accordance with the Criminal Procedure Code and the Superintendent of Police will have no direct 708 concern with it until the conclusion of judicial proceedings or until and unless the case is referred to him for further disposal, but he must give any assistance to the inquiring magistrate that he may legally be called upon to give and he must suspend the accused should this become necessary under paragraph 496.\" Paragraph 486 says that there can be no magisterial inquiry under the Criminal Procedure Code when the offence alleged against a police officer amounts to an offence only under s. 7 of the Police Act, and it provides further that in such cases, and in, other cases until and unless a magisterial inquiry is ordered, inquiry will be made under the direction of the Superintendent of Police in accordance with the rules given thereunder. Under rule I thereof, \"Every information received by the police relating to the commission of a cognizable offence by a police officer shall be dealt with in the first place under Chapter XIV, Criminal Procedure Code, according to law, a case under the appropriate section being registered in the police station concerned\". There are six provisos to that rule. Rule II provides for the inquiry of a non-cognizable offence; and rule III prescribes the procedure in regard to an offence only under s. 7 of the Police Act or a non- cognizable offence of which the Superintendent of Police considers unnecessary at that stage to forward a report in writing to the District Magistrate. Paragraph 488 deals with a judicial trial and para. 489 with a departmental trial. Paragraph 489 says: \"A police officer may be departmentally tried under section 7 of the Police Act- (1) after he has been tried judicially; (2) after a magisterial inquiry under the Criminal Procedure Code; (3) after a police investigation under the Criminal Procedure Code or a departmental enquiry under paragraph 486,III above.\" There are other provisions dealing with the manner of conducting the inquiries and other connected matters. The rules provide for the magisterial and police inquiry followed, if the inquiry showed the need for further action, by a judicial trial or a departmental 709 trial, or both, consecutively. In the case of cognizable offences the Superintendent of Police is directed to investigate under chapter XIV of the Criminal Pro- p, cedure Code and in the case of non-cognizable offences in the manner provided in rule II of para. 486, and in the case of an offence only under s. 7 of the Police Act or a non- cognizable offence in the manner provided under rule III of para. 486. After one or other of the relevant procedure is followed, the Superintendent of Police is empowered to try a police officer departmentally. The question is whether rule I of para. 486 is directory. The relevant rule says that the police officer shall be tried in the first place under chapter XIV of the Criminal Procedure Code. The word \"shall\" in its ordinary import is \"obligatory\"; but there are many decisions wherein the courts under different situations construed the word to mean \"may\". This Court in Hari Vishnu Kamath v. Syed Ahmad Ishaque (1) dealt with this problem at p. 1125 thus: \"It is well established that an enactment in form mandatory might in substance be directory and that the use of the word \"shall\" does not conclude the matter.\" It is then observed: \"They (the rules) are well-known, and there is no need to repeat them. But they are all of them only aids for ascertaining the true intention of the legislature which is the determining factor, and that must ultimately depend on the context.\" The following quotation from Crawford \"On the Construction of Statutes\", at p. 516, is also helpful in this connection: \"The question as to whether a statute is mandatory or directory depends upon the intent of the legislature and not upon the language in which the intent is clothed. The meaning and intention of the legislature must govern, and these are to be ascertained, not only from the phraseology of the provision, but also by considering its nature, its design, and the (1) [1955] 1 S.C.R. 1104. 90 710 consequences which would follow from construing it the one way or the other......\" This passage was approved by this Court in State of U. P. v. Manbodhan Lal Srivastava (1). In Craies on Statute Law, 5th edition, the following passage appears at p. 242: \"No universal rule can be laid down as to whether mandatory enactments shall be considered directory only or obligatory with an implied nullification for disobedience. It is the duty of Courts of Justice to try to get at the real intention of the Legislature by carefully attending to the whole scope of the statute to be construed.\" A valuable guide for ascertaining the intention of the Legislature is found in Maxwell on \"The Interpretation of Statutes\", 10th edition, at p. 381 and it is: \"On the other hand, where the prescriptions of a statute relate to the performance of a public duty and where the invalidation of acts done in neglect of them would work serious general inconvenience or injustice to persons who have no control over those entrusted with the duty without promoting the essential aims of the legislature, such prescriptions seem to be generally understood as mere instructions for the guidance and government of those on whom the duty is imposed, or, in other words, as directory only. The neglect of them may be penal, indeed, but it does not affect the validity of the act done in disregard of them.\" This passage was accepted by the Judicial Committee of the Privy Council in the case of Montreal Street Railway Company v. Normandin (2 ) and by this Court in State of U. P. v. Manbodhan Lal Srivastava (1). The relevant rules of interpretation may be briefly stated thus: When a statute uses the word \"shall\", prima facie, it is mandatory, but the Court may ascertain the real intention of the legislature by carefully attending to the whole scope of the statute. For ascertaining the real intention of the Legislature the Court may consider, inter alia, the nature and the design of the statute, and the consequences which (1) [1958] S.C.R. 533, 545. (2) L.R. [1917] A.C.770. 711 would follow from construing it the one way or the other, the impact of other provisions whereby the necessity of complying with the provisions in question is avoided, the circumstance, namely, that the statute provides for a contingency of the non-compliance with the provisions, the fact that the non-compliance with the provisions is or is not visited by some penalty, the serious or trivial consequences that flow therefrom, and, above all, whether the object of the legislation will be defeated or furthered. Now what is the object of rule I of para. 486 of the Police Regulations? In our opinion, it is conceived not only to enable the Superintendent of Police to gather information but also to protect the interests of subordinate officers against whom departmental trial is sought to be held. After making the necessary investigation under chapter XIV of the Criminal Procedure Code, the Superintendent of Police may as well come to the conclusion that the officer concerned is innocent, and on that basis drop the entire proceedings. He may also hold that it is a fit case for criminal prosecution, which, under certain circumstances, an honest officer against whom false charges are framed may prefer to face than to submit himself to a departmental trial. Therefore,the rules are conceived in the interest of the department as well as the officer. From the stand point of the department as -well as the officer against whom departmental inquiry is sought to be intiated, the preliminary inquiry is very important and it serves a real purpose. Here the setting aside of the order of dismissal will not affect the public in general and the only consequence will be that the officer will have to be proceeded against in the manner prescribed by the rules. What is more, para. 487 and para. 489 make it abundantly clear that the police investigation under the Criminal Procedure Code is a condition precedent for the departmental trial. Paragraph 477 emphasizes that no officer appointed under s. 2 of the Police Act shall be punished by executive order otherwise than in the manner provided under chapter XXXII of the Police Regulations. This is an imperative injunction prohibiting 712 inquiry in non-compliance with the rules. Paragraph 489 only empowers the holding of a departmental trial in regard to a police officer only after a police investigation under the Criminal Procedure Code. When a rule says that a departmental trial can be held only after a police investigation, it is not permissible to hold that it can be held without such investigation. For all the foregoing reasons, we hold that para. 486 is mandatory and that, as the investigation has not been held under chapter XIV of the Criminal Procedure Code, the subsequent inquiry and the order of dismissal are illegal. For the foregoing reasons we hold that, as the respondent was dismissed without complying with the provisions of para. 486(1), the order of dismissal is illegal and that the High Court is right in setting aside the order of dismissal. In the result, the appeal fails and is dismissed with costs. WANCHOO, J.-We regret we are unable to agree that the appeal be dismissed. Babu Ram Upadhya (respondent) was a sub-inspector of police who was appointed in December, 1948. In 1953, he was posted at Sitapur. On September 6, 1953, he was returning from a village called Madhwapur, when he saw a man who was subsequently found to be Tika Ram coming from the side of a canal and going hurriedly into a field. The movements of Tika Ram roused his suspicion. One Lalji, an ex-patwari, was also with the sub-inspector. Tika Ram was called and searched, and a bundle containing currencynotes was found on him. The sub-inspector took the bundle and counted the notes and handed them over to Lalji. Lalji in his turn handed over the notes to Tika Ram. Thereafter Tika Ram, who is an old-man, almost blind, went away. When he reached his house, he found that there was a shortage of Rs. 250. He then made a complaint to the Superintendent of Police on September 9, 1953, in which he gave the above facts. An inquiry was made by the Superintendent of Police and ultimately, departmental proceedings under s. 7 of the Police Act were taken 713 against the respondent. These proceedings resulted in his dismissal and thereupon the respondent applied to the High Court under Art. 226 of the Constitution. The main contention of the respondent was that r. 486 of the Police Regulations framed under s. 7 of the Police Act was not observed and therefore the departmental proceedings taken against him were illegal. The reply of the appellant was two-fold: in the first place, it was urged that r. 486 did not apply as there was no report of a cognizable offence against the sub-inspector; and in the next place, it was urged that the rules contained in the Police Regulations were only administrative rules and even if there was non- compliance with any of them, it would not affect the departmental proceedings taken against the respondent, provided there was no breach of the guarantees contained in Art. 311 of the Constitution. The High Court held that there was a report of a cognizable offence under s. 409 of the Indian Penal Code against the respondent and therefore the procedure provided by r. 486 ought to have been followed. It further held that r. 486 had been framed under s. 7 of the Police Act and was a statutory provision, which had the force of law. As such, following the earlier view taken by the High Court in two other cases it held that a dismissal as a result of departmental proceedings which took place without complying with r. 486 would be illegal. In consequence, the writ petition was allowed. The appellant then applied for a certificate to enable it to appeal to this Court, which was refused. Thereupon special leave was prayed for from this Court, which was granted; and that is how the matter has come up before us. Mr. C. B. Aggarwala on behalf of the appellant urges the same two points before us. So far as the first point is concerned, we are of opinion that there is no force in it. There is no doubt that in the complaint made by Tika Ram, the name of the respondent was not shown in the heading; but from the facts disclosed in the body of the complaint it is clear that the sub-inspector searched the person of Tika Ram and recovered a bundle containing currency-notes. He 714 did so obviously under the authority vested in him as a police officer. When therefore he was satisfied that there was no reason to take any further action against Tika Ram, it was his duty to see that the entire amount taken by him from Tika Ram on search was returned to him (Tika Ram). The High Court was right in the view that where property is taken away with the intention that it will continue to be the property of the person from whose possession it has been taken away, there will be an entrustment of the property to the person taking it away, and if. subsequently the person taking it away converts it to his own use or suffers some other person to do so, there will be criminal breach of trust and not merely criminal misappropriation. Thus an offence under s. 409 of the Indian Penal Code appears to have been committed prima facie on the facts of this case. As an offence under s. 409 is a cognizable offence, r. 486 of the Police Regulations would apply. This brings us to the main point in the present appeal. Sec. 7 of the Police Act under which r. 486 has been framed is in these terms:- \"Subject to such rules as the State Government may from time to time make under this Act, the Inspector-General, Deputy Inspectors-General, Assistant Inspectors-General and District Superintendents of Police may at any time dismiss, suspend or reduce any police-officer -of the subordinate ranks whom they shall think remiss or negligent in the discharge of his duty or unfit for the same; or may award any one or more, of the following punishments to any police-officer of the subordinate ranks, who shall discharge his duty in a careless or negligent manner, or who, by any act of his own shall render himself unfit for the discharge thereof, name- (a) fine to any amount not exceeding one month’s pay; (b) confinement to quarters for a term not exceeding fifteen days, with or without punishment, drill, extra guard, fatigue or other duty; (c) deprivation of good-conduct pay; 715 (d) removal from any office of distinction or special emolument;\". It gives power to four grades of police officers to dismiss, suspend or reduce any police officer of the subordinate ranks whom they think remiss or negligent in the discharge of his duty or unfit for the same. It also provides for infliction of four other kinds of punishment by these four grades of officers on any police officer of the subordinate ranks who discharges his duty in a careless or negligent manner or who by any act of his own renders himself unfit for the discharge thereof. In the present case we are concerned with dismissal and what we shall say hereafter should be taken to be confined to a case of dismissal. Sec- tion 7 shows that the power of dismissal conferred by it on the four grades of police officers is to be exercised subject to such rules as the State Government may from time to time make under the Police Act. The contention on behalf of the respondent is that the power of dismissal has to be exercised subject to rules and therefore, when r. 486 of the Police Regulations (framed under s. 7) provided a certain procedure to be followed with respect to cases in which a cognizable offence was involved it was not open to the authority concerned to disregard that procedure. In effect, it is urged that r. 486 is a mandatory provision and non- compliance with it would invalidate the departmental proceedings. It is not in dispute in this case that the procedure provided by r. 486 was not followed. That procedural provision is that where a report of a cognizable crime is made against a police officer belonging to the subordinate ranks, it has to be registered as provided in Chapter XIV of the Code of Criminal Procedure and investigated as provided thereunder. Thereafter the authority concerned has to decide whether to send the case for trial before a court of law or to take departmental proceedings. In this case no report was registered as provided under Chapter XIV of the Code of Criminal Procedure and no investigation was made as provided in that Chapter. All that happened was that the Superintendent of Police to whom Tika Ram had complained inquired into the 716 complaint of Tika Ram and thereafter decided to hold a departmental inquiry under s. 7 of the Police Act against the respondent. The main contention on behalf of the appellant is that the Rules framed under s. 7 of the Police Act are administrative rules and in any case they are only directory and non- compliance with them would not vitiate the subsequent proceedings unless there is a breach of the guarantee contained in Art. 311 of the Constitution, as all public servants hold their office at the pleasure of the President or the Governor, as the case may be, other than those expressly excepted under the Constitution. Reliance in this connection is placed on the case of R. Venkata Rao v. Secretary of State for India in Council (1). This brings us to a consideration of the tenure on which public servants hold office. The position in England is that all public servants hold office at the pleasure of His Majesty, that is to say, their service was terminable at any time without amuse: (see Shenton v. Smith (2 )). By law, however, it is open to Parliament to prescribe a different tenure and the King being a party to every Act of Parliament is understood to have accepted the change in the tenure when he gives assent to such law: (see Gould v. Stuart (3)). This principle applied in India also before the Government of India Act, 1915, was amended by the addition of s. 96-B therein. Section 96-B for the first time provided by statute that every person in the civil service of the Crown held office during His Majesty’s pleasure, subject to the provisions of the Government of India Act and the rules made thereunder and the only protection to a public servant against the exercise of pleasure was that he could not be dismissed by any authority subordinate to that by which he was appointed. It was this section, which came for consideration before the Privy Council in Venkata Rao’s case (1) and the Privy Council held that in spite of the words \".subject to the rules made under the Government of India Act,\" Venkata Rao’s employment was not of a (1) (1936) L.R. 64 I.A. 55 (2) [1895] A.C. 229. (3) [1896] A.C. 575. 717 limited and special kind during pleasure with an added contractual term that the procedure prescribed, by the Rules must be observed; it was by the express terms of s. 96-B held \"during His Majesty’s pleasure\" and no right of action as claimed by Venkata Rao existed. The Privy Council further held that the terms of s. 96-B assured that the tenure of office, though at pleasure, would not be subject to capricious or arbitrary action but would be regulated by the rules which were manifold in number, most minute in particularity and all capable of change; but there was no right in the -public servant enforceable by action to hold his office in accordance with those rules and he could therefore be dismissed notwithstanding the failure to observe the procedure prescribed by them. The main point which was urged in Venkata Rao’s case (1) was that under r. XIV of the Civil Services Classification Rules no public servant could be dismissed, removed or reduced in rank except after a properly recorded departmental inquiry. In Venkata Rao’s case (1) the departmental inquiry prescribed by the rules was found not to have been held. Even so, the Privy Council held that the words used in s. 96-B could not and did not cut down the pleasure of His Majesty by rules though it was observed that the terms of the section contained a statutory and solemn assurance, that the tenure of office, though at pleasure., would not be subject to capricious or arbitrary, action, but would be regulated by rule. It was further added that supreme care should be taken that this assurance is carried out in the letter and in the spirit. The Privy Council further held that in’ the case before it, there had been a serious and complete failure to adhere to important and indeed fundamental rules, and mistakes of a serious kind had been made and wrongs had been done which called for redress; even so; they were of the view that as a matter of law that redress was not obtainable from courts by action..,. This was the position under the Government of India Act 1915. There was however a material change in the Government of India Act, 1935. So far, there (1) (1936) L.R. 64 I. A. 55. 91 718 was one protection to a public servant, namely, that he could not be dismissed by an authority subordinate to that by which he was appointed. In the Government of India Act, 1935, s. 240(1) laid down that-- \" except as expressly provided by this Act, every person who is a member of a civil service of the Crown in India...... holds office during His Majesty’s pleasure.\" The words of this section are different from those of s. 96- B and the tenure of all public servants other than those expressly provided for was to be during His Majesty’s pleasure. There were, however, two safeguards provided by sub-ss. (2) and (3) of s. 240. The first was the same (namely, that no public servant will be dismissed by an officer subordinate to that who appointed him); but a further exception was added to the pleasure tenure, namely, no public servant shall be dismissed until he has been given a reasonable opportunity of showing cause against the action proposed to be taken in regard to him. This protection came to be considered by the Privy Council in High Commissioner for India and High Commissioner for Pakistan v. 1. M. Lall (1) and it was held that it was a mandatory provision and qualified the pleasure tenure and provided a condition precedent to the exercise of power by His Majesty provided by sub-s. (1) of s. 240. Thus by the Government of India Act, 1935, there were two statutory guarantees to public servants against the exercise of the pleasure of his Majesty; but it is clear from s. 240 of the Government of India Act, 1935, that the pleasure of His Majesty to dismiss was not otherwise subject to rules framed under the subsequent provisions of the Government of India Act appearing in Chapter 11 of Part X dealing with public services. This position continued till we come to the Constitution. Article 310(1) of the Constitution provides for what was contained in s. 240(1) of the Government of India Act, 1935, and is in these terms: \"(1) Except as expressly provided by this Constitution, every person who -is a member of a defence (1) (1948) L.R. 75 I.A. 225. 719 service or of a civil service of the Union or of an all India service or holds any post connected with defence, or any civil post under the Union, holds office during the pleasure of the President, and every person who is a member of a civil service of a State or holds any civil post under a State holds office during the pleasure of the Governor of the State.\" It will be clear therefore that all public servants except as expressly provided by the Constitution hold their office during the pleasure of the President or the Governor, as the case may be. Article 311 then provides for two guarantees and is similar in terms to s. 240(2) and (3) of the Government of India Act, 1935 and the two guarantees are the same, (namely, (i) that no person shall be dismissed or removed by an authority subordinate to that by which he was appointed, and (ii) no such person shall be dismissed or removed or reduced in rank until he has been given a reason- able opportunity of showing cause against the action proposed to be taken in regard to him). In Parshotam Lal Dhingra v. Union of India (1), this Court held that Art. 311 was in the nature of a proviso to Art. 310, that it provides two constitutional guarantees cutting down the pleasure of the President or the Governor, as the case may be, and that it was a mandatory provision which had to be complied with before the pleasure provided in Art. 310 can be exercised. Mr. Pathak for the respondent urges that in view of the words of Art. 310 statute or statutory rules can also cut down the nature of the pleasure tenure provided by Art. 310 in the same way as in England an Act of Parliament cuts down the ambit of His Majesty’s pleasure in the matter of dismissal. He relies on the words \"as expressly provided by this Constitution\" and urges that it is open to the legisla- ture to cut down the pleasure tenure by law or to provide for its being affected by statutory rules. In this connection he relies on Art. 309 as well as Art. 154 of the Constitution. Now, Art. 309 begins with the words \"subject to the provisions of this Constitution\" land lays down that \"Acts of the appropriate Legislature may regulate the recruitment, and conditions of (1) [1958] S.C.R. 828. 720 service of person appointed, to public services and posts in connection with the affairs of the Union or of any State\". The proviso to Art. 309 lays down that \"it shall be competent for the President or the Governor as the case may be to make rules relating to recruitment and conditions of service until provision in that behalf is made by or under an Act of the appropriate Legislature\". It will be clear immediately that Art. 309 is subject to the provisions of the Constitution and therefore subject to Art. 310 and therefore, any law passed or rules framed under Art. 309 must be subject to Art. 310 and cannot in any way affect the pleasure-tenure laid down in Art. 310. The words \"except as expressly provided by this Constitution\" appearing in Art. 310 clearly show that the only exceptions to the pleasure tenure are those expressly contained in the Constitution and no more. These exceptions, for example, are contained inter alia in Arts. 124. 148, 280 and 324 and also in Art. 310 (2). Therefore, unless there is an express provision in the Constitution cutting down the pleasure tenure, every public servant holds office during the pleasure of the President or the Governor, as the case may be. We cannot accept the argument that a law passed under Art. 309 prescribing conditions of service would become an express provision of the Constitution and would thus cut down the pleasure tenure contained in Art. 310. As the Privy Council pointed in Venkata Rao’s case (1), the rules framed under Art. 309 or the laws passed thereunder amount to a statutory and solemn assurance that the tenure of office though at pleasure will not be subject to capricious or arbitrary action but will be regulated by rule. But if the rules or the law define the content of the guarantee contained in Art. 311 (2) they may to that extent be mandatory but only because they carry out the guarantee contained in Art. 311 (2). Excepting this, any law or rule framed under Art. 309 cannot cut down the pleasure tenure as provided in Art. 310. The same in our opinion applies to a law passed under Art. 154 (2)(b) which authorises Parliament or the legislature of a State to confer functions on any (1) (1936) L.R. 64 I.A. 55. 721 authority subordinate to the Governor. If any law is passed conferring on any authority the power to dismiss or remove or reduce in rank, that law cannot cut down the content of the pleasure tenure as contained in Art. 310; that law would be passed under Art. 245 and that article also begins with the words \"subject to the provisions of this Constitution\". Therefore, the law passed under Art. 154 (2) (b) would also in the same way as the law under Art. 309 be subject to the pleasure tenure contained in Art. 310 and cannot cut down the content of that tenure or impose any further fetters on it except those contained in Art. 311. The position therefore that emerges from the examination of the relevant Articles of the Constitution is that all public servants other than those who are excepted expressly by the provisions of the Constitution hold office during the pleasure of the President or the Governor, as the case may be, and that no law or rule passed or framed under Art. 309 or Art. 154 (2) (b) can cut down the content of the pleasure tenure as contained in Art. 310 subject to Art. 311. With this basic position in our Constitution, let us turn to the Police Act with which we are concerned. Section 7 thereof lays down that four grades of officers will have power to dismiss, suspend or reduce any police-officer of the subordinate ranks subject to such rules as the State Government may from time to time make under the Police Act. Though the Police Act is a pre-constitutional law which has continued under Art. 372 of the Constitution, it cannot in our opinion stand higher than a law passed under Art. 309 or Art. 154 (2) (b) and out down the content of the pleasure tenure as contained in Art. 310. The police officers of the subordinate ranks are not expressly excluded from the operation of the pleasure tenure by any provision of the Constitution; they, therefore, hold office during the pleasure of the Governor and the only protection that they can claim are the two guarantees contained in Art. 311. It is true that s. 7 lays down that the four grades of officers empowered to dismiss will act according to rules framed by the State Government; but that does not in our opinion mean that 722 these rules could introduce any further fetter on the pleasure tenure under which the police officers of the subordinate ranks are in service. It was necessary to provide for the framing of rules because the section envisages conferment of, powers of punishment of various kinds on four grades of officers relating to various cadres of police officers in the subordinate ranks. It was left to the rules to provide which four grades of officers would dismiss police officers of which subordinate rank or would give which punishment to a police officer of which subordinate rank. Such rules would in our opinion be mandatory as they go to the root of the jurisdiction of the four grades of police officers empowered to act under s. 7. But further rules may be framed under s. 7 to guide these police officers how to act when they proceed to dismiss or inflict any other punishment on police officers of the subordinate ranks. These rules of procedure, however, cannot all be mandatory, for if they were so they would be putting further fetters than those provided in Art. 311 on the pleasure of the Governor to dismiss a public servant. of course, if any of the rules framed under s. 7 carry out the purposes of Art. 311(2), to that extent they will be mandatory and in that sense their contravention would in substance amount to contravention of Art. 311 itself. If this were not so, it would be possible to forge further fetters on the pleasure of the Governor to dismiss a public servant and this in the light of what we have said above is clearly not possible in view of the provisions of the Constitution. On the other hand, it will not be possible by means of rules framed under s. 7 to take away the guarantee provided by Art. 311(1), which lays down that no public servant shall be dismissed by an authority subordinate to that by which he was appointed. If any rule under s. 7, for example, lays down otherwise it will clearly be ultra vires in view of Art. 311(1). The rules therefore that are framed under s. 7 would thus be of two kinds, namely (1) those which define the jurisdiction of four grades of officers to inflict a particular kind of punishment on a particular police officer of the subordinate rank-they will be mandatory 723 for they go to the root of the jurisdiction of the officer exercising the power, but even these rules cannot go against the provisions of Art. 31 1 (1); and (2) procedural rules, which again may be of two kinds. Some of them may prescribe the manner in which the guarantee contained in Art. 311 (2) may be carried out and if there are any such rules they will be mandatory. The rest will be merely procedural and can only be directory as otherwise if they are also mandatory further fetters on the power of the Governor to dismiss at his pleasure contained in Art. 310 would be forged and this is not permissible under the Constitution. It is from this angle that we shall have to consider 486. Before, however, we come to r. 486 itself, we may dispose of another argument, namely, that the four grades of officers who have the power to dismiss under s. 7 are exercising the statutory authority vested in them and are not exercising the Governor’s pleasure of dismissal under Art. 310 and therefore their action in dismissing an officer is subject to all the rules framed for their guidance. We are of opinion that this argument is fallacious. Article 310 defines the pleasure tenure and by necessary implication gives power to the Governor to dismiss at pleasure any public servant subject to the exceptions contained in Art. 310 and also subject to the guarantees contained in Art. 311. This power of the Governor to dismiss is executive power of the State and can be exercised under Art. 154(1) by the Governor himself directly or indirectly through officers subordinate to him. Thus it is open to the Governor to delegate his power of dismissal to officers subordinate to him; but even when those officers exercise the power of dismissal, the Governor is indirectly exercising it through those to whom he has delegated it and it is still the pleasure of the Governor to dismiss, which is being exercised by the subordinate officers to whom it may be delegated. Further though the Governor may delegate his executive power of dismissal at pleasure to subordinate officers he still retains in himself the power to dismiss at pleasure if he thinks fit in a particular case in spite 724 of the delegation. There can be no question that where a delegation is made, the authority making the delegation retains in itself what has been delegated. Therefore, even where a subordinate officer is exercising the power to dismiss he is indirectly exercising the power of the Governor to dismiss at pleasure and so his power of dismissal can only be subject to the same limitations to which the power of the Governor would be subject if he exercised it directly. But it is said that in the present case the power has not been delegated by the Governor under Art. 154(1) and that it had been conferred on those police officers by law. In our opinion, that makes no difference to the nature of the power, which is being exercised by these four grades of officers under the Police Act. As we have already said Art. 154(2)(b) gives power to Parliament or the legislature of a State by law to confer functions on any authority subordinate to the Governor. When the function of dismissal is conferred by law on any authority subordinate to the Governor it is nothing more than delegation of the Governor’s executive power to dismiss at pleasure by means of law and stands in no better position than a delegation by the Governor himself under Art. 154(1). Whether it is delegation by the Governor himself or whether it is delegation by law under Art. 154(2)(b) or by an existing law, which must be treated as analogous to a law under Art. 154(2)(b), the officer exercising the power of dismissal is only indirectly exercising, the Governor’s power to dismiss at pleasure and his order of dismissal has the same effect as the order of the Governor to dismiss at pleasure. Therefore, his order also is only subject to the two fetters provided in Art. 311 of the Constitution and cannot be subjected to any more fetters by procedural rules other than those framed for carrying out the object of Art. 311(2). Therefore, when the four grades of officers proceed to dismiss any police officer of the subordinate rank under s. 7 of the Police Act, they are merely exercising. the power of the Governor to dismiss at pleasure indirectly; and the only fetters that can be placed on that power are those contained in the Constitution, namely, Art. 311. 725 We may in this connection refer once again to the case of Venkata Rao (1) where the dismissal was by an, officer subordinate to the Governor of Madras; but’ that dismissal was also held to be an indirect exercise I of His Majesty’s pleasure to dismiss, and that is why it was held that if r. XIV of the Classification Rules was not complied with, a public servant had no right of action against an order dismissing him at His Majesty’s pleasure. Therefore, whenever a subordinate officer exercises the power to dismiss, whether that power is delegated by the Governor, or is delegated under a law made under Art. 154(2)(b) or under an existing law analogous to that, he is merely exercising indirectly the power of the Governor to dismiss at pleasure and his action -is subject only to the two guarantees contained in Art. 311. The fact therefore that the police officer in this case made the order of dismissal by virtue of s. 7 will make no difference and he will be deemed to be exercising the power of the Governor to dismiss at pleasure by delegation to him by law of that power. We may add that even where there is delegation by law of the power of the Governor to dismiss at pleasure, the power of the Governor himself to act directly and dismiss at pleasure cannot be taken away by that law, for that power he derives from Art. 310 of the Constitution. The present case therefore must be judged on the same basis as any case of dismissal directly by the Governor and would only be subject to the two limitations contained in Art. 311. We now come to r. 486. This rule, as we have already indicated, provides that if there is any complaint of the commission of any cognizable crime by a police officer, it must be registered in the relevant police station, under Chapter XIV of the Code of Criminal Procedure and investigated in the manner provided by that Chapter. After the investigation is complete, it is open to the authority concerned, be it the Superintendent of Police or the District Magistrate, to decide whether to proceed in a court of law (1) (1936) L.R. 64 I.A. 55. 92 726 or to hold a departmental inquiry or do both, though in the last case the departmental inquiry must take place only after the judicial trial is over. The first question then that arises is whether r. 486 is meant to carry out the purpose of Art. 311(2). As we read r. 486, we cannot see that it is meant for that purpose; it only provides for a police investigation under Chapter XIV of the Code of Criminal Procedure. The police officer making an investigation under Chapter XIV is not bound to examine the person against whom he is investigating, though there is nothing to prevent him from doing so. Nor is the person against whom an investigation is going on under Chapter XIV bound to make a statement to the police officer. In these circumstances, the purpose of an investigation under Chapter XIV is not relevant under Art. 311(2) which says that a public servant shall not be dismissed without giving him a reasonable opportunity of showing cause against the action proposed to be taken in regard to him. Therefore, r. 486 not being meant for the purpose of carrying out the object of Art. 311 (2) cannot be mandatory and cannot add a further fetter on the exercise of the power to dismiss or remove at the pleasure of the Governor over and above the guarantees contained in Art. 311. It appears to us that the object of r. 486 is that the authority concerned should first make a preliminary inquiry to find out if there is a case against the officer complained against either to proceed in a court or to take departmental action. The investigation prescribed by r. 486 is only for this purpose. Incidentally it may be that after such an investigation, the authority concerned may come to the conclusion that there in no case either’ to send the case to court or to hold a departmental inquiry. But that in our opinion is what would happen in any case of complaint against a public servant in any department of Government. No authority entitled to take action against a public servant would straightaway proceed to put the case in court or to hold a departmental inquiry. It seems to us axiomatic if a complaint is received against any public servant of any department, that the authority 727 concerned would first always make some kind of a preliminary inquiry to satisfy itself whether there is any case for taking action at all; but that is in our opinion for the satisfaction of the authority and has nothing to do with the protection afforded to a public servant under Art. 311. Rule 486 of the Police Regulations also in our opinion is meant for this purpose only and not meant to carry out the object contained in Art. 311(2). The opportunity envisaged by Art. 311(2) will be given to the public servant after the the authority has satisfied itself by preliminary inquiry that there is a case for taking action. Therefore, r. 486 which is only meant to gather materials for the satisfaction of the authority concerned, whether to take action or not, even though a statutory rule cannot be considered to be mandatory as that would be forging a further fetter than those contained in Art. 311 on the power of the Governor to dismiss at pleasure. We are therefore of opinion that r. 486 is only directory and failure to comply with it strictly or otherwise will not vitiate the subsequent proceedings. We may incidentally indicate two further aspects of the matter. In the first place, if the argument is that the Governor must exercise the pleasure himself so that only the two limitations provided in Art. 311 may come into play; it appears that the Governor has exercised his pleasure in this case inasmuch as he dismissed the revisional application made to him by the respondent. There appears no reason to hold that the Governor exercises his pleasure only when he passes the original order of dismissal but not otherwise. Secondly the fact that r. 486 contains the word \"shall\" is not decisive on the point that it is mandatory: (see Crawford on Statutory Construction, p. 519, para. 262). In view of what we have said already, the context shows that r. 486 can only be directory. If so, failure to observe it strictly or otherwise will not invalidate the subsequent departmental proceedings. This brings us to the last point which has been urged in this case; and that is whether there was substantial compliance with r. 486. We have already 728 pointed out that there was no strict compliance with r. 486 as no case wag registered on the complaint of Tika Ram and no investigation was made under Chapter XIV of the Code of Criminal Procedure. But there is no doubt in this case that before the Superintendent of Police gave the charge- sheet to the respondent in November, 1953, which was the beginning of the departmental proceedings against the respondent, he made a preliminary inquiry into the complaint of Tika Ram and was satisfied that there was a case for proceeding against the respondent departmentally. In these circumstances it appears to us that the spirit of r. 486 was substantially complied with and action was only taken against the respondent when on a preliminary inquiry the Superintendent of Police was satisfied that departmental action was necessary. Even if r. 486 had been strictly complied with, this is all that could have happened. In these circumstances we are of opinion that r. 486 which in our opinion is directory was substantially complied with in spirit and therefore the subsequent departmental proceedings cannot be held to be illegal, simply because there was no strict compliance with r. 486. The High Court therefore in our opinion was wrong in holding that the subsequent departmental inquiry was illegal and its order quashing the order of dismissal on this ground alone cannot be sustained. We would therefore allow the appeal. BY COURT-In accordance with the opinion of the majority, this appeal is dismissed with costs. 729'}"
            ]
          },
          "metadata": {},
          "execution_count": 31
        }
      ]
    },
    {
      "cell_type": "code",
      "source": [
        "decoded_output"
      ],
      "metadata": {
        "colab": {
          "base_uri": "https://localhost:8080/"
        },
        "id": "OHO90yt02Hef",
        "outputId": "4bd7ae2f-3024-49e8-dbb2-0455e4ee68a3"
      },
      "execution_count": null,
      "outputs": [
        {
          "output_type": "execute_result",
          "data": {
            "text/plain": [
              "['CIVIL APPELLATE JURISDICTION: Civil Appeal No. 1564 of 1966. Appeal by special leave from the judgment and order dated January 9, 1963 of the Allahabad High Court in Civil Misc. Case No. 1564 of 1966. Appeal by special leave from the judgment and order dated January 9, 1963 of the Allahabad High Court in Civil Misc. Case No. 1564 of 1966. M. C. Chagla and S. P. Nayar, for the appellants. A. V. Gupte, S. P. Nayar, for the respondents. The Judgment of the Court was delivered by Shah, J. This appeal by special leave is directed against the judgment of the Allahabad High Court in Civil Misc. Case No. 1564 of 1966. The respondents were tried to carry on business at the respondents. The respondents were carrying on business at the respondents. The respondents were carrying on business at the respondents. The respondents were carrying on business at the respondents. The respondents were carrying on business at the respondents. The respondents were carrying on business at the respondents. The respondents were carrying on business at the respondents. The respondents were carrying on business at the respondents. The respondents were carrying on business at the respondents. The respondents were carrying on business at the respondents were carrying on business at the respondents. The respondents were carrying on business at the respondents. The respondents were carrying on business at the respondents were carrying on business at the respondents. The respondents were carrying on business at the respondents. The respondents were carrying on business at the respondents were carrying on business at the respondents. The respondents were carrying on business at the respondents were carrying on business at the respondents. The respondents were carrying on business at the respondents. The respondents were carrying on business at the']"
            ]
          },
          "metadata": {},
          "execution_count": 30
        }
      ]
    },
    {
      "cell_type": "code",
      "source": [
        "reference = val_sample_text\n",
        "hypothesis = decoded_output[0]\n",
        "rouge_scores = calculate_rouge(reference, hypothesis)\n",
        "print(rouge_scores)"
      ],
      "metadata": {
        "colab": {
          "base_uri": "https://localhost:8080/"
        },
        "id": "VuAq897V2JWv",
        "outputId": "0a3396f6-6786-43cf-a8cb-c908c418c07a"
      },
      "execution_count": null,
      "outputs": [
        {
          "output_type": "stream",
          "name": "stdout",
          "text": [
            "{'rouge1': Score(precision=0.3559322033898305, recall=0.3387096774193548, fmeasure=0.34710743801652894), 'rouge2': Score(precision=0.16326530612244897, recall=0.1553398058252427, fmeasure=0.15920398009950246), 'rougeL': Score(precision=0.3050847457627119, recall=0.2903225806451613, fmeasure=0.2975206611570248)}\n"
          ]
        }
      ]
    },
    {
      "cell_type": "code",
      "source": [
        "val_sample=val_dataset[4]\n",
        "val_sample_inputs=tokenizer(val_sample['judgment'],return_tensors='tf',max_length=512, padding=\"max_length\", truncation=True)\n",
        "token_ids = val_sample_inputs['input_ids'].numpy().tolist()[0]\n",
        "val_sample_text = tokenizer.decode(token_ids)\n",
        "token_ids_tensor = tf.constant([token_ids])\n",
        "generated_ids = model.generate(token_ids_tensor,max_new_tokens=500)\n",
        "decoded_output = [tokenizer.decode(g, skip_special_tokens=True) for g in generated_ids]"
      ],
      "metadata": {
        "id": "9CNg5kls2nO_"
      },
      "execution_count": null,
      "outputs": []
    },
    {
      "cell_type": "code",
      "source": [
        "val_sample_text"
      ],
      "metadata": {
        "colab": {
          "base_uri": "https://localhost:8080/",
          "height": 174
        },
        "id": "UOgcK3r93HaG",
        "outputId": "bb036ced-6e04-44ec-b380-91fe36a224c3"
      },
      "execution_count": null,
      "outputs": [
        {
          "output_type": "execute_result",
          "data": {
            "text/plain": [
              "'CIVIL APPELLATE JURISDICTION: Civil Appeal No. 311 of 1959. Appeal from the judgment and order dated October 31, 1955, of the Travancore Cochin High Court, Ernakulam, in Original Petition No. 75 of 1955. A. N. Kripal and D. Gupta, for the appellant. Sardar Bahadur, for the respondent. 1960. December 13. The Judgment of the Court was delivered by 238 KAPUR, J.-This is an appeal pursuant to a certificate of the High Court of Kerala against the judgment and order of that court and the question for decision is the applicability of s. 35 of the Indian Income-tax Act (hereinafter termed the ’Act’). The facts which have given rise to the appeal are these: The respondent is a limited company which owns a spinning mills at Alwaye. It commenced business in January, 1951, and its first accounting year ended on December 31, 1951, and the relevant assessment year is 1952-53. It filed its return showing an income Rs. 3,21,284 without taking into account the amount allowable under s. 15C of the Act. On February 2, 1953, the net assessable income of the respondent was determined at Rs. 1,47,083 after deducting Rs. 1,79,081 under s. 15C. The respondent however declared a dividend of Rs. 4,72,415 which attracted the application of s. 2 of the Finance Act, 1952, read with Part B, proviso (ii) of First Schedule and thus it became liable to the payment of additional income tax and this fact was overlooked by the Income-tax Officer. After giving notice under s. 35 of the Act, the Income-tax Officer by an order dated January 25, 1954, rectified this error and imposed an additional tax at the rate of one anna in the rupee. He later discovered that this was also erroneous and the rate should have been 5 annas in a rupee. By an order dated August 12, 1954, he rectified the error. Under s. 18A, advance</s>'"
            ],
            "application/vnd.google.colaboratory.intrinsic+json": {
              "type": "string"
            }
          },
          "metadata": {},
          "execution_count": 34
        }
      ]
    },
    {
      "cell_type": "code",
      "source": [
        "decoded_output"
      ],
      "metadata": {
        "colab": {
          "base_uri": "https://localhost:8080/"
        },
        "id": "EPzf60Iw3jXp",
        "outputId": "85ebf863-d96e-4def-f691-36daf36a3658"
      },
      "execution_count": null,
      "outputs": [
        {
          "output_type": "execute_result",
          "data": {
            "text/plain": [
              "['CIVIL APPELLATE JURISDICTION: Civil Appeal No. 88 of 1957. Appeal by special leave from the judgment and order dated January 25, 1955, of the Kerala High Court in Income-tax Reference No. 88 of 1955. Appeal from the judgment and order dated January 25, 1955, of the Kerala High Court in Income-tax Reference No. 88 of 1955. Appeal from the judgment and order dated January 25, 1955, of the High Court of Judicature at Madras in Income-tax Reference No. 88 of 1955. Appeal No. 88 of 1955. Appeal by special leave from the judgment and order dated January 25, 1955, of the Income-tax Appellate Tribunal, Madras, in Income-tax Reference No. 88 of 1955. Appeal No. 88 of 1955. Appeal No. 88 of 1955. Appeal No. 88 of 1955. Appeal No. 88 of 1955. Appeal No. 88 of 1955. Appeal No. 88 of 1955. Appeal No. 88 of 1955. Appeal No. 88 of 1955. Appeal No. 88 of 1955. Appeal No. 88 of 1955. Appeal No. 88 of 1955. Appeal No. 88 of 1955. Appeal No. 88 of 1955. Appeal No. 88 of 1955. Appeal No. 88 of 1955. Appeal No. 88 of 1955. Appeal No. 88 of 1955. Appeal No. 88 of 1955. Appeal No. 88 of 1955. Appeal No. 88 of 1955. Appeal No. 88 of 1955. Appeal No. 88 of 1955. Appeal No. 88 of 1955. Appeal No. 88 of 1955. Appeal No. 88 of 1955. Appeal No. 88 of 1955. Appeal No. 88 of 1955. Appeal No. 88 of 1955. Appeal No. 88 of 1955. Appeal No. 88 of 1955. Appeal No. 88 of 1955. Appeal No. 88 of 1955. Appeal No. 88 of 1955. Appeal by special leave from the judgment and']"
            ]
          },
          "metadata": {},
          "execution_count": 35
        }
      ]
    },
    {
      "cell_type": "code",
      "source": [
        "reference = val_sample_text\n",
        "hypothesis = decoded_output[0]\n",
        "rouge_scores = calculate_rouge(reference, hypothesis)\n",
        "print(rouge_scores)"
      ],
      "metadata": {
        "colab": {
          "base_uri": "https://localhost:8080/"
        },
        "id": "Av9zm8it3mZg",
        "outputId": "3f07d994-343a-4f6c-9010-3b0fc6c63ece"
      },
      "execution_count": null,
      "outputs": [
        {
          "output_type": "stream",
          "name": "stdout",
          "text": [
            "{'rouge1': Score(precision=0.28620689655172415, recall=0.25227963525835867, fmeasure=0.2681744749596123), 'rouge2': Score(precision=0.11764705882352941, recall=0.10365853658536585, fmeasure=0.11021069692058345), 'rougeL': Score(precision=0.1896551724137931, recall=0.16717325227963525, fmeasure=0.17770597738287558)}\n"
          ]
        }
      ]
    },
    {
      "cell_type": "code",
      "source": [
        "val_sample=val_dataset[5]\n",
        "val_sample_inputs=tokenizer(val_sample['judgment'],return_tensors='tf',max_length=512, padding=\"max_length\", truncation=True)\n",
        "token_ids = val_sample_inputs['input_ids'].numpy().tolist()[0]\n",
        "val_sample_text = tokenizer.decode(token_ids)\n",
        "token_ids_tensor = tf.constant([token_ids])\n",
        "generated_ids = model.generate(token_ids_tensor,max_new_tokens=500)\n",
        "decoded_output = [tokenizer.decode(g, skip_special_tokens=True) for g in generated_ids]"
      ],
      "metadata": {
        "id": "pNJiiuX73za9"
      },
      "execution_count": null,
      "outputs": []
    },
    {
      "cell_type": "code",
      "source": [
        "val_sample_text"
      ],
      "metadata": {
        "colab": {
          "base_uri": "https://localhost:8080/",
          "height": 295
        },
        "id": "URypUPLu4KIL",
        "outputId": "263840e8-f2b1-4bd1-f435-cd05db8586fe"
      },
      "execution_count": null,
      "outputs": [
        {
          "output_type": "execute_result",
          "data": {
            "text/plain": [
              "'CIVIL APPELLATE JURISDICTION: Civil Appeals Nos. 98 and 99 of 1957. Appeals from the judgment and order dated August 31, 1954, of the Madhya Pradesh High Court in Civil Misc. Case No. 9 of 1953. R. Ganapathi Iyer and D. Gupta, for the appellant in C. A. No. 98 of 1957 and respondents in C. A. No. 99 of 1957. S. K. Kapur and Naunit Lal, for the respondents in C. A. No. 98 of 1957 and appellant in C. k. No. 99 of 1957. 1960. November 30. The Judgment of the Court was delivered by. MUDHOLKAR, J.-These are cross appeals from two judgments of the erstwhile High Court of Madhya Bharat. Both of them arise out of a writ petition presented by the Gwalior Sugar Company Ltd., who are respondents in C. A. 98 of 1957, in which they challenged the validity of the levy of a cess on sugarcane purchased by the respondents. The grounds on which the validity of the cess is challenged are two. The first ground is that it was not levied under any law and the second ground is that it is discriminatory against the respondents. In order to appreciate these contentions it is necessary to set out certain facts. In the year 1940 in pursuance of an agreement entered into between the Government of Gwalior State and Sir Homi Mehta and others a sugar factory was established at Dabra. The name of that factory is The Gwalior Sugar Co., Ltd. On June 20, 1946, the Maharaja Scindia, the ruler of Gwalior State constituted a Committee to consider the desirability of imposing a \"cane cess on the lines of the United Provinces or Bihar and to recommend a procedure for fixation of sugar prices within the terms of the agreement subsisting between the Government and the factory\". The Report of the 621 Committee was submitted to the Maharaja by the Chairman on July 23, 1946. In their report the Committee observed that in order to put the industry on a sure and stable footing it</s>'"
            ],
            "application/vnd.google.colaboratory.intrinsic+json": {
              "type": "string"
            }
          },
          "metadata": {},
          "execution_count": 38
        }
      ]
    },
    {
      "cell_type": "code",
      "source": [
        "decoded_output"
      ],
      "metadata": {
        "colab": {
          "base_uri": "https://localhost:8080/"
        },
        "id": "hnlMQnGe4pgi",
        "outputId": "d5db01cc-c3d0-4819-cc53-384d233a5f76"
      },
      "execution_count": null,
      "outputs": [
        {
          "output_type": "execute_result",
          "data": {
            "text/plain": [
              "['CIVIL APPELLATE JURISDICTION: Civil Appeal No. 88 of 1957. Appeal by special leave from the judgment and order dated July 23, 1957, of the Madhya Pradesh High Court in C. Appeal No. 88 of 1957. M. C. Setalvad, Attorney-General for India (G. N. Joshi and S. P. Nayar, for the appellant. M. C. Setalvad, Attorney-General for India (G. N. Joshi and S. P. Nayar, for the respondents. The Judgment of the Court was delivered by Shah, J. This appeal by special leave is directed against the respondents. The appellant is the respondents in C. A. No. 88 of 1957. The appellant is the respondents in C. A. No. 88 of 1957. The appellant is the respondents in C. A. No. 88 of 1957. The appellant is the respondents in C. A. No. 88 of 1957. The appellant is the respondents in C. A. No. 88 of 1957. The appellant is the respondents in C. A. No. 88 of 1957. The appellant is the respondents in C. A. No. 88 of 1957. The appellant is the respondents in C. A. No. 88 of 1957. The appellant is the respondents in C. A. No. 88 of 1957. The appellant is the respondents in C. A. No. 88 of 1957. The appellant is the respondents in C. A. No. 88 of 1957. The appellant is the respondents in C. A. No. 88 of 1957. The appellant is the respondents in C. A. No. 88 of 1957. The appellant is the respondents in C. A. No. 88 of 1957. The appellant is the respondents in C. A. No. 88 of 1957. The appellant is the respondents in C. A. No. 88 of 1957. The appellant is the respondents in C. A. No. 88 of 1957']"
            ]
          },
          "metadata": {},
          "execution_count": 39
        }
      ]
    },
    {
      "cell_type": "code",
      "source": [
        "reference = val_sample_text\n",
        "hypothesis = decoded_output[0]\n",
        "rouge_scores = calculate_rouge(reference, hypothesis)\n",
        "print(rouge_scores)"
      ],
      "metadata": {
        "colab": {
          "base_uri": "https://localhost:8080/"
        },
        "id": "bFXZDHrI4rU6",
        "outputId": "d19cd6ae-0452-4815-efa9-36c98d54a5e5"
      },
      "execution_count": null,
      "outputs": [
        {
          "output_type": "stream",
          "name": "stdout",
          "text": [
            "{'rouge1': Score(precision=0.4880546075085324, recall=0.41690962099125367, fmeasure=0.449685534591195), 'rouge2': Score(precision=0.18835616438356165, recall=0.1608187134502924, fmeasure=0.17350157728706625), 'rougeL': Score(precision=0.3515358361774744, recall=0.30029154518950435, fmeasure=0.3238993710691823)}\n"
          ]
        }
      ]
    },
    {
      "cell_type": "code",
      "source": [],
      "metadata": {
        "id": "UTMmZ6G34-O7"
      },
      "execution_count": null,
      "outputs": []
    }
  ]
}